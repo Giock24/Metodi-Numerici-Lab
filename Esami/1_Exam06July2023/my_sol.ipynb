{
 "cells": [
  {
   "cell_type": "code",
   "execution_count": 80,
   "id": "f6307f3b-2b9b-4f91-9048-74f4d10994a5",
   "metadata": {
    "tags": []
   },
   "outputs": [
    {
     "name": "stdout",
     "output_type": "stream",
     "text": [
      "120.6148722322323\n",
      "(10, 10)\n",
      "[[1.]\n",
      " [1.]\n",
      " [1.]\n",
      " [1.]\n",
      " [1.]\n",
      " [1.]\n",
      " [1.]\n",
      " [1.]\n",
      " [1.]\n",
      " [1.]]\n"
     ]
    }
   ],
   "source": [
    "from scipy.io import loadmat\n",
    "import numpy as np\n",
    "import matplotlib.pyplot as plt\n",
    "import SolveTriangular\n",
    "from scipy.linalg import lu\n",
    "\n",
    "# Esercizio 1\n",
    "\n",
    "dati = loadmat('Test_I.mat')\n",
    "A1=dati[\"A1\"] \n",
    "A1=A1.astype(float)\n",
    "b1=dati[\"b1\"]\n",
    "b1=b1.astype(float)\n",
    "A2=dati[\"A2\"] \n",
    "A2=A2.astype(float)\n",
    "b2=dati[\"b2\"]\n",
    "b2=b2.astype(float)\n",
    "A3=dati[\"A3\"] \n",
    "A3=A3.astype(float)\n",
    "b3=dati[\"b3\"]\n",
    "b3=b3.astype(float)\n",
    "\n",
    "print(np.linalg.cond(A1)) # è ben condizionata\n",
    "print(A1.shape) # di piccole dimensioni e quadrata\n",
    "#plt.spy(A1) # è densa\n",
    "\n",
    "# A1 fattorizzazione di Gauss\n",
    "\n",
    "def gauss(A, b):\n",
    "    PT, L, U = lu(A)\n",
    "    P = PT.T\n",
    "    \n",
    "    y, flag = SolveTriangular.Lsolve(L, P@b)\n",
    "    x, flag = SolveTriangular.Usolve(U, y)\n",
    "    \n",
    "    return x\n",
    "    \n",
    "print(gauss(A1,b1))"
   ]
  },
  {
   "cell_type": "code",
   "execution_count": 51,
   "id": "203d36a8-f39c-4580-8740-45c47649064c",
   "metadata": {
    "tags": []
   },
   "outputs": [
    {
     "name": "stdout",
     "output_type": "stream",
     "text": [
      "10000.00000000046\n",
      "(25, 10)\n",
      "10\n",
      "[[1.]\n",
      " [1.]\n",
      " [1.]\n",
      " [1.]\n",
      " [1.]\n",
      " [1.]\n",
      " [1.]\n",
      " [1.]\n",
      " [1.]\n",
      " [1.]]\n",
      "1.1534779622924033e-28\n",
      "[  6.23782704   4.86268677   3.21351684   0.24100578  15.07163089\n",
      "   9.29180924 -11.83033918  -5.03209313 -11.61958462 -15.81234995]\n",
      "\n",
      "[  6.30020532   4.91131364   3.24565201   0.24341584  15.2223472\n",
      "   9.38472734 -11.94864257  -5.08241406 -11.73578046 -15.97047345]\n",
      "[[1.41112853]\n",
      " [1.24222612]\n",
      " [1.38041873]\n",
      " [0.52109225]\n",
      " [0.95648104]\n",
      " [1.05350894]\n",
      " [0.97066981]\n",
      " [0.44371956]\n",
      " [1.31078387]\n",
      " [1.26567105]]\n",
      "Perturbazione sui dati del  0.28561687824214066 %\n",
      "Errore del risultato  32.92421943558263 %\n"
     ]
    }
   ],
   "source": [
    "from scipy.linalg import qr\n",
    "\n",
    "print(np.linalg.cond(A2)) # mediamete mal condizionata\n",
    "print(A2.shape) # piccole dimensioni ma non quadrata\n",
    "print(np.linalg.matrix_rank(A2))  # ha rango massimo\n",
    "\n",
    "\n",
    "# A2 metodo qrls\n",
    "def qrLS(A,b):\n",
    "#Risolve un sistema sovradeterminato con il metodo QR-LS\n",
    "    n=A.shape[1]  # numero di colonne di A\n",
    "    Q,R=qr(A)\n",
    "    h=Q.T@b\n",
    "    x,flag=SolveTriangular.Usolve(R[:n,:n],h[:n])\n",
    "    residuo=np.linalg.norm(h[n:])**2\n",
    "    return x,residuo\n",
    "\n",
    "x, res = qrLS(A2,b2)\n",
    "print(x)\n",
    "print(res)\n",
    "\n",
    "# perturbo A2\n",
    "A2p = A2.copy()\n",
    "A2p[0,:] = A2p[0,:] * 1.010\n",
    "print(A2[0,:])\n",
    "print()\n",
    "print(A2p[0,:])\n",
    "\n",
    "x2, res2 = qrLS(A2p,b2)\n",
    "print(x2)\n",
    "print(\"Perturbazione sui dati del \", (np.linalg.norm(A2p-A2)/np.linalg.norm(A2))*100,'%')\n",
    "print(\"Errore del risultato \", (np.linalg.norm(x2-x)/np.linalg.norm(x))*100,'%')"
   ]
  },
  {
   "cell_type": "code",
   "execution_count": 32,
   "id": "b5727c3e-538e-408c-a28d-ac42edaeac05",
   "metadata": {
    "tags": []
   },
   "outputs": [
    {
     "name": "stdout",
     "output_type": "stream",
     "text": [
      "103.08686891981725\n",
      "(225, 225)\n",
      "True\n",
      "True\n",
      "29\n",
      "Velocità di convergenza del coniugato:  0.8206787908286601\n"
     ]
    },
    {
     "data": {
      "image/png": "[encoded data removed]",
      "text/plain": [
       "<Figure size 640x480 with 1 Axes>"
      ]
     },
     "metadata": {},
     "output_type": "display_data"
    }
   ],
   "source": [
    "print(np.linalg.cond(A3)) # è ben condizionata\n",
    "print(A3.shape) # grandi dimensioni e quadrata\n",
    "plt.spy(A3) # è sparsa\n",
    "#print(b3) # non ha diagonale strettamente dominante\n",
    "print(A3.all() == A3.T.all()) # è simmetrica\n",
    "autovalori = np.linalg.eigvals(A3)\n",
    "print(autovalori.all() > 0) # è definita positiva\n",
    "\n",
    "# tra i diversi metodi uso quello del coniugato perchè è tra i più veloci che si\n",
    "# può usare in base alle proprietà definità prima\n",
    "# A3 metodo del gradiente coniugato\n",
    "\n",
    "def conjugate_gradient(A,b,x0,itmax,tol):\n",
    "    n,m=A.shape\n",
    "    if n!=m:\n",
    "        print(\"Matrice non quadrata\")\n",
    "        return [],[]\n",
    "    \n",
    "\n",
    "   # inizializzare le variabili necessarie\n",
    "    x = x0\n",
    "    \n",
    "    r = A@x-b\n",
    "    p = -r\n",
    "    it = 0\n",
    "    nb=np.linalg.norm(b)\n",
    "    errore=np.linalg.norm(r)/nb\n",
    "    vec_sol=[]\n",
    "    vec_sol.append(x0)\n",
    "    vet_r=[]\n",
    "    vet_r.append(errore)\n",
    "    # utilizzare il metodo del gradiente coniugato per calcolare la soluzione\n",
    "    while errore >= tol and it< itmax:\n",
    "        it=it+1\n",
    "        Ap=A@p\n",
    "        alpha = (r.T@r)/(Ap.T@p)\n",
    "        x = x + alpha*p\n",
    "        vec_sol.append(x)\n",
    "        rtr_old=r.T@r\n",
    "        r=r+alpha*Ap\n",
    "        gamma= (r.T@r)/(rtr_old)\n",
    "        errore=np.linalg.norm(r)/nb\n",
    "        vet_r.append(errore)\n",
    "        p =  -r + gamma*p\n",
    "   \n",
    "    \n",
    "    return x,vet_r,vec_sol,it\n",
    "\n",
    "x0 = np.zeros_like(b3)\n",
    "itmax = 500\n",
    "tol = 1e-8\n",
    "\n",
    "x,vet_r,vec_sol,it = conjugate_gradient(A3,b3,x0,itmax,tol)\n",
    "print(it)\n",
    "vel_con = ((np.sqrt(np.linalg.cond(A3))-1)/(np.sqrt(np.linalg.cond(A3))+1))*vet_r[0]\n",
    "print(\"Velocità di convergenza del coniugato: \", vel_con)"
   ]
  },
  {
   "cell_type": "code",
   "execution_count": 85,
   "id": "5b9e187a-1407-4d08-b225-3e5f3fffe50c",
   "metadata": {
    "tags": []
   },
   "outputs": [
    {
     "name": "stdout",
     "output_type": "stream",
     "text": [
      "[-5. -4. -3. -2. -1.  0.  1.  2.  3.  4.  5.  6.  7.  8.  9.]\n",
      "[1001.35803223  262.26043701   59.60464478   17.88139343    2.98023224\n",
      "    1.49011612    0.            0.            0.            0.\n",
      "    0.            0.            0.            0.            0.        ]\n"
     ]
    }
   ],
   "source": [
    "# Esercizio 2\n",
    "import sympy as sym\n",
    "import sympy.utilities.lambdify as lambdify\n",
    "x = sym.symbols('x')\n",
    "c = sym.symbols('c')\n",
    "# Delta = b**2 - 4ac => -b +- sqrt(b**2 - 2c)/2a => -b +- sqrt(b**2 - 2*c)\n",
    "\n",
    "x1 = -b + sym.sign(b)*sym.sqrt(b**2 - 2*c)\n",
    "x2 = -b - sym.sign(b)*sym.sqrt(b**2 - 2*c)\n",
    "pr = c*2\n",
    "\n",
    "x1d = sym.diff(x1, c)\n",
    "x2d = sym.diff(x2, c)\n",
    "\n",
    "i = np.array(np.arange(-5,10),dtype=float)\n",
    "print(i)\n",
    "a = 1/2\n",
    "b = 10**8\n",
    "vetc = 2**-i\n",
    "\n",
    "x1_b = x1.subs(b,10**8)\n",
    "x1d_b = x1d.subs(b,10**8)\n",
    "x2_b = x2.subs(b,10**8)\n",
    "x2_b = x2d.subs(b,10**8)\n",
    "\n",
    "#x1 = (-b + (np.sqrt(b**2 - 4*a*c)))/(2*a)\n",
    "#x2 =(-b - (np.sqrt(b**2 - 4*a*c)))/(2*a)\n",
    "#x1_alter = c/(a*x2)\n",
    "\n",
    "x1_num = lambdify(c,x1_b,np)\n",
    "x1d_num = lambdify(c,x1d_b,np)\n",
    "\n",
    "x2_num = lambdify(c,x2_b,np)\n",
    "x2d_num = lambdify(c,x2d_b,np)\n",
    "\n",
    "sol1 = x1_num(vetc) \n",
    "sol2 = x2_num(vetc)\n",
    "cond1 = np.abs(x1_num(vetc)*vetc/x1d_num(vetc))\n",
    "\n",
    "print(cond1)\n",
    "\n",
    "#all_ris = np.zeros((2,len(i)))\n",
    "#all_ris[0,:] = x1\n",
    "#all_ris[1,:] = x2\n",
    "#print(all_ris)\n",
    "#print(x1_alter)\n",
    "\n"
   ]
  },
  {
   "cell_type": "code",
   "execution_count": null,
   "id": "4d7e6953-59ed-4872-a226-f9a0cf2bcab6",
   "metadata": {},
   "outputs": [],
   "source": []
  },
  {
   "cell_type": "code",
   "execution_count": null,
   "id": "a202dea4-5975-473b-8d16-9894fb9856e4",
   "metadata": {
    "tags": []
   },
   "outputs": [],
   "source": []
  },
  {
   "cell_type": "code",
   "execution_count": null,
   "id": "5871cdd0-caab-401c-9fe2-4f90d1f98b42",
   "metadata": {},
   "outputs": [],
   "source": []
  }
 ],
 "metadata": {
  "kernelspec": {
   "display_name": "Python 3 (ipykernel)",
   "language": "python",
   "name": "python3"
  },
  "language_info": {
   "codemirror_mode": {
    "name": "ipython",
    "version": 3
   },
   "file_extension": ".py",
   "mimetype": "text/x-python",
   "name": "python",
   "nbconvert_exporter": "python",
   "pygments_lexer": "ipython3",
   "version": "3.11.5"
  }
 },
 "nbformat": 4,
 "nbformat_minor": 5
}
