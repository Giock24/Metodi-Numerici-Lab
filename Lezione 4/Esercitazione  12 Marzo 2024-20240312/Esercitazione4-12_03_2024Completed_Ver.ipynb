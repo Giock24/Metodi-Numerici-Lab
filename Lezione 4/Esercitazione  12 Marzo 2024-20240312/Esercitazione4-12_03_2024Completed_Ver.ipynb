{
 "cells": [
  {
   "cell_type": "markdown",
   "id": "b97be3ab-d6dd-495f-a342-e5e837cfb8bc",
   "metadata": {},
   "source": [
    "#                       Esercitazione 4 - 12 Marzo 2023"
   ]
  },
  {
   "cell_type": "markdown",
   "id": "8c87694a-727f-410f-a307-3f35f0dcc933",
   "metadata": {},
   "source": [
    "Esplorate le caratteristiche dell'insieme dei numeri di macchina F($\\beta$,t,L,U) sul vostro calcolatore utilizzando il comando sys.float_info, dopo aver importato im modulo sys:\n",
    "\n",
    "import sys\n",
    "\n",
    "print(sys.float_info)"
   ]
  },
  {
   "cell_type": "code",
   "execution_count": 3,
   "id": "41befe1d-4b51-40b3-a8bc-db8b2d2b886e",
   "metadata": {
    "tags": []
   },
   "outputs": [
    {
     "name": "stdout",
     "output_type": "stream",
     "text": [
      "sys.float_info(max=1.7976931348623157e+308, max_exp=1024, max_10_exp=308, min=2.2250738585072014e-308, min_exp=-1021, min_10_exp=-307, dig=15, mant_dig=53, epsilon=2.220446049250313e-16, radix=2, rounds=1)\n"
     ]
    }
   ],
   "source": [
    "import sys\n",
    "import numpy as np\n",
    "print(sys.float_info)"
   ]
  },
  {
   "cell_type": "markdown",
   "id": "82c24c2e-15d3-4e96-8436-8a2c4b01011b",
   "metadata": {},
   "source": [
    "min_exp=-1021   (L=-1021-1=-1022)\n",
    "\n",
    "max_exp=1024    (U=1024-1=1023)\n",
    "\n",
    "mant_dig=53 (incluso l'hidden bit)\n",
    "\n",
    "dig=15, significa che i numeri \"float\" vengono convertiti in stringhe con un massimo di 15 cifre decimali. Le cifre decimali oltre la quindicesima vengono eliminate (troncate). (solo a livello di stringa visualizzata)"
   ]
  },
  {
   "cell_type": "markdown",
   "id": "224ac7e6-31df-4f15-8ffc-9c82bd21c82e",
   "metadata": {},
   "source": [
    "- **1.**  Calcolare lo spacing in  $[2^{52}, 2^{53}]$.\n",
    "    - Sia $x=2^{52}$ individuare il numero successivo a $2^{52}$ ed assegnarlo ad una variabile  y.\n",
    "    - Cosa succede se consideriamo il valore z=x+0.5?\n",
    "    - Cosa succede se consideriamo il valore q=y+0.5?\n",
    "  "
   ]
  },
  {
   "cell_type": "code",
   "execution_count": 4,
   "id": "f49735b3-73e3-496a-80c6-71271a2c04df",
   "metadata": {
    "tags": []
   },
   "outputs": [
    {
     "name": "stdout",
     "output_type": "stream",
     "text": [
      "1\n",
      "1.0\n",
      "y = 4503599627370497\n",
      "x =  4503599627370496\n",
      "z =  4503599627370496.0\n",
      "q =  4503599627370498.0\n",
      "4503599627370497\n"
     ]
    }
   ],
   "source": [
    "x = 2**52\n",
    "spacing = 2**(52+1-53)\n",
    "print(spacing)\n",
    "# altro modo per calcolare lo spacing\n",
    "print(np.spacing(2**52))\n",
    "y = x + spacing\n",
    "z = x + 0.5\n",
    "q = y + 0.5\n",
    "print(\"y =\", y)\n",
    "print(\"x = \",x)\n",
    "# vediamo che non c'è troppa differenza nel numero perchè l'ho sommato a qualcosa minore dello spacing\n",
    "print(\"z = \",z)\n",
    "print(\"q = \",q)\n",
    "\n",
    "val_suc = x+spacing\n",
    "print(val_suc)"
   ]
  },
  {
   "cell_type": "markdown",
   "id": "c73d1758-eb82-48af-8618-6dfb522dcdd6",
   "metadata": {},
   "source": [
    "- **2** Calcolare la cardinalità dell'insieme dei numeri finiti di Python"
   ]
  },
  {
   "cell_type": "code",
   "execution_count": 1,
   "id": "502d87ed-c42d-4297-a89b-3c2e8d03f5e7",
   "metadata": {
    "tags": []
   },
   "outputs": [
    {
     "name": "stdout",
     "output_type": "stream",
     "text": [
      "18428729675200069633\n"
     ]
    }
   ],
   "source": [
    "B = 2\n",
    "t = 53\n",
    "min_exp = -1022\n",
    "max_exp = 1023\n",
    "num_F = 2*(B-1)*B**(t-1)*(max_exp-min_exp+1)+1\n",
    "print(num_F)"
   ]
  },
  {
   "cell_type": "markdown",
   "id": "cee853bd-aca6-47f4-980f-7e44473f7523",
   "metadata": {},
   "source": [
    "- **3**  Verificare numericamente che $\\texttt{eps} = 2^{-52}$, spacing nell'intervallo $[1, 2]$,\n",
    "è il piu' piccolo $x$ tale che $fl(1 + x)$ è  diverso da $1$. \n"
   ]
  },
  {
   "cell_type": "code",
   "execution_count": 18,
   "id": "973527a2-7cb1-4c2a-a2e5-bcbc29d1f6c6",
   "metadata": {
    "tags": []
   },
   "outputs": [
    {
     "name": "stdout",
     "output_type": "stream",
     "text": [
      "1.0000000000000002\n"
     ]
    }
   ],
   "source": [
    "esp = 2**-52\n",
    "a = 1\n",
    "b = 2\n",
    "print(a+esp)"
   ]
  },
  {
   "cell_type": "markdown",
   "id": "35d7206c-f742-4616-b92c-91b37127a4d3",
   "metadata": {},
   "source": [
    "- **4** Costruire un numpy array costituito da n=10 valori tutti uguali a 0.1\n",
    "-     Effettuate la somma utilizzando un ciclo for.\n",
    "-     Effettuate la somma effettuando la somma con la funzione sum del modulo numpy.\n",
    "  Cosa osservate? Cercate di giustificare i risultati "
   ]
  },
  {
   "cell_type": "code",
   "execution_count": 26,
   "id": "390c9c22-7b85-4afc-873e-a65ddfe00039",
   "metadata": {
    "tags": []
   },
   "outputs": [
    {
     "name": "stdout",
     "output_type": "stream",
     "text": [
      "Fatto con il for:  0.9999999999999999\n",
      "Fatto con numpy: 1.0\n"
     ]
    }
   ],
   "source": [
    "arr = [0.1 for x in range(10)]\n",
    "sum = 0\n",
    "for elem in arr:\n",
    "    sum += elem\n",
    "print(\"Fatto con il for: \",sum)\n",
    "print(\"Fatto con numpy:\",np.sum(arr))\n",
    "# Osservo che facendolo con il for sia come ris 0,9 periodico\n",
    "# mentre, con la funzione sia come ris 1"
   ]
  },
  {
   "cell_type": "markdown",
   "id": "d19cd104-d1ea-4444-996c-0a9672063450",
   "metadata": {},
   "source": [
    "- **5.** Siano $a=1.234567890123400 e+15$, $b=-1.234567890123401 e+15$, $c=0.06$. \n",
    "  Calcolare $(a+b)+c$, $(a+c)+b$, $a+(b+c)$. Che cosa si osserva? Ripetere l'esercizio con $a=0.23371258 e-4$, $b=0.33678429 e+2$, $c=-0.33677911 e+2$."
   ]
  },
  {
   "cell_type": "code",
   "execution_count": 34,
   "id": "254aa71f-f2a8-4ec9-902c-d2e36c549a2e",
   "metadata": {
    "tags": []
   },
   "outputs": [
    {
     "name": "stdout",
     "output_type": "stream",
     "text": [
      "(a + b) + c =  -0.94\n",
      "(a + c) + b =  -1.0\n",
      "a + ( b + c ) =  -1.0\n",
      "(a + b) + c =  0.0005413712580022434\n",
      "(a + c) + b =  0.0005413712580022434\n",
      "a + ( b + c ) =  0.0005413712579995743\n"
     ]
    }
   ],
   "source": [
    "a=1.234567890123400e+15\n",
    "b=-1.234567890123401e+15\n",
    "c=0.06\n",
    "print(\"(a + b) + c = \", (a + b) + c)\n",
    "print(\"(a + c) + b = \", (a + c) + b)\n",
    "print(\"a + ( b + c ) = \", a + ( b + c ) )\n",
    "\n",
    "\n",
    "a=0.23371258e-4\n",
    "b=0.33678429e+2 \n",
    "c=-0.33677911e+2\n",
    "print(\"(a + b) + c = \", (a + b) + c)\n",
    "print(\"(a + c) + b = \", (a + c) + b)\n",
    "print(\"a + ( b + c ) = \", a + ( b + c ) )\n"
   ]
  },
  {
   "cell_type": "markdown",
   "id": "960d25c1-9677-4b1e-92c1-c16870d520b6",
   "metadata": {},
   "source": [
    "- **6.** Si considerino le espressioni $y_1=\\sqrt{x^2+1}-x$ e $y_2=\\frac{1}{\\sqrt{x^2+1}+x}$. Calcolare il valore di $y_1$ e $y_2$ per $x=7777$ e $x=77777777$. Che cosa si osserva? Commentare i risultati ottenuti."
   ]
  },
  {
   "cell_type": "code",
   "execution_count": 41,
   "id": "a82d2730-6da5-4609-bcbf-0b88f18d5457",
   "metadata": {
    "tags": []
   },
   "outputs": [
    {
     "name": "stdout",
     "output_type": "stream",
     "text": [
      "6.429214317904552e-05\n",
      "6.429214323431402e-05\n",
      "0.0\n",
      "6.428571492857143e-09\n"
     ]
    }
   ],
   "source": [
    "x = 7777\n",
    "y1 = np.sqrt((x**2) + 1) - x\n",
    "y2 = 1 / (np.sqrt((x**2) + 1) + x)\n",
    "print(y1)\n",
    "print(y2)\n",
    "\n",
    "x = 77777777\n",
    "y1 = np.sqrt((x**2) + 1) - x\n",
    "y2 = 1 / (np.sqrt(x**(2) + 1) + x)\n",
    "#print(np.sqrt(4))\n",
    "print(y1)\n",
    "print(y2)"
   ]
  },
  {
   "cell_type": "markdown",
   "id": "e3d8c3b3-d514-41ec-a6f2-eb22311ab157",
   "metadata": {},
   "source": [
    "- **7.** Valutare in aritmetica floating point l'espressione\n",
    "$$A(x)=\\frac{1}{x}-\\frac{1}{(x+1)}$$  nel vettore   $x=[10^0, 10^1,... ,10^{20}]$ contenente potenze successive  di $10$,  Si calcoli per ogni elemento di x l'errore relativo considerando come valore esatto quello calcolato usando  l'espressione algebricamente equivalente\n",
    "$$\n",
    "B(x)=\\frac{1}{x (x+1)}.\n",
    "$$ Si visualizzi l'errore relativo in un grafico in scala logaritmica su $x$ e $y$"
   ]
  },
  {
   "cell_type": "code",
   "execution_count": 8,
   "id": "a1f75375-581c-4cb9-ac90-2c9bebd3d731",
   "metadata": {
    "tags": []
   },
   "outputs": [
    {
     "name": "stdout",
     "output_type": "stream",
     "text": [
      "[5.00000000e-01 9.09090909e-03 9.90099010e-05 9.99000999e-07\n",
      " 9.99900010e-09 9.99990000e-11 9.99999000e-13 9.99999899e-15\n",
      " 1.00000000e-16 1.00000015e-18 1.00000061e-20 9.99999968e-23\n",
      " 1.00004844e-24 1.00090672e-26 9.93964741e-29 9.86076132e-31\n",
      " 0.00000000e+00 0.00000000e+00 0.00000000e+00 0.00000000e+00\n",
      " 0.00000000e+00]\n",
      "[1.e+00 1.e+01 1.e+02 1.e+03 1.e+04 1.e+05 1.e+06 1.e+07 1.e+08 1.e+09\n",
      " 1.e+10 1.e+11 1.e+12 1.e+13 1.e+14 1.e+15 1.e+16 1.e+17 1.e+18 1.e+19\n",
      " 1.e+20]\n",
      "[0.5, 0.009090909090909094, 9.90099009900991e-05, 9.990009990010207e-07, 9.999000099989363e-09, 9.99990000100624e-11, 9.999989998934512e-13, 9.999998990718643e-15, 1.0000000003187713e-16, 1.0000001492112815e-18, 1.0000006145003761e-20, 9.999999682655225e-23, 1.0000484358795393e-24, 1.0009067165444198e-26, 9.939647405784749e-29, 9.860761315262648e-31, 0.0, 0.0, 0.0, 0.0, 0.0]\n",
      "[0.5, 0.00909090909090909, 9.900990099009902e-05, 9.99000999000999e-07, 9.999000099990002e-09, 9.99990000099999e-11, 9.99999000001e-13, 9.9999990000001e-15, 9.999999900000002e-17, 9.99999999e-19, 9.999999999e-21, 9.999999999899999e-23, 9.99999999999e-25, 9.999999999999e-27, 9.999999999999899e-29, 9.99999999999999e-31, 9.999999999999999e-33, 1.0000000000000001e-34, 1e-36, 1e-38, 1e-40]\n",
      "[0.0, 3.8163916471489756e-16, 8.212831456577695e-16, 2.162093949513964e-14, 6.386472912342265e-14, 6.250446007438851e-13, 1.0754893525849329e-10, 9.281457504493824e-10, 1.0318771225052799e-08, 1.5021128164078565e-07, 6.146003762125736e-07, 3.172447734447592e-08, 4.843588053934748e-05, 0.0009067165445198455, 0.006035259421515068, 0.013923868473734289, 1.0, 1.0, 1.0, 1.0, 1.0]\n"
     ]
    },
    {
     "data": {
      "text/plain": [
       "[<matplotlib.lines.Line2D at 0x2393659f090>]"
      ]
     },
     "execution_count": 8,
     "metadata": {},
     "output_type": "execute_result"
    },
    {
     "data": {
      "image/png": "[encoded data removed]",
      "text/plain": [
       "<Figure size 640x480 with 1 Axes>"
      ]
     },
     "metadata": {},
     "output_type": "display_data"
    }
   ],
   "source": [
    "import matplotlib.pyplot as plt\n",
    "# importa a biblioteca matplotlib\n",
    "# d'ora in poi si potrà usare plt invece di scrivere matplotlib.pyplot\n",
    "import math\n",
    "\n",
    "A = lambda x: (1/x) - (1/(x+1))\n",
    "B = lambda x: 1/(x*(x+1))\n",
    "def funcA(x):\n",
    "    return (1/x) - (1/(x+1))\n",
    "\n",
    "def funcB(x):\n",
    "    return 1/(x*(x+1))\n",
    "\n",
    "x = 10.0**np.arange(21)\n",
    "# ricorda cambia molto usare il float rispetto all'int\n",
    "#print(x)\n",
    "\n",
    "# a elementi funzione con ris non esatti\n",
    "prova = A(x)\n",
    "print(prova)\n",
    "a = []\n",
    "# b elementi funzione con ris esatti\n",
    "b = []\n",
    "prova2 = B(x)\n",
    "\n",
    "for elem in x:\n",
    "    a.append(funcA(elem))\n",
    "    b.append(funcB(elem))\n",
    "\n",
    "# y errore relativo\n",
    "y = [np.abs(b[i]-a[i])/np.abs(b[i]) for i in range(21)]\n",
    "\n",
    "print(x)\n",
    "print(a)\n",
    "print(b)\n",
    "print(y)\n",
    "\n",
    "\n",
    "plt.loglog(x,y)"
   ]
  },
  {
   "cell_type": "markdown",
   "id": "27155dcd-6580-4e3d-aac9-fa42b717bf70",
   "metadata": {},
   "source": [
    "- **8-**  Risolvere l'equazione $x^2+10^k x+1=0$ con k in range(1,9). \n",
    "\n",
    "- Scrivere un codice Python che calcola le due radici: x1=(-b+sqrt(Delta))/2  e x2=(-b-sqrt(Delta))/2, dove Delta=b^2-4ac,  per tutti i valori di k in range(1,9)\n",
    "\n",
    "- Calcolare l'errore relativo della soluzione numerica x1 rispetto alla soluzione in aritmetica reale, che per valori di k alti è  uguale a $10^{-k}$, altrimenti è una sua approssimazione. \n",
    "\n",
    "- Visualizzare l'errore relativo per ogni valore di k.\n",
    "\n",
    "- Proporre un algoritmo alternativo per il calcolo di una delle due soluzioni, che fornisca errore relativo inferiore."
   ]
  },
  {
   "cell_type": "code",
   "execution_count": 29,
   "id": "9d14c4f1-9489-4f29-b449-2bfdb92fa2a2",
   "metadata": {
    "tags": []
   },
   "outputs": [
    {
     "name": "stdout",
     "output_type": "stream",
     "text": [
      "per b =  10\n",
      "sol x1 =  -0.10102051443364424\n",
      "sol x2 =  -9.898979485566356\n",
      "\n",
      "\n",
      "per b =  100\n",
      "sol x1 =  -0.010001000200048793\n",
      "sol x2 =  -99.98999899979995\n",
      "\n",
      "\n",
      "per b =  1000\n",
      "sol x1 =  -0.0010000010000226212\n",
      "sol x2 =  -999.998999999\n",
      "\n",
      "\n",
      "per b =  10000\n",
      "sol x1 =  -0.00010000000111176632\n",
      "sol x2 =  -9999.999899999999\n",
      "\n",
      "\n",
      "per b =  100000\n",
      "sol x1 =  -1.0000003385357559e-05\n",
      "sol x2 =  -99999.99999\n",
      "\n",
      "\n",
      "per b =  1000000\n",
      "sol x1 =  -1.00000761449337e-06\n",
      "sol x2 =  -999999.999999\n",
      "\n",
      "\n",
      "per b =  10000000\n",
      "sol x1 =  -9.96515154838562e-08\n",
      "sol x2 =  -9999999.9999999\n",
      "\n",
      "\n",
      "per b =  100000000\n",
      "sol x1 =  -7.450580596923828e-09\n",
      "sol x2 =  -100000000.0\n",
      "\n",
      "\n",
      "per b =  1000000000\n",
      "sol x1 =  0.0\n",
      "sol x2 =  -1000000000.0\n",
      "\n",
      "\n"
     ]
    }
   ],
   "source": [
    "# lambda k,x: x**2 + 10**k*x + 1 = 0\n",
    "k = [x for x in range(1,9+1)]\n",
    "x1ver = 10**-k\n",
    "a = 1\n",
    "b = [10**esp for esp in k]\n",
    "#print(b)\n",
    "c = 1\n",
    "\n",
    "def risequaz(a,b,c):\n",
    "    Delta = lambda a,b,c : (b**2)-(4*a*c)\n",
    "    x1 = (-b+np.sqrt(Delta(a,b,c)))/2\n",
    "    x2 = (-b-np.sqrt(Delta(a,b,c)))/2\n",
    "    return x1 , x2\n",
    "\n",
    "for elemB in b:\n",
    "    sol1 ,  sol2 = risequaz(a, elemB, c)\n",
    "    print(\"per b = \", elemB)\n",
    "    print(\"sol x1 = \",sol1)\n",
    "    print(\"sol x2 = \",sol2)\n",
    "    print(\"\\n\")\n",
    "\n"
   ]
  },
  {
   "cell_type": "markdown",
   "id": "9f6294cc-b0df-40b8-a1f5-450f4e756ffa",
   "metadata": {},
   "source": [
    "- **9.** Scrivere uno script Matlab che fornisca le approssimazioni di $e=\\exp(1)$ ottenute con la formula\n",
    "$f(n)=(1/n+1)^n$ per $n=10^k$ e  $k=0, ..., 16$. \n",
    "\n",
    "Visualizzare  un grafico con i valori di $f(n)$ al variare di n ed un grafico con i valori dell'errore relativo (considerando come valore esatto il valore math.exp(1)).  Cosa si osserva? Commentare i risultati ottenuti."
   ]
  },
  {
   "cell_type": "code",
   "execution_count": 13,
   "id": "de9f90ae-afca-4294-9acd-05585d601eb7",
   "metadata": {},
   "outputs": [
    {
     "name": "stdout",
     "output_type": "stream",
     "text": [
      "valore esatto =  2.718281828459045\n",
      "valori provenienti dalla formula =  [2.0, 2.5937424601000023, 2.7048138294215285, 2.7169239322355936, 2.7181459268249255, 2.7182682371922975, 2.7182804690957534, 2.7182816941320818, 2.7182817983473577, 2.7182820520115603, 2.7182820532347876, 2.71828205335711, 2.7185234960372378, 2.716110034086901, 2.716110034087023, 3.035035206549262, 1.0]\n"
     ]
    },
    {
     "data": {
      "image/png": "[encoded data removed]",
      "text/plain": [
       "<Figure size 640x480 with 1 Axes>"
      ]
     },
     "metadata": {},
     "output_type": "display_data"
    },
    {
     "data": {
      "image/png": "[encoded data removed]",
      "text/plain": [
       "<Figure size 640x480 with 1 Axes>"
      ]
     },
     "metadata": {},
     "output_type": "display_data"
    }
   ],
   "source": [
    "import matplotlib.pyplot as plt\n",
    "# importa a biblioteca matplotlib\n",
    "# d'ora in poi si potrà usare plt invece di scrivere matplotlib.pyplot\n",
    "import math\n",
    "import numpy as np\n",
    "\n",
    "f = lambda n: (1/n+1)**n\n",
    "\n",
    "k = [x for x in range(16+1)]\n",
    "n = [10**elem for elem in k]\n",
    "fn = [f(elem) for elem in n]\n",
    "val_es = math.exp(1)\n",
    "err_rel = [np.abs((val_es-elem)/(val_es)) for elem in fn]\n",
    "print(\"valore esatto = \", val_es)\n",
    "print(\"valori provenienti dalla formula = \", fn)\n",
    "\n",
    "# Creazione grafico\n",
    "#plt.subplot(2,1,1)\n",
    "plt.plot(n, fn, 'g-o')\n",
    "plt.grid(True)\n",
    "plt.xlabel('n')\n",
    "# xlabel assegna un'etichetta all'asse delle ascisse\n",
    "plt.ylabel('f(n)')\n",
    "plt.title(\"Grafico di f(n)\")\n",
    "plt.show()\n",
    "\n",
    "\n",
    "# Creazione secondo grafico\n",
    "#plt.subplot(2,1,2)\n",
    "plt.plot(k, err_rel, 'r-o')\n",
    "plt.yscale('log')\n",
    "plt.grid(True)\n",
    "plt.xlabel('k')\n",
    "# xlabel assegna un'etichetta all'asse delle ascisse\n",
    "plt.ylabel('Percentuale dell\"Errore rel. sui valori')\n",
    "plt.title(\"Grafico sull'errore relativo\")\n",
    "plt.savefig(\"filename2.png\")\n",
    "plt.show()\n"
   ]
  },
  {
   "cell_type": "code",
   "execution_count": null,
   "id": "29588be5-afa3-4df1-8efc-efc3c24c7938",
   "metadata": {},
   "outputs": [],
   "source": []
  },
  {
   "cell_type": "code",
   "execution_count": null,
   "id": "dec1b7d7-8cd1-4c02-ae61-82ef10f1598b",
   "metadata": {},
   "outputs": [],
   "source": []
  }
 ],
 "metadata": {
  "kernelspec": {
   "display_name": "Python 3 (ipykernel)",
   "language": "python",
   "name": "python3"
  },
  "language_info": {
   "codemirror_mode": {
    "name": "ipython",
    "version": 3
   },
   "file_extension": ".py",
   "mimetype": "text/x-python",
   "name": "python",
   "nbconvert_exporter": "python",
   "pygments_lexer": "ipython3",
   "version": "3.11.5"
  }
 },
 "nbformat": 4,
 "nbformat_minor": 5
}
