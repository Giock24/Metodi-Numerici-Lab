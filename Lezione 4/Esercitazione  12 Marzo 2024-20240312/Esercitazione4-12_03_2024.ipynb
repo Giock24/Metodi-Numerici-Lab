{
 "cells": [
  {
   "cell_type": "markdown",
   "id": "b97be3ab-d6dd-495f-a342-e5e837cfb8bc",
   "metadata": {},
   "source": [
    "#                       Esercitazione 4 - 12 Marzo 2023"
   ]
  },
  {
   "cell_type": "markdown",
   "id": "8c87694a-727f-410f-a307-3f35f0dcc933",
   "metadata": {},
   "source": [
    "Esplorate le caratteristiche dell'insieme dei numeri di macchina F($\\beta$,t,L,U) sul vostro calcolatore utilizzando il comando sys.float_info, dopo aver importato im modulo sys:\n",
    "\n",
    "import sys\n",
    "\n",
    "print(sys.float_info)"
   ]
  },
  {
   "cell_type": "code",
   "execution_count": 31,
   "id": "41befe1d-4b51-40b3-a8bc-db8b2d2b886e",
   "metadata": {
    "tags": []
   },
   "outputs": [
    {
     "name": "stdout",
     "output_type": "stream",
     "text": [
      "sys.float_info(max=1.7976931348623157e+308, max_exp=1024, max_10_exp=308, min=2.2250738585072014e-308, min_exp=-1021, min_10_exp=-307, dig=15, mant_dig=53, epsilon=2.220446049250313e-16, radix=2, rounds=1)\n"
     ]
    }
   ],
   "source": [
    "import sys\n",
    "import numpy as np\n",
    "print(sys.float_info)"
   ]
  },
  {
   "cell_type": "markdown",
   "id": "82c24c2e-15d3-4e96-8436-8a2c4b01011b",
   "metadata": {},
   "source": [
    "min_exp=-1021   (L=-1021-1=-1022)\n",
    "\n",
    "max_exp=1024    (U=1024-1=1023)\n",
    "\n",
    "mant_dig=53 (incluso l'hidden bit)\n",
    "\n",
    "dig=15, significa che i numeri \"float\" vengono convertiti in stringhe con un massimo di 15 cifre decimali. Le cifre decimali oltre la quindicesima vengono eliminate (troncate). (solo a livello di stringa visualizzata)"
   ]
  },
  {
   "cell_type": "markdown",
   "id": "224ac7e6-31df-4f15-8ffc-9c82bd21c82e",
   "metadata": {},
   "source": [
    "- **1.**  Calcolare lo spacing in  $[2^{52}, 2^{53}]$.\n",
    "    - Sia $x=2^{52}$ individuare il numero successivo a $2^{52}$ ed assegnarlo ad una variabile  y.\n",
    "    - Cosa succede se consideriamo il valore z=x+0.5?\n",
    "    - Cosa succede se consideriamo il valore q=y+0.5?\n",
    "  "
   ]
  },
  {
   "cell_type": "code",
   "execution_count": 24,
   "id": "60f4a8b2-a70a-4b73-83a0-85b787cef546",
   "metadata": {
    "tags": []
   },
   "outputs": [
    {
     "name": "stdout",
     "output_type": "stream",
     "text": [
      "1\n",
      "valore x = 4503599627370496\n",
      "numero dopo 2^52: 4503599627370497\n",
      "z =  4503599627370496.0\n",
      "q =  4503599627370498.0\n"
     ]
    }
   ],
   "source": [
    "# ricorda: per usare le var di sys.float_info\n",
    "# metti un'altro punto e poi definisci il nome della\n",
    "# variabile\n",
    "x = 2**52\n",
    "b = 2**53\n",
    "p = 52\n",
    "B = 2\n",
    "spacing = 2**(p+1-sys.float_info.mant_dig)\n",
    "print(spacing)\n",
    "\n",
    "print(\"valore x =\", x)\n",
    "y = x+spacing\n",
    "print(\"numero dopo 2^52:\", y)\n",
    "\n",
    "z = x+0.5\n",
    "print(\"z = \", z)\n",
    "\n",
    "q = y+0.5\n",
    "print(\"q = \", q)\n",
    "# penso che ci sia un comportamento del rounding to even\n",
    "# z visto che l'ultimo valore della mantissa era pari\n",
    "# non è avvenuto nessun incremento, mentre in q l'ultimo valore\n",
    "# era dispari e ha troncato facendolo diventare pari\n"
   ]
  },
  {
   "cell_type": "markdown",
   "id": "c73d1758-eb82-48af-8618-6dfb522dcdd6",
   "metadata": {},
   "source": [
    "- **2** Calcolare la cardinalità dell'insieme dei numeri finiti di Python"
   ]
  },
  {
   "cell_type": "code",
   "execution_count": 28,
   "id": "1d8410cf-fedb-43ed-a5b0-fc9bf7c46a92",
   "metadata": {
    "tags": []
   },
   "outputs": [
    {
     "name": "stdout",
     "output_type": "stream",
     "text": [
      "18428729675200069633\n"
     ]
    }
   ],
   "source": [
    "card_num_pos = (B**(t-1))*(B-1)*(sys.float_info.max_exp - sys.float_info.min_exp + 1)\n",
    "\n",
    "card_num_finiti = (2*card_num_pos)+1\n",
    "print(card_num_finiti)"
   ]
  },
  {
   "cell_type": "markdown",
   "id": "cee853bd-aca6-47f4-980f-7e44473f7523",
   "metadata": {},
   "source": [
    "- **3**  Verificare numericamente che $\\texttt{eps} = 2^{-52}$, spacing nell'intervallo $[1, 2]$,\n",
    "è il piu' piccolo $x$ tale che $fl(1 + x)$ è  diverso da $1$. \n"
   ]
  },
  {
   "cell_type": "code",
   "execution_count": 30,
   "id": "3979bb60-eabe-4198-9b81-7e0511a4f98f",
   "metadata": {
    "tags": []
   },
   "outputs": [
    {
     "name": "stdout",
     "output_type": "stream",
     "text": [
      "1.0000000000000002\n"
     ]
    }
   ],
   "source": [
    "esp = B**(1-sys.float_info.mant_dig)\n",
    "y = esp + 1\n",
    "print(y)"
   ]
  },
  {
   "cell_type": "markdown",
   "id": "35d7206c-f742-4616-b92c-91b37127a4d3",
   "metadata": {},
   "source": [
    "- **4** Costruire un numpy array costituito da n=10 valori tutti uguali a 0.1\n",
    "-     Effettuate la somma utilizzando un ciclo for.\n",
    "-     Effettuate la somma effettuando la somma con la funzione sum del modulo numpy.\n",
    "  Cosa osservate? Cercate di giustificare i risultati "
   ]
  },
  {
   "cell_type": "code",
   "execution_count": 39,
   "id": "76cdbb24-b740-402a-a11a-6e0be0ee3e78",
   "metadata": {
    "tags": []
   },
   "outputs": [
    {
     "name": "stdout",
     "output_type": "stream",
     "text": [
      "somma fatta con il for:  0.9999999999999999\n",
      "somma fatta con la funzione numpy:  1.0\n"
     ]
    }
   ],
   "source": [
    "arr = np.array([0.1 for x in range(10)])\n",
    "\n",
    "s1=0\n",
    "s2=0\n",
    "\n",
    "for var in arr:\n",
    "    s1+=var\n",
    "    \n",
    "s2 = np.sum(arr)\n",
    "\n",
    "print(\"somma fatta con il for: \", s1)\n",
    "print(\"somma fatta con la funzione numpy: \", s2)\n",
    "# visto che uno è una somma fatto con il nostro\n",
    "# algoritmo avviene un'arrotodamento del linguaggio macchina\n",
    "# mentre invece la funzione dato che è ottimizzata\n",
    "# da un valore esatto"
   ]
  },
  {
   "cell_type": "markdown",
   "id": "d19cd104-d1ea-4444-996c-0a9672063450",
   "metadata": {},
   "source": [
    "- **5.** Siano $a=1.234567890123400 e+15$, $b=-1.234567890123401 e+15$, $c=0.06$. \n",
    "  Calcolare $(a+b)+c$, $(a+c)+b$, $a+(b+c)$. Che cosa si osserva? Ripetere l'esercizio con $a=0.23371258 e-4$, $b=0.33678429 e+2$, $c=-0.33677911 e+2$."
   ]
  },
  {
   "cell_type": "code",
   "execution_count": 1,
   "id": "4b8c6627-d2e1-4363-a306-a701e78eed64",
   "metadata": {
    "tags": []
   },
   "outputs": [
    {
     "name": "stdout",
     "output_type": "stream",
     "text": [
      "(a+b)+c =  -0.94\n",
      "(a+c)+b =  -1.0\n",
      "a+(b+c) =  -1.0\n",
      "(a+b)+c =  0.0005413712580022434\n",
      "(a+c)+b =  0.0005413712580022434\n",
      "a+(b+c) =  0.0005413712579995743\n"
     ]
    }
   ],
   "source": [
    "a=1.234567890123400e+15 \n",
    "b=-1.234567890123401e+15\n",
    "c=0.06\n",
    "\n",
    "print(\"(a+b)+c = \", (a+b)+c)\n",
    "print(\"(a+c)+b = \", (a+c)+b)\n",
    "print(\"a+(b+c) = \", a+(b+c))\n",
    "\n",
    "# si nota che nel calcolatore, visto che vengono\n",
    "# usati i numeri floating point le proprietà dei numeri\n",
    "# reali non vengono rispettate, tra cui qui la proprietà\n",
    "# associativa\n",
    "\n",
    "a=0.23371258e-4\n",
    "b=0.33678429e+2 \n",
    "c=-0.33677911e+2\n",
    "\n",
    "print(\"(a+b)+c = \", (a+b)+c)\n",
    "print(\"(a+c)+b = \", (a+c)+b)\n",
    "print(\"a+(b+c) = \", a+(b+c))"
   ]
  },
  {
   "cell_type": "markdown",
   "id": "960d25c1-9677-4b1e-92c1-c16870d520b6",
   "metadata": {},
   "source": [
    "- **6.** Si considerino le espressioni $y_1=\\sqrt{x^2+1}-x$ e $y_2=\\frac{1}{\\sqrt{x^2+1}+x}$. Calcolare il valore di $y_1$ e $y_2$ per $x=7777$ e $x=77777777$. Che cosa si osserva? Commentare i risultati ottenuti."
   ]
  },
  {
   "cell_type": "code",
   "execution_count": 4,
   "id": "9482624a-fd21-4b8c-81f0-33b29e3e70b4",
   "metadata": {
    "tags": []
   },
   "outputs": [
    {
     "name": "stdout",
     "output_type": "stream",
     "text": [
      "Calcoli fatti con x1\n",
      "6.429214317904552e-05\n",
      "6.429214323431402e-05\n",
      "Calcoli fatti con x2\n",
      "0.0\n",
      "6.428571492857143e-09\n"
     ]
    }
   ],
   "source": [
    "import math\n",
    "y1 = lambda x : math.sqrt(x**2 + 1) - x\n",
    "y2 = lambda x : 1 / (math.sqrt(x**2 + 1) + x)\n",
    "\n",
    "x1 = 7777.0\n",
    "x2 = 77777777.0\n",
    "\n",
    "print(\"Calcoli fatti con x1\")\n",
    "print(y1(x1))\n",
    "print(y2(x1))\n",
    "print(\"Calcoli fatti con x2\")\n",
    "print(y1(x2))\n",
    "print(y2(x2))\n",
    "\n",
    "# dato che il risultato proveniente in y1(x2) è andato\n",
    "# in underflow è venuto tutto approssimanto a 0"
   ]
  },
  {
   "cell_type": "markdown",
   "id": "e3d8c3b3-d514-41ec-a6f2-eb22311ab157",
   "metadata": {},
   "source": [
    "- **7.** Valutare in aritmetica floating point l'espressione\n",
    "$$A(x)=\\frac{1}{x}-\\frac{1}{(x+1)}$$  nel vettore   $x=[10^0, 10^1,... ,10^{20}]$ contenente potenze successive  di $10$,  Si calcoli per ogni elemento di x l'errore relativo considerando come valore esatto quello calcolato usando  l'espressione algebricamente equivalente\n",
    "$$\n",
    "B(x)=\\frac{1}{x (x+1)}.\n",
    "$$ Si visualizzi l'errore relativo in un grafico in scala logaritmica su $x$ e $y$"
   ]
  },
  {
   "cell_type": "code",
   "execution_count": 16,
   "id": "2ed82bc7-94f5-405f-bc6d-4dc9212eeaa8",
   "metadata": {
    "tags": []
   },
   "outputs": [
    {
     "name": "stdout",
     "output_type": "stream",
     "text": [
      "[1, 10, 100, 1000, 10000, 100000, 1000000, 10000000, 100000000, 1000000000, 10000000000, 100000000000, 1000000000000, 10000000000000, 100000000000000, 1000000000000000, 10000000000000000, 100000000000000000, 1000000000000000000, 10000000000000000000]\n"
     ]
    },
    {
     "data": {
      "text/plain": [
       "<function matplotlib.pyplot.show(close=None, block=None)>"
      ]
     },
     "execution_count": 16,
     "metadata": {},
     "output_type": "execute_result"
    },
    {
     "data": {
      "image/png": "[encoded data removed]",
      "text/plain": [
       "<Figure size 640x480 with 1 Axes>"
      ]
     },
     "metadata": {},
     "output_type": "display_data"
    }
   ],
   "source": [
    "import matplotlib.pyplot as plt\n",
    "import numpy as np\n",
    "\n",
    "A = lambda x : (1/x) - (1/(x+1)) # ris. approssimato\n",
    "B = lambda x : 1/(x*(x+1)) # ris. esatto\n",
    "\n",
    "x = [10**z for z in range(20)]\n",
    "\n",
    "print(x)\n",
    "err_rel = [np.abs(A(x[i])-B(x[i]))/np.abs(B(x[i])) for i in range(20)]\n",
    "\n",
    "plt.loglog(x,err_rel,'r')\n",
    "plt.show"
   ]
  },
  {
   "cell_type": "markdown",
   "id": "27155dcd-6580-4e3d-aac9-fa42b717bf70",
   "metadata": {},
   "source": [
    "- **8-**  Risolvere l'equazione $x^2+10^k x+1=0$ con k in range(1,9). \n",
    "\n",
    "- Scrivere un codice Python che calcola le due radici: x1=(-b+sqrt(Delta))/2  e x2=(-b-sqrt(Delta))/2, dove Delta=b^2-4ac,  per tutti i valori di k in range(1,9)\n",
    "\n",
    "- Calcolare l'errore relativo della soluzione numerica x1 rispetto alla soluzione in aritmetica reale, che per valori di k alti è  uguale a $10^{-k}$, altrimenti è una sua approssimazione. \n",
    "\n",
    "- Visualizzare l'errore relativo per ogni valore di k.\n",
    "\n",
    "- Proporre un algoritmo aleternativo per il calcolo di una delle due soluzioni, che fornisca errore relativo inferiore."
   ]
  },
  {
   "cell_type": "code",
   "execution_count": 33,
   "id": "15fb3556-b2d0-422a-839f-df3dc4c71a9c",
   "metadata": {
    "tags": []
   },
   "outputs": [
    {
     "name": "stdout",
     "output_type": "stream",
     "text": [
      "[-0.10102051443364424, -0.010001000200048793, -0.0010000010000226212, -0.00010000000111176632, -1.0000003385357559e-05, -1.00000761449337e-06, -9.96515154838562e-08, -7.450580596923828e-09, 0.0]\n",
      "[-9.898979485566356, -99.98999899979995, -999.998999999, -9999.999899999999, -99999.99999, -999999.999999, -9999999.9999999, -100000000.0, -1000000000.0]\n",
      "[-0.1, -0.01, -0.001, -0.0001, -1e-05, -1e-06, -1e-07, -1e-08, -1e-09]\n",
      "[0.010205144336442318, 0.00010002000487927681, 1.0000226211351326e-06, 1.1117663186550539e-08, 3.3853575579092333e-07, 7.614493370101404e-06, 0.003484845161437943, 0.2549419403076172, 1.0]\n",
      "[0.010205144336442318, 0.00010002000487927681, 1.0000226211351326e-06, 1.1117663186550539e-08, 3.3853575579092333e-07, 7.614493370101404e-06, 0.003484845161437943, 0.2549419403076172, 1.0]\n"
     ]
    },
    {
     "data": {
      "text/plain": [
       "<matplotlib.legend.Legend at 0x1e0d1f06990>"
      ]
     },
     "execution_count": 33,
     "metadata": {},
     "output_type": "execute_result"
    },
    {
     "data": {
      "image/png": "[encoded data removed]",
      "text/plain": [
       "<Figure size 640x480 with 1 Axes>"
      ]
     },
     "metadata": {},
     "output_type": "display_data"
    }
   ],
   "source": [
    "#f = lambda x,k : x**2 + (10**k)*x + 1\n",
    "delta = lambda a,b,c : (b**2)-(4*a*c)\n",
    "x1 = lambda a,b,c : (-b + math.sqrt(delta(a,b,c)))/2 \n",
    "x2 = lambda a,b,c : (-b - math.sqrt(delta(a,b,c)))/2\n",
    "\n",
    "\n",
    "k = [x for x in range(1,10)]\n",
    "all_b = [10**x for x in k]\n",
    "\n",
    "x1vera = [-10**(-x) for x in k] #N.B. questa è la soluzione esatta per k grandi, altrimenti è un approssimazione.\n",
    "#print(all_b)\n",
    "a = 1\n",
    "c = 1\n",
    "\n",
    "# soluzioni approssimate\n",
    "sol_x1 = [x1(a,y,c) for y in all_b]\n",
    "sol_x2 = [x2(a,y,c) for y in all_b]\n",
    "\n",
    "print(sol_x1)\n",
    "print(sol_x2)\n",
    "\n",
    "x1new = lambda a,b,c : c/(a*x2(a,b,c))\n",
    "\n",
    "#soluzioni con algoritmo alternativo\n",
    "sol_x1_d = [x1new(a,y,c) for y in all_b]\n",
    "\n",
    "print(all_b_real)\n",
    "\n",
    "#errore relativo usando le soluzioni provenienti da x1\n",
    "err_rel = [np.abs(x1vera[i]-sol_x1[i])/np.abs(x1vera[i]) for i in range(len(k))]\n",
    "print(err_rel)\n",
    "# errore relativo usando le soluzioni provenienti da un'algoritmo differente x1new\n",
    "err_rel_new = [np.abs(x1vera[i]-sol_x1_d[i])/np.abs(x1vera[i]) for i in range(len(k))]\n",
    "print(err_rel)\n",
    "\n",
    "plt.plot(k,err_rel,'r-',k,err_rel_new,'b:')\n",
    "plt.yscale('log')\n",
    "plt.legend([\"err x1\", \"err xnew 1\"])\n",
    "# morale: dal grafico si nota che usando l'algoritmo x1 l'errore relativo è molto grande\n",
    "# k >= 9, mentre invece usando l'algoritmo x1new l'errore relativo tende ad essere molto piccolo\n"
   ]
  },
  {
   "cell_type": "markdown",
   "id": "9f6294cc-b0df-40b8-a1f5-450f4e756ffa",
   "metadata": {},
   "source": [
    "- **9.** Scrivere uno script Matlab che fornisca le approssimazioni di $e=\\exp(1)$ ottenute con la formula\n",
    "$f(n)=(1/n+1)^n$ per $n=10^k$ e  $k=0, ..., 16$. \n",
    "\n",
    "Visualizzare  un grafico con i valori di $f(n)$ al variare di n ed un grafico con i valori dell'errore relativo (considerando come valore esatto il valore math.exp(1)).  Cosa si osserva? Commentare i risultati ottenuti."
   ]
  },
  {
   "cell_type": "code",
   "execution_count": null,
   "id": "de9f90ae-afca-4294-9acd-05585d601eb7",
   "metadata": {},
   "outputs": [],
   "source": []
  },
  {
   "cell_type": "code",
   "execution_count": null,
   "id": "29588be5-afa3-4df1-8efc-efc3c24c7938",
   "metadata": {},
   "outputs": [],
   "source": []
  }
 ],
 "metadata": {
  "kernelspec": {
   "display_name": "Python 3 (ipykernel)",
   "language": "python",
   "name": "python3"
  },
  "language_info": {
   "codemirror_mode": {
    "name": "ipython",
    "version": 3
   },
   "file_extension": ".py",
   "mimetype": "text/x-python",
   "name": "python",
   "nbconvert_exporter": "python",
   "pygments_lexer": "ipython3",
   "version": "3.11.5"
  }
 },
 "nbformat": 4,
 "nbformat_minor": 5
}
