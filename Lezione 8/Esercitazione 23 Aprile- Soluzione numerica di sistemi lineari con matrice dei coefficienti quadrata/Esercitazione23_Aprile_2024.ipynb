{
 "cells": [
  {
   "cell_type": "markdown",
   "id": "d2903ef7-4c36-4b4f-b8dd-01fa2f35dfc5",
   "metadata": {},
   "source": [
    "## Esercitazione 8  del    23 Aprile 2024\n"
   ]
  },
  {
   "cell_type": "markdown",
   "id": "f7105091-a87d-4561-bb63-c8ac815faf37",
   "metadata": {},
   "source": [
    "## Condizionamento del problema della soluzione di un sistema lineare"
   ]
  },
  {
   "cell_type": "markdown",
   "id": "2b2f0afd-9374-4f8e-8a7b-eb783ba28fd4",
   "metadata": {},
   "source": [
    "# Esercizio 1\n",
    "- Costruire la matrice di Vandermonde A, generata dal vettore x=[1.0,2.0,...,6.0] utilizzando la funzione np.vander(x, increasing=True) di numpy. \n",
    "- Calcolarne l'indice di condizionamento in norma infinito senza utilizzare la funzione cond di numpy.linalg e poi confrontarne il valore con quello ottenuto utilizzando la funzione.\n",
    "- Considerare il sistema lineare Ax=b  con matrice dei coefficienti A e termine noto costruito in maniera tale che la soluzione esatta sia il vettore x=[1,1,1,1,1,1] (ogni sua componente è 1) e risolverlo usando il metodo solve del modulo linalg di Scipy.\n",
    "- perturbare il vettore dei termini noti della quantità\n",
    "- \n",
    "$$\n",
    "\\delta b = 0.025 \\, \\ast \\,\n",
    "\\left [\n",
    "\\begin{array}{c}\n",
    "1\\\\\n",
    "0\\\\\n",
    "0\\\\\n",
    "0\n",
    "\\end{array}\n",
    "\\right ]\n",
    "$$\n",
    "- Risolvere il sistema con termine noto pertubato $b + \\delta b$ ((usando il metodo solve del modulo linalg di Scipy).\n",
    "- Calcolare l'errore relativo sul termine noto e l'errore relativo sulla soluzione. Cosa si può concludere?\n",
    "\n",
    "N.B. per il calcolo dell'inversa della matrice di A usare la funzione di numpy.linalg.inv(A).\n"
   ]
  },
  {
   "cell_type": "code",
   "execution_count": 2,
   "id": "fedd12b5-567e-4c1f-b8d6-cebee274e9fc",
   "metadata": {
    "tags": []
   },
   "outputs": [],
   "source": [
    "import numpy as np\n",
    "# usato per creare la matrice di Hilbert\n",
    "import scipy.linalg as spl \n",
    "import SolveTriangular\n",
    "from scipy.linalg import lu\n",
    "from scipy.linalg import qr\n",
    "import matplotlib.pyplot as plt"
   ]
  },
  {
   "cell_type": "code",
   "execution_count": 29,
   "id": "ed0865c7-7ff7-4ee0-b3c3-fa37b1438768",
   "metadata": {
    "tags": []
   },
   "outputs": [
    {
     "name": "stdout",
     "output_type": "stream",
     "text": [
      "[[1.000e+00 1.000e+00 1.000e+00 1.000e+00 1.000e+00 1.000e+00]\n",
      " [1.000e+00 2.000e+00 4.000e+00 8.000e+00 1.600e+01 3.200e+01]\n",
      " [1.000e+00 3.000e+00 9.000e+00 2.700e+01 8.100e+01 2.430e+02]\n",
      " [1.000e+00 4.000e+00 1.600e+01 6.400e+01 2.560e+02 1.024e+03]\n",
      " [1.000e+00 5.000e+00 2.500e+01 1.250e+02 6.250e+02 3.125e+03]\n",
      " [1.000e+00 6.000e+00 3.600e+01 2.160e+02 1.296e+03 7.776e+03]]\n",
      "Indice di condizionamento : 1204321.0666666434\n",
      "Indice con funzione : 1204321.0666666434\n",
      "Risoluzione :  [[1.]\n",
      " [1.]\n",
      " [1.]\n",
      " [1.]\n",
      " [1.]\n",
      " [1.]]\n",
      "Risoluzione con perturbazione :  [[1.15      ]\n",
      " [0.7825    ]\n",
      " [1.12083333]\n",
      " [0.96770833]\n",
      " [1.00416667]\n",
      " [0.99979167]]\n",
      "Errore dati :  2.679241238881187e-06\n",
      "Errore risultati :  0.21749999999149086\n"
     ]
    }
   ],
   "source": [
    "x = np.arange(1.0,7.0)\n",
    "A = np.vander(x, increasing=True)\n",
    "print(A)\n",
    "\n",
    "K = np.linalg.norm(np.linalg.inv(A), np.inf) * np.linalg.norm(A, np.inf)\n",
    "print(\"Indice di condizionamento :\", K)\n",
    "print(\"Indice con funzione :\", np.linalg.cond(A, np.inf))\n",
    "\n",
    "x = [1,1,1,1,1,1] # questa è la soluzione esatta\n",
    "b=np.sum(A,axis=1).reshape(6,1) #Calcolo la somma degli elementi di ogni riga \n",
    "f = np.linalg.solve(A, b)\n",
    "print(\"Risoluzione : \", f)\n",
    "lam_b = b.copy()\n",
    "lam_b[0] += 0.025\n",
    "lam_f = np.linalg.solve(A, lam_b)\n",
    "print(\"Risoluzione con perturbazione : \", lam_f)\n",
    "\n",
    "err_dati = (np.linalg.norm(b-lam_b, np.inf))/(np.linalg.norm(b, np.inf))\n",
    "print(\"Errore dati : \", err_dati)\n",
    "err_ris = (np.linalg.norm(f-lam_f, np.inf))/(np.linalg.norm(f, np.inf))\n",
    "print(\"Errore risultati : \", err_ris)\n",
    "# riassunto è molto malcondizionato perchè per una perturbazione dei dati\n",
    "# dell'2.6*10^-4% si ottiene una perturbazione sui risultati del 22%\n"
   ]
  },
  {
   "cell_type": "markdown",
   "id": "1fad1579-04c4-4aae-a840-2ab3120aaf2e",
   "metadata": {},
   "source": [
    "## Esercizio 2\n",
    "Assegnato il sistema lineare $Ax = b$, con\n",
    "$$\n",
    "A =\n",
    "\\left [\n",
    "\\begin{array}{ccc}\n",
    "6 & 63 & 662.2\\\\\n",
    "63 & 662.2 & 6967.8\\\\\n",
    "662.2 & 6967.8 & 73393.5664\n",
    "\\end{array}\n",
    "\\right ], \\qquad\n",
    "b =\n",
    "\\left [\n",
    "\\begin{array}{c}\n",
    "1.1\\\\\n",
    "2.33\\\\\n",
    "1.7\n",
    "\\end{array}\n",
    "\\right ]\n",
    "$$\n",
    "- trovare il vettore soluzione $x$ (usando il metodo solve del modulo linalg di Scipy);\n",
    "- perturbare la matrice dei coefficienti della quantità\n",
    "$$\n",
    "\\delta A =\n",
    "0.01 \\, \\ast \\,\n",
    "\\left [ \\begin{array}{ccc}\n",
    "1 & 0 & 0\\\\\n",
    "0 & 0 & 0\\\\\n",
    "0 & 0 & 0\n",
    "\\end{array}\n",
    "\\right ]\n",
    "$$\n",
    "quindi calcolare l'errore relativo sulla soluzione e confrontarlo con la\n",
    "perturbazione relativa sui dati di ingresso. Cosa si osserva?"
   ]
  },
  {
   "cell_type": "code",
   "execution_count": 46,
   "id": "1ec8f434-81b1-4120-8c60-e37e9b089035",
   "metadata": {
    "tags": []
   },
   "outputs": [
    {
     "name": "stdout",
     "output_type": "stream",
     "text": [
      "Indice di cond 1.975302e+10\n",
      "Errore sui dati :  1.2342088165597937e-07\n",
      "Errore sui risultati :  0.9995081547933965\n"
     ]
    }
   ],
   "source": [
    "A = np.array([ [6, 63, 662.2], [63, 662.2, 6967.8], [662.2, 6967.8, 73393.5664] ])\n",
    "b = np.array([1.1, 2.33, 1.7]).reshape(3, 1)\n",
    "sol = np.linalg.solve(A, b)\n",
    "lam_A = A.copy()\n",
    "lam_A[0][0] += 0.01\n",
    "lam_sol = np.linalg.solve(lam_A, b)\n",
    "err_dati = (np.linalg.norm(A-lam_A, np.inf))/(np.linalg.norm(A, np.inf))\n",
    "print(\"Indice di cond {:e}\".format(np.linalg.cond(A, np.inf)))\n",
    "# per cambiare il formato e vederlo come e^+x usare {:e}\".format(numero)\n",
    "print(\"Errore sui dati : \", err_dati)\n",
    "err_sol = (np.linalg.norm(sol-lam_sol, np.inf))/(np.linalg.norm(sol, np.inf))\n",
    "print(\"Errore sui risultati : \", err_sol)"
   ]
  },
  {
   "cell_type": "markdown",
   "id": "3fd35cbb-3eaa-4674-91ff-cf7148cac8b8",
   "metadata": {},
   "source": [
    "## Esercizio 3\n",
    " \n",
    "Assegnato il sistema lineare $Ax = b$, con $A$ matrice di Hilbert di ordine\n",
    "$4$ e $b = [1, 1, 1, 1]^T$,\n",
    " - trovare il vettore soluzione $x$ (usando il metodo solve del modulo linalg di Scipy);\n",
    " -  perturbare il vettore dei termini noti della quantità\n",
    "$$\n",
    "\\delta b = 0.01 \\, \\ast \\,\n",
    "\\left [\n",
    "\\begin{array}{c}\n",
    "1\\\\\n",
    "-1\\\\\n",
    "1\\\\\n",
    "-1\n",
    "\\end{array}\n",
    "\\right ]\n",
    "$$\n",
    "quindi calcolare la soluzione del sistema $A x_p= b_p$ con termine noto $b_p=b+ \\delta b$.\n",
    "Calcolare l'errore relativo sulla soluzione e confrontarlo con la perturbazione relativa sui dati di ingresso. Cosa si osserva?\n",
    "\n",
    "Nota: per la costruzione della matrice di Hilbert usare la funzione hilbert(n) del modulo scipy.linalg\n",
    "(scipy.linalg.hilbert(n))  dove bisogna specificare l'ordine n della matrice."
   ]
  },
  {
   "cell_type": "code",
   "execution_count": 55,
   "id": "184f6733-5a50-4895-89c5-c19c41898fad",
   "metadata": {
    "tags": []
   },
   "outputs": [
    {
     "name": "stdout",
     "output_type": "stream",
     "text": [
      "[[  -4.]\n",
      " [  60.]\n",
      " [-180.]\n",
      " [ 140.]]\n",
      "Indice di cond 2.837500e+04\n",
      "Errore sui dati :  0.010000000000000009\n",
      "Errore sui risultati :  0.7566666666666719\n"
     ]
    }
   ],
   "source": [
    "A = spl.hilbert(4)\n",
    "b = np.ones(4).reshape(4,1)\n",
    "x = spl.solve(A, b)\n",
    "print(x)\n",
    "lam_b = b.copy() + np.array([(0.01*(-1)**i) for i in range(4)]).reshape(4,1)\n",
    "lam_x = spl.solve(A, lam_b)\n",
    "\n",
    "err_dati = (np.linalg.norm(b-lam_b, np.inf))/(np.linalg.norm(b, np.inf))\n",
    "print(\"Indice di cond {:e}\".format(np.linalg.cond(A, np.inf)))\n",
    "# per cambiare il formato e vederlo come e^+x usare {:e}\".format(numero)\n",
    "print(\"Errore sui dati : \", err_dati)\n",
    "err_x = (np.linalg.norm(x-lam_x, np.inf))/(np.linalg.norm(x, np.inf))\n",
    "print(\"Errore sui risultati : \", err_x)"
   ]
  },
  {
   "cell_type": "markdown",
   "id": "b1d646aa-f01a-4754-85e0-8803dc40b54f",
   "metadata": {},
   "source": [
    "## Metodi diretti per la soluzione numerica di un sistema lineare"
   ]
  },
  {
   "cell_type": "markdown",
   "id": "d49457b8-af07-4729-a33a-dc93547c1a20",
   "metadata": {},
   "source": [
    "## Nota 1.\n",
    "La funzione *scipy.linalg.lu(A)*  , presa in input una matrice A a rango massimo, restituisce in output le matrici $P^T$,L,U,  della fattorizzazione di LU della matrice A in maniera tale che PA=LU (restituisce la matrice di permutazione trasposta)"
   ]
  },
  {
   "cell_type": "code",
   "execution_count": 37,
   "id": "6164dfcc-4ff8-4d35-9ba3-59cae1f5189e",
   "metadata": {},
   "outputs": [
    {
     "name": "stdout",
     "output_type": "stream",
     "text": [
      "A= [[2 1]\n",
      " [3 4]]\n",
      "L= [[1.         0.        ]\n",
      " [0.66666667 1.        ]]\n",
      "U= [[ 3.          4.        ]\n",
      " [ 0.         -1.66666667]]\n",
      "P= [[0. 1.]\n",
      " [1. 0.]]\n",
      "Matrice P*A \n",
      " [[3. 4.]\n",
      " [2. 1.]]\n",
      "Matrice ottenuta moltipicando Le ed U \n",
      " [[3. 4.]\n",
      " [2. 1.]]\n"
     ]
    }
   ],
   "source": [
    "import numpy as np\n",
    "import scipy as sp\n",
    "from scipy.linalg import lu\n",
    "A=np.array([[2,1],[3,4]])\n",
    "PT,L,U=lu(A)  #Restituisce in output la trasposta della matrice di Permutazione\n",
    "P=PT.T.copy()   #P è la matrice di permutazione\n",
    "print(\"A=\",A)\n",
    "print(\"L=\",L)\n",
    "print(\"U=\",U)\n",
    "print(\"P=\",P)\n",
    "#LU è la fattorizzazione di P*A (terorema 2)\n",
    "A1=P@A # equivale al prodotto matrice x matrice np.dot(P,A)\n",
    "A1Fatt=L@U # equivale a np.dot(L,U)\n",
    "print(\"Matrice P*A \\n\", A1)\n",
    "print(\"Matrice ottenuta moltipicando Le ed U \\n\",A1Fatt)\n"
   ]
  },
  {
   "cell_type": "markdown",
   "id": "76f8f316-d9af-4596-9eed-5aa64f913f1f",
   "metadata": {},
   "source": [
    "## Nota 2\n",
    "La funzione *scipy.linalg.cholesky(a, lower=True)*, presa in input una matrice simmetrica e definta positiva restituisce in output la matrice L triangolare inferiore tale che $A=L \\cdot L^T$. Se la matrice in input non è definita positiva, restituisce un errore."
   ]
  },
  {
   "cell_type": "code",
   "execution_count": 38,
   "id": "162e3ab4-4a37-43d4-9727-6f032595449f",
   "metadata": {},
   "outputs": [
    {
     "name": "stdout",
     "output_type": "stream",
     "text": [
      "[[ 2  1  3]\n",
      " [ 1  5  7]\n",
      " [ 3  7 12]]\n"
     ]
    }
   ],
   "source": [
    "from scipy.linalg import cholesky\n",
    "A=np.array([[2,1,3],[1,5,7],[3,7,12]])\n",
    "print(A)"
   ]
  },
  {
   "cell_type": "code",
   "execution_count": 39,
   "id": "96fd572b-f470-4436-aea2-0bb5da4fdd23",
   "metadata": {},
   "outputs": [
    {
     "name": "stdout",
     "output_type": "stream",
     "text": [
      "[[1.41421356 0.         0.        ]\n",
      " [0.70710678 2.12132034 0.        ]\n",
      " [2.12132034 2.59272486 0.8819171 ]]\n",
      "A1=\n",
      " [[ 2.  1.  3.]\n",
      " [ 1.  5.  7.]\n",
      " [ 3.  7. 12.]]\n"
     ]
    }
   ],
   "source": [
    "L=cholesky(A,lower=True)\n",
    "print(L)\n",
    "A1=L@L.T\n",
    "print(\"A1=\\n\",A1)"
   ]
  },
  {
   "cell_type": "markdown",
   "id": "6760f2a0-ffec-49a1-96f7-ed643109e4d7",
   "metadata": {},
   "source": [
    "## Nota 3\n",
    "La funzione *scipy.linalg.qr(a)*, presa in input una matrice A (nxn)  a rango massimo, restituisce in output le matrici Q (ortogonale di dimensione nxn) ed una matrice R (nxn) triangolare superiore tale che $A=Q \\cdot R$"
   ]
  },
  {
   "cell_type": "code",
   "execution_count": 40,
   "id": "e336d0a6-f2c3-4a7b-a8e3-871e70ca917c",
   "metadata": {},
   "outputs": [
    {
     "name": "stdout",
     "output_type": "stream",
     "text": [
      "Q= [[-0.53452248  0.6882472  -0.49051147]\n",
      " [-0.26726124 -0.6882472  -0.67445327]\n",
      " [-0.80178373 -0.22941573  0.55182541]]\n",
      "R= [[ -3.74165739  -7.48331477 -13.09580085]\n",
      " [  0.          -4.35889894  -5.50597761]\n",
      " [  0.           0.           0.42919754]]\n",
      "[[ 2.  1.  3.]\n",
      " [ 1.  5.  7.]\n",
      " [ 3.  7. 12.]]\n"
     ]
    }
   ],
   "source": [
    "from scipy.linalg import qr\n",
    "A=np.array([[2,1,3],[1,5,7],[3,7,12]])\n",
    "Q,R=qr(A)\n",
    "print(\"Q=\",Q)\n",
    "print(\"R=\",R)\n",
    "A1=Q@R\n",
    "print(A1)"
   ]
  },
  {
   "cell_type": "markdown",
   "id": "270ae20e-08a7-4ab4-a710-c4541a398ec1",
   "metadata": {},
   "source": [
    "## Esercizio 4\n",
    "- si implementi una function LUsolve(P,A,L,U,b) che risolve il sistema lineare Ax=b nel caso di fattorizzazione $PA = LU$ assegnata,\n",
    "combinando i metodi di risoluzione in avanti ed all'indietro  implementati nel file SolveTriangular.py.\n",
    "- si testi sulla matrice A = np.array([[2, 5, 8, 7], [5, 2, 2, 8], [7, 5, 6, 6], [5, 4, 4, 8]]) con termine noto b scelto in maniera tale che la soluzione esatta del sistema lineare sia il vettore formato da tutti 1."
   ]
  },
  {
   "cell_type": "code",
   "execution_count": 5,
   "id": "977d2d78-e713-4f5c-82b9-12cf66b0fec1",
   "metadata": {
    "tags": []
   },
   "outputs": [],
   "source": [
    "import SolveTriangular\n",
    "\n",
    "def LUsolve(P, A, L, U, b):\n",
    "    y, flag = SolveTriangular.Lsolve(L,P@b)\n",
    "    if (flag == 1):\n",
    "        print(\"errore della risoluzione\")\n",
    "        x = []\n",
    "    else:\n",
    "        x, flag = SolveTriangular.Usolve(U, y)\n",
    "    \n",
    "    return x"
   ]
  },
  {
   "cell_type": "code",
   "execution_count": 76,
   "id": "f30d5b99-d10b-4eb6-9777-a07267b1bb98",
   "metadata": {
    "tags": []
   },
   "outputs": [
    {
     "name": "stdout",
     "output_type": "stream",
     "text": [
      "A= [[2 5 8 7]\n",
      " [5 2 2 8]\n",
      " [7 5 6 6]\n",
      " [5 4 4 8]]\n",
      "L= [[ 1.          0.          0.          0.        ]\n",
      " [ 0.28571429  1.          0.          0.        ]\n",
      " [ 0.71428571  0.12        1.          0.        ]\n",
      " [ 0.71428571 -0.44       -0.46153846  1.        ]]\n",
      "U= [[ 7.          5.          6.          6.        ]\n",
      " [ 0.          3.57142857  6.28571429  5.28571429]\n",
      " [ 0.          0.         -1.04        3.08      ]\n",
      " [ 0.          0.          0.          7.46153846]]\n",
      "P= [[0. 0. 1. 0.]\n",
      " [1. 0. 0. 0.]\n",
      " [0. 0. 0. 1.]\n",
      " [0. 1. 0. 0.]]\n",
      "soluzione : [[1.]\n",
      " [1.]\n",
      " [1.]\n",
      " [1.]]\n"
     ]
    }
   ],
   "source": [
    "from scipy.linalg import lu\n",
    "A=np.array([[2, 5, 8, 7], [5, 2, 2, 8], [7, 5, 6, 6], [5, 4, 4, 8]])\n",
    "b = np.sum(A,axis=1).reshape(4,1)\n",
    "\n",
    "PT,L,U=lu(A)  #Restituisce in output la trasposta della matrice di Permutazione\n",
    "P=PT.T.copy()   #P è la matrice di permutazione\n",
    "print(\"A=\",A)\n",
    "print(\"L=\",L)\n",
    "print(\"U=\",U)\n",
    "print(\"P=\",P)\n",
    "x = LUsolve(P, A, L, U, b)\n",
    "print(\"soluzione :\", x)"
   ]
  },
  {
   "cell_type": "markdown",
   "id": "daa94c30-7b43-4ab5-896b-f2b2409a8a56",
   "metadata": {},
   "source": [
    "## Esercizio 5\n",
    "Si implementi una function *solve_nsis(A,B)* per il calcolo della soluzione di un generale sistema lineare $AX = B$, con $X, B$ matrici, che usi la fattorizzazione LU della matrice PA, per risolvere n sistemi lineari: aventi la stessa matrice dei coefficienti A e termine noto l'i-esima colonna della matrice B. \n",
    "Utilizzarla poi per il calcolo dell'inversa delle\n",
    "matrici non singolari\n",
    "$$\n",
    "A=\\left[\n",
    "\\begin{array}{ccc}\n",
    "3 & 5 & 7\\\\\n",
    "2 & 3 & 4\\\\\n",
    "5 & 9 & 11\n",
    "\\end{array}\n",
    "\\right ], \\qquad\n",
    "A=\\left[\n",
    "\\begin{array}{cccc}\n",
    "1 & 2 & 3 & 4\\\\\n",
    "2 & -4 & 6 & 8\\\\\n",
    "-1 & -2 & -3 & -1\\\\\n",
    "5 & 7 & 0 & 1\n",
    "\\end{array}\n",
    "\\right ],\n",
    "$$\n",
    "confrontando i risultati ottenuti con l'output\n",
    "della funzione  *scipy.linalg.inv(A)*"
   ]
  },
  {
   "cell_type": "code",
   "execution_count": 10,
   "id": "c405f01b-4e3c-467d-804d-cd0a81fbc778",
   "metadata": {
    "tags": []
   },
   "outputs": [],
   "source": [
    "def solve_nsis(A, B):\n",
    "    X = []\n",
    "    it = 0\n",
    "    \n",
    "    # inizializzo le variabili che servono per la funzione LUsolve\n",
    "    PT, L, U = lu(A)\n",
    "    P = PT.T.copy()\n",
    "    \n",
    "    while (it < B.shape[0] ):\n",
    "        sol = LUsolve(P, A, L, U, B[:,it])\n",
    "        if it == 0:\n",
    "            X = sol.copy()\n",
    "        else:\n",
    "            X = np.concatenate((X, sol), axis=1)\n",
    "        \n",
    "        it += 1\n",
    "    \n",
    "    return X"
   ]
  },
  {
   "cell_type": "code",
   "execution_count": 16,
   "id": "1e71e8bb-0341-43e7-b4d5-473841549de9",
   "metadata": {
    "tags": []
   },
   "outputs": [
    {
     "name": "stdout",
     "output_type": "stream",
     "text": [
      "Fatto con il nostro metodo : \n",
      " [[-1.5  4.  -0.5]\n",
      " [-1.  -1.   1. ]\n",
      " [ 1.5 -1.  -0.5]]\n",
      "Fatto con linalg.inv : \n",
      " [[-1.5  4.  -0.5]\n",
      " [-1.  -1.   1. ]\n",
      " [ 1.5 -1.  -0.5]]\n"
     ]
    }
   ],
   "source": [
    "A = np.array([ [3, 5, 7], [2, 3, 4], [5, 9, 11] ])\n",
    "A2 = np.array([ [1,2,3,4], [2,-4,6,8], [-1,-2,-3,-1], [5,7,0,1] ])\n",
    "B = np.eye(A.shape[0])\n",
    "X = solve_nsis(A, B)\n",
    "print(\"Fatto con il nostro metodo : \\n\",X)\n",
    "print(\"Fatto con linalg.inv : \\n\",np.linalg.inv(A))"
   ]
  },
  {
   "cell_type": "markdown",
   "id": "412ae29a-6a32-43e0-9456-e7677f695feb",
   "metadata": {},
   "source": [
    "## Esercizio 6\n",
    "Sfruttando la fattorizzazione PA=LU  di una delle matrici del punto precedente, calcolarne il determinante.\n"
   ]
  },
  {
   "cell_type": "code",
   "execution_count": 27,
   "id": "e6de5612-78ef-44cf-a0e7-50905309c2bb",
   "metadata": {
    "tags": []
   },
   "outputs": [
    {
     "name": "stdout",
     "output_type": "stream",
     "text": [
      "-359.9999999999999\n"
     ]
    }
   ],
   "source": [
    "PT, L, U = lu(A2)\n",
    "P = PT.T.copy()\n",
    "\n",
    "det1 =np.prod(np.diag(U)) * np.linalg.det(P)\n",
    "# il determinante di A di una matrice fattorizzata LU di PA\n",
    "# viene calcolata facendo la produttoria dei valori della diag principale\n",
    "# U * il det di P che equalivale a (-1)**s dove s sono il numero\n",
    "# di scambi effettuati per ricavare U che è la matrice a scala usando Gauss\n",
    "print(det1)"
   ]
  },
  {
   "cell_type": "markdown",
   "id": "8b359b50-ef2b-4a62-8623-b4cba6a31468",
   "metadata": {},
   "source": [
    "## Esercizio 7\n",
    "Per valori di $n = 4 : 6 : 40$, si consideri il sistema lineare $A_n x = b$ con\n",
    "$A_n$ matrice di Hankel di ordine $n$ di elementi\n",
    "$$\n",
    "a^{(n)}_{i,n+k-i}\n",
    "=\n",
    "\\left \\{\n",
    "\\begin{array}{ll}\n",
    "2^k & \\hbox{se} \\ k > 0,\\\\\n",
    "2^{1/(2-k)} & \\hbox{se} \\ k \\leq 0,\n",
    "\\end{array}\n",
    "\\right .\n",
    "\\qquad\n",
    "i = 1, ..., n, \\ \\  k = i + 1-n, ..., i,\n",
    "$$\n",
    "e $b$ scelto in modo che risulti $x = [1, 1, ..., 1]^T$. Si risolva tale sistema\n",
    "con il metodo di fattorizzazione LU della matrice PA\n",
    "e il metodo di fattorizzazione QR (Q,R  =scipy.linalg.qr(A)).\n",
    "Calcolare gli errori relativi $\\| \\delta x \\|_2/\\|x\\|_2$ da cui sono affette\n",
    "le soluzioni calcolate con i due metodi e produrre, al variare di $n$, un\n",
    "grafico in scala logaritmica ( matplotlib.plyplot.loglog) degli errori relativi calcolati. Che cosa si\n",
    "osserva?\n",
    "\n",
    "NB: per il calcolo della matrice di Hankel utilizzare la function \n",
    "\n",
    "def Hankel(n):\n",
    "\n",
    "    A=np.zeros((n,n),dtype=float)\n",
    "    for i in range(0,n):\n",
    "        for k in range(i+1-n,i+1):\n",
    "            if k>0:\n",
    "                A[i,n-1+k-i]=2.0**(k+1)\n",
    "            else:\n",
    "                A[i,n-1+k-i]=2.0**(1/(2-k-1))\n",
    "    return A"
   ]
  },
  {
   "cell_type": "code",
   "execution_count": 39,
   "id": "c14b397f-765a-4dbd-bb20-80b7deca67c9",
   "metadata": {
    "tags": []
   },
   "outputs": [],
   "source": [
    "def QRsolve(Q, R, b):\n",
    "    y = np.linalg.solve(Q, b)\n",
    "    x = np.linalg.solve(R, y)\n",
    "    \n",
    "    return x"
   ]
  },
  {
   "cell_type": "code",
   "execution_count": 55,
   "id": "d5e324f7-cf4e-487d-9226-334b78174dfc",
   "metadata": {},
   "outputs": [
    {
     "data": {
      "text/plain": [
       "<matplotlib.legend.Legend at 0x2045ed7d990>"
      ]
     },
     "execution_count": 55,
     "metadata": {},
     "output_type": "execute_result"
    },
    {
     "data": {
      "image/png": "[encoded data removed]",
      "text/plain": [
       "<Figure size 640x480 with 1 Axes>"
      ]
     },
     "metadata": {},
     "output_type": "display_data"
    }
   ],
   "source": [
    "def Hankel(n):\n",
    "\n",
    "    A=np.zeros((n,n),dtype=float)\n",
    "    for i in range(0,n):\n",
    "        for k in range(i+1-n,i+1):\n",
    "            if k>0:\n",
    "                A[i,n-1+k-i]=2.0**(k+1)\n",
    "            else:\n",
    "                A[i,n-1+k-i]=2.0**(1/(2-k-1))\n",
    "    return A\n",
    "\n",
    "err_rel_LU = []\n",
    "err_rel_QR = []\n",
    "\n",
    "# non chiedermi perchè è diverso da ciò che è scritto nella consegna\n",
    "# range(4, 41, 6) primo valore inizio, secondo valore fine, terzo passo\n",
    "for n in range(4, 41, 6):\n",
    "    A_n = Hankel(n)\n",
    "    b = np.sum(A_n,axis=1).reshape(n,1)\n",
    "    x = np.array([ 1 for i in range(A_n.shape[0])]).reshape(n,1)\n",
    "    \n",
    "    PT, L, U = lu(A_n)\n",
    "    P = PT.T.copy()\n",
    "    x_LU = LUsolve(P, A_n, L, U, b)\n",
    "    err_rel_LU.append( np.linalg.norm(x_LU-x, 2)/np.linalg.norm(x , 2) )\n",
    "    #print(\"Grado Hankel \", n)\n",
    "    #print(\"Sol LU \", x_LU)\n",
    "    \n",
    "    Q,R = qr(A_n)\n",
    "    x_QR = QRsolve(Q, R, b)\n",
    "    err_rel_QR.append( np.linalg.norm(x_QR-x, 2)/np.linalg.norm(x , 2) )\n",
    "    #print(\"Sol QR \", x_QR)\n",
    "\n",
    "plt.semilogy(range(4, 41, 6), err_rel_LU,'ro-', range(4, 41, 6), err_rel_QR,'go-')\n",
    "plt.legend(['errori LU', 'errori QR'])\n",
    "    "
   ]
  },
  {
   "cell_type": "markdown",
   "id": "00b1242a-d51d-40fa-a9ed-716cc4ab9d89",
   "metadata": {},
   "source": [
    "## Esercizio 8\n",
    "\n",
    "Ripetere l'esercizio precedente per risolvere il sistema lineare $Ax = b$\n",
    "con $A$ e $b$ cos\\`i  definiti:\n",
    "$$\n",
    "a^{(n)}_{i,j}=\n",
    "\\left \\{\n",
    "\\begin{array}{ll}\n",
    "1 & \\hbox{se} \\ i=j \\ \\hbox{o \\, se} \\ j=n,\\\\\n",
    "-1 & \\hbox{se} \\ i>j,\\\\\n",
    "0 & \\hbox{altrimenti}\n",
    "\\end{array}\n",
    "\\right .\n",
    "\\qquad\n",
    "b = A \\cdot [1, ..., 1]^T,\n",
    "$$\n",
    "per $n = 48 : 2 : 58$ e $b$ scelto in modo che risulti $x = [1, 1, ..., 1]^T$. Che\n",
    "cosa si osserva?"
   ]
  },
  {
   "cell_type": "markdown",
   "id": "66ae0b30-e823-4742-9b43-95268605d358",
   "metadata": {
    "jp-MarkdownHeadingCollapsed": true,
    "tags": []
   },
   "source": [
    "## Metodi iterativi di Jacobi, Guass-Seidel e Gausseidel_SOR per la soluzione numerica di un sistema lineare"
   ]
  },
  {
   "cell_type": "markdown",
   "id": "28bc92ed-296e-4af1-9b6a-839bf95f81ca",
   "metadata": {},
   "source": [
    "## Esercizio 9\n",
    "Implementare la  funzione $jacobi(A,b,x0,toll,itmax)$ per risolvere il  sistema lineare Ax=b utilizzando il Metodo iterativo di Jacobi. \n",
    "La funzione prende in input:\n",
    "- A: matrice dei coefficienti\n",
    "- b: termine noto\n",
    "- x0: vettore iniziale della stessa dimensione di b\n",
    "- toll: tolleranza per il criterio di arresto\n",
    "- itmax: iterazioni massime oltre le quali il metodo si ferma\n",
    "\n",
    "Calcolare il raggio spettrale della matrice di iterazione.\n",
    "\n",
    "Implementare un criterio di arresto per il procedimento iterativo in termini di : $||x^{(k)}-x^{(k-1)}||/||x^{(k)}|| <toll$"
   ]
  },
  {
   "cell_type": "code",
   "execution_count": 32,
   "id": "78ccf7dc-9c02-48fd-906b-ae6c09561681",
   "metadata": {
    "tags": []
   },
   "outputs": [],
   "source": [
    "def jacobi(A, b, x0, toll, itmax):\n",
    "    errore=1000\n",
    "    # inizializzo le matrici\n",
    "    n = A.shape[0]\n",
    "    D = np.diag(A).reshape(n,1)\n",
    "    D1 = np.diag(np.diag(A))\n",
    "    D_INV = np.linalg.inv(D1)\n",
    "    #print(D)\n",
    "    #print(D_INV)\n",
    "    d_inv = 1/D\n",
    "    #print(d_inv)\n",
    "    E = np.tril(A, -1)\n",
    "    F = np.triu(A, +1)\n",
    "    \n",
    "    M = D\n",
    "    N = -(E+F)\n",
    "    it = 0\n",
    "    x1 = d_inv*(b+N@x0)\n",
    "    x_prova = D_INV@N@x0+D_INV@b\n",
    "    \n",
    "    err_vet = []\n",
    "    #print(x1)\n",
    "    #print(x_prova)\n",
    "    \n",
    "    while (it <= itmax and errore >= toll):\n",
    "        x0 = x1\n",
    "        x1 = D_INV@N@x0+D_INV@b\n",
    "        errore = np.linalg.norm(x1 - x0, 2)/np.linalg.norm(x0, 2)\n",
    "        err_vet.append(errore)\n",
    "        it += 1\n",
    "        \n",
    "    return x1, it, err_vet\n",
    "    "
   ]
  },
  {
   "cell_type": "markdown",
   "id": "94f1b913-cae9-4b23-b6ab-ed8dcc1d4ce6",
   "metadata": {},
   "source": [
    "## Esercizio 10\n",
    "Implementare la  funzione $gauss$_$seidel(A,b,x0,toll,it_max)$ per risolvere il  sistema lineare Ax=b utilizzando il Metodo iterativo di Gauss-Seidel. \n",
    "La funzione prende in input:\n",
    "- A: matrice dei coefficienti\n",
    "- b: termine noto\n",
    "- x0: vettore iniziale della stessa dimensione di b\n",
    "- toll: tolleranza per il criterio di arresto\n",
    "- itmax: iterazioni massime oltre le quali il metodo si ferma\n",
    "\n",
    "Calcolare il raggio spettrale della matrice di iterazione.\n",
    "\n",
    "Implementare un criterio di arresto per il procedimento iterativo in termini di : $||x^{(k)}-x^{(k-1)}||/||x^{(k)}|| <toll$"
   ]
  },
  {
   "cell_type": "code",
   "execution_count": 33,
   "id": "4163b2df-e2b2-4c29-b69c-2a01b6fbd12f",
   "metadata": {
    "tags": []
   },
   "outputs": [],
   "source": [
    "def gauss_seidel(A, b, x0, toll, itmax):\n",
    "    errore=1000\n",
    "    # inizializzo le matrici\n",
    "    n = A.shape[0]\n",
    "    D1 = np.diag(np.diag(A))\n",
    "    E = np.tril(A, -1)\n",
    "    F = np.triu(A, +1)\n",
    "    \n",
    "    M = E+D1\n",
    "    N = -F\n",
    "    M_INV = np.linalg.inv(M)\n",
    "    it = 0\n",
    "    x1 = M_INV@N@x0+M_INV@b\n",
    "    err_vet = []\n",
    "    #print(x1)\n",
    "    \n",
    "    Tg = M_INV@N\n",
    "    rag_spettr = np.max(np.abs(np.linalg.eigvals(Tg)))\n",
    "    print(rag_spettr)\n",
    "    \n",
    "    while (it <= itmax and errore >= toll):\n",
    "        x0 = x1\n",
    "        x1 = M_INV@N@x0+M_INV@b\n",
    "        errore = np.linalg.norm(x1 - x0, 2)/np.linalg.norm(x0, 2)\n",
    "        err_vet.append(errore)\n",
    "        it += 1\n",
    "        \n",
    "    return x1, it, err_vet"
   ]
  },
  {
   "cell_type": "markdown",
   "id": "d45f316b-0e7e-4d7a-9d5d-08ffc5610cab",
   "metadata": {},
   "source": [
    "## Esercizio 11\n",
    "Testare i metodi di Jacobi e di Gauss Seidel nella soluzione dei sistemi lineare Ax=b, dove \n",
    "- A=np.array([[4,1,3],[3,4,1],[1,1,17]]) \n",
    "- A=np.array([[3,0, 4],[7, 4, 3],[-1, -1 ,-2]])\n",
    "- A=np.array([[5, 0, -1, 2],[ -2, 4, 1, 0],[0, -1, 4, -1],[ 2, 0, 0, 3]])\n",
    "\n",
    "ed il termine noto del sistema è scelto in maniera tale che la soluzione esatta del sistema sia il vettore fatto da tutti 1.\n",
    "Visualizzare in un grafico in scala logaritmica  l'errore per ogni iterazione per ciascun metodo. Cosa si osserva?\n",
    "Porre toll=1e-8 it_max=500 e x0=np.zeros(A.shape[0]"
   ]
  },
  {
   "cell_type": "markdown",
   "id": "389daa82-16aa-4c52-b830-41693c320ecd",
   "metadata": {},
   "source": [
    "## Esercizio 12\n",
    "Implementare la  funzione $gauss$_$seidel$_sor(A,b,x0,omega, toll,itmax) per risolvere il  sistema lineare Ax=b utilizzando il Metodo iterativo di Gauss-Seidel-SOR\n",
    "La funzione prende in input:\n",
    "- A: matrice dei coefficienti\n",
    "- b: termine noto\n",
    "- x0: vettore iniziale della stessa dimensione di b\n",
    "- omega: il parametro di rilassamento\n",
    "- toll: tolleranza per il criterio di arresto\n",
    "- itmax: iterazioni massime oltre le quali il metodo si ferma\n",
    "\n",
    "Restituisce in output\n",
    "- la soluzione x\n",
    "- l'errore ad ogni iterazione calcolato come $||x^{(k)}-x^{(k-1)}||/||x^{(k)}||$\n",
    "\n",
    "Calcolare il raggio spettrale della matrice di iterazione.\n",
    "\n",
    "Implementare un criterio di arresto per il procedimento iterativo in termini di : $||x^{(k)}-x^{(k-1)}||/||x^{(k)}|| <toll$"
   ]
  },
  {
   "cell_type": "code",
   "execution_count": 38,
   "id": "55b7ff6b-6f9d-4ec5-b990-0abb3f0b3c0b",
   "metadata": {
    "tags": []
   },
   "outputs": [],
   "source": [
    "def gauss_seidel_sor(A, b, x0, toll, itmax, omega):\n",
    "    errore=1000\n",
    "    # inizializzo le matrici\n",
    "    n = A.shape[0]\n",
    "    D1 = np.diag(np.diag(A))\n",
    "    E = np.tril(A, -1)\n",
    "    F = np.triu(A, +1)\n",
    "    \n",
    "    M = E+D1\n",
    "    N = -F\n",
    "    M_INV = np.linalg.inv(M)\n",
    "    it = 0\n",
    "    \n",
    "    inv_temp = np.linalg.inv(D1+omega*E)\n",
    "    Tomega = inv_temp@((1-omega)*D1-omega*F)\n",
    "    rag_spettr = np.max(np.abs(np.linalg.eigvals(Tomega)))\n",
    "    print(rag_spettr)\n",
    "    xold = x0.copy()\n",
    "    xnew = x0.copy()\n",
    "    \n",
    "    err_vet = []\n",
    "    \n",
    "    while (it <= itmax and errore >= toll):\n",
    "        # mi calcolo il vettore colonna dato da b\n",
    "        # e la moltiplicazione tra F e xold\n",
    "        temp = b - F@xold\n",
    "        # ottengo x tilde usando Lsolve dal package SolveTriangular\n",
    "        xtilde, flag = SolveTriangular.Lsolve(M, temp)\n",
    "        # calcolo xk nuovo\n",
    "        xnew = (1-omega)*xold+omega*xtilde\n",
    "        errore = np.linalg.norm(xnew - xold, 2)/np.linalg.norm(xnew, 2)\n",
    "        err_vet.append(errore)\n",
    "        xold = xnew.copy()\n",
    "        it += 1\n",
    "        \n",
    "    return x1, it, err_vet"
   ]
  },
  {
   "cell_type": "code",
   "execution_count": 30,
   "id": "38703e79-c87e-4118-89ed-f580aa14c351",
   "metadata": {},
   "outputs": [
    {
     "ename": "ValueError",
     "evalue": "too many values to unpack (expected 2)",
     "output_type": "error",
     "traceback": [
      "\u001b[1;31m---------------------------------------------------------------------------\u001b[0m",
      "\u001b[1;31mValueError\u001b[0m                                Traceback (most recent call last)",
      "Cell \u001b[1;32mIn[30], line 8\u001b[0m\n\u001b[0;32m      5\u001b[0m it_max\u001b[38;5;241m=\u001b[39m\u001b[38;5;241m500\u001b[39m \n\u001b[0;32m      6\u001b[0m x0\u001b[38;5;241m=\u001b[39mnp\u001b[38;5;241m.\u001b[39mzeros(A\u001b[38;5;241m.\u001b[39mshape[\u001b[38;5;241m0\u001b[39m])\u001b[38;5;241m.\u001b[39mreshape(A\u001b[38;5;241m.\u001b[39mshape[\u001b[38;5;241m0\u001b[39m],\u001b[38;5;241m1\u001b[39m)\n\u001b[1;32m----> 8\u001b[0m x1, n_it \u001b[38;5;241m=\u001b[39m jacobi(A, b, x0, toll, it_max)\n\u001b[0;32m      9\u001b[0m \u001b[38;5;66;03m#print(\"x \", x1, \"num_it \", n_it)\u001b[39;00m\n\u001b[0;32m     10\u001b[0m x1, n_it \u001b[38;5;241m=\u001b[39m gauss_seidel(A, b, x0, toll, it_max)\n",
      "\u001b[1;31mValueError\u001b[0m: too many values to unpack (expected 2)"
     ]
    }
   ],
   "source": [
    "A=np.array([[4,1,3],[3,4,1],[1,1,17]])\n",
    "A3 = np.array([[5, 0, -1, 2],[ -2, 4, 1, 0],[0, -1, 4, -1],[ 2, 0, 0, 3]])\n",
    "b = np.sum(A,axis=1).reshape(A.shape[0],1)\n",
    "toll=1e-8 \n",
    "it_max=500 \n",
    "x0=np.zeros(A.shape[0]).reshape(A.shape[0],1)\n",
    "\n",
    "x1, n_it = jacobi(A, b, x0, toll, it_max)\n",
    "#print(\"x \", x1, \"num_it \", n_it)\n",
    "x1, n_it = gauss_seidel(A, b, x0, toll, it_max)\n",
    "print(\"x \", x1, \"num_it \", n_it)\n"
   ]
  },
  {
   "cell_type": "markdown",
   "id": "2d2d64d1-52ae-43c5-a76c-e869474b6496",
   "metadata": {},
   "source": [
    "## Esercizio 13\n",
    "Scrivere una funzione creaPoisson(n) che preso in input l'ordine della matrice quadrata di Poisson la costruzione secondo la seguente formula:\n",
    "$$A =\n",
    "\\left [\n",
    "\\begin{array}{ccccccccccc}\n",
    "4 & -1 & 0 & -1 &0 &0 & 0& 0& \\cdots &   0 & 0\\\\\n",
    "-1 & 4 & -1 & 0  &-1 &0 & 0& 0& \\cdots &   0 & 0\\\\\n",
    "0 & -1 & 4 & -1  &0 &-1 & 0& 0& \\cdots &   0 & 0 \\\\\n",
    "-1 & 0 & -1 & 4  &-1 &0  & -1 & 0& \\cdots &   0 & 0\\\\\n",
    "0 & -1 & 0 & -1  & 4 &-1 & 0 & -1& \\cdots &   0 & 0\\\\\n",
    "0 & 0 & -1 & 0  & -1 &4 & -1 & 0&  -1 & 0 & 0 \\\\\n",
    "0 & 0 & 0 & \\ddots  & 0 &\\ddots & \\ddots & \\ddots& \\ddots & \\ddots & 0\\\\\n",
    "0 & 0 & 0 & 0  & -1 &0  & -1 & 4& -1 &   0& -1\\\\\n",
    "\\end{array}\n",
    " \\right ], \\qquad\n",
    "$$\n",
    "- Risolvere il sistema lineare Ax=b con matrice dei coefficienti A di Poisson di ordine 10 e termine noto b scelto in maniera tale che il sistema abbia soluzione il vettore x con tutte le componenti  uguali ad 1, utilizzando  il metodo iterativo di Jacobi, Gauss-Seidel e Gauss-Seidel-Sor con parametro omega scelto tra 1 e 2 in maniera tale che il raggio spettrale della matrice di iterazione sia il più piccolo possibile e confrontare su un unico grafico l'andamento degli errori in scala logaritmica. Usare toll=1e-10."
   ]
  },
  {
   "cell_type": "code",
   "execution_count": 21,
   "id": "d3eba7cc-0875-44b7-98f7-fd133aad976a",
   "metadata": {
    "tags": []
   },
   "outputs": [],
   "source": [
    "def creaPoisson(n):\n",
    "    #costruire una matrice di Poisson\n",
    "    d=np.ones((n))*4\n",
    "    e=-np.ones((n-1,))\n",
    "    f=-np.ones((n-3,))\n",
    "    A=np.diag(d)+np.diag(e,-1)+np.diag(e,1)+np.diag(f,-3)+np.diag(f,3)\n",
    "    return A"
   ]
  },
  {
   "cell_type": "code",
   "execution_count": 39,
   "id": "72512753-40f6-4345-b241-64a8aa5e3f2f",
   "metadata": {
    "tags": []
   },
   "outputs": [
    {
     "name": "stdout",
     "output_type": "stream",
     "text": [
      "0.7185579379397853\n",
      "0.5103393892922706\n"
     ]
    },
    {
     "data": {
      "image/png": "[encoded data removed]",
      "text/plain": [
       "<Figure size 640x480 with 1 Axes>"
      ]
     },
     "metadata": {},
     "output_type": "display_data"
    }
   ],
   "source": [
    "A=creaPoisson(10)\n",
    "b=np.sum(A,axis=1)\n",
    "toll=1e-10\n",
    "it_max=1000\n",
    "n=A.shape[0]\n",
    "x0=np.zeros(A.shape[0]).reshape(n,1)\n",
    "b=np.sum(A,axis=1).reshape(n,1)\n",
    "sol_jac,it_jac,err_vet_jac=jacobi(A,b,x0,toll,it_max)\n",
    "plt.semilogy(np.arange(it_jac),err_vet_jac)\n",
    "#print(\"sol=\",sol_jac,\"it \",it_jac)\n",
    "solgs,itgs,err_vet_gs=gauss_seidel(A,b,x0,toll,it_max)\n",
    "#print(\"solgs=\",solgs,\"it \",itgs)\n",
    "plt.semilogy(np.arange(itgs),err_vet_gs)\n",
    " \n",
    "omega=1.4\n",
    "solgs_sor,itgs_sor,err_vet_gs_sor=gauss_seidel_sor(A,b,x0,toll,it_max,omega)\n",
    "#print(\"solgs_sor=\",solgs_sor,\"it \",itgs_sor)\n",
    "plt.semilogy(np.arange(itgs_sor),err_vet_gs_sor)\n",
    "plt.legend(['Jacobi','Gauss Seidel','Gauss Seidel Sor'])\n",
    "plt.show()\n",
    "\n",
    "#Si nota come a raggio spettrale più piccolo, corrisponde una magguire velocità (minor numero di iterazioni)"
   ]
  },
  {
   "cell_type": "code",
   "execution_count": null,
   "id": "dae2726d-2252-4fb9-a8d0-046998191f24",
   "metadata": {},
   "outputs": [],
   "source": []
  }
 ],
 "metadata": {
  "kernelspec": {
   "display_name": "Python 3 (ipykernel)",
   "language": "python",
   "name": "python3"
  },
  "language_info": {
   "codemirror_mode": {
    "name": "ipython",
    "version": 3
   },
   "file_extension": ".py",
   "mimetype": "text/x-python",
   "name": "python",
   "nbconvert_exporter": "python",
   "pygments_lexer": "ipython3",
   "version": "3.11.5"
  }
 },
 "nbformat": 4,
 "nbformat_minor": 5
}
