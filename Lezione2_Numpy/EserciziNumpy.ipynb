{
 "cells": [
  {
   "cell_type": "markdown",
   "id": "cb8d7ec5-c308-4c91-8bbf-adad4c51b57f",
   "metadata": {},
   "source": [
    "# Esercizio 1"
   ]
  },
  {
   "cell_type": "markdown",
   "id": "b7c7f021-757d-4cd3-bba5-57ca8bfd4077",
   "metadata": {},
   "source": [
    "Definire i  numpy array a=[1.2, 5.4, 6, 1.59] e b=[5.2, 1.2, 1.5, 2] ed eseguire le seguenti operazioni:\n",
    "  - calcolare la radice quadrata degli elementi di a;\n",
    "   - calcolare 𝑒xp(𝑎/2) ;\n",
    "   - calcolare il vettore somma tra a e b ;\n",
    "   - moltiplicare ogni elemento di a per il corrispondente elemento di b;\n",
    "   - creare un vettore di valori uniformemente equispaziati tra 0 e 30 con passo  0.5;\n",
    "   - creare un vettore di 100 valori uniformemente equispaziati tra 1 e 2.\n",
    "   - usare linspace() per creare un numpy array 2x6 con prima riga di 6 valori uniformi compresi tra 10 e 20 e seconda riga 6 valori     \n",
    "      uniformi compresi tra  20 e 10;\n",
    "   - calcolare il prodotto scalare tra a e b;\n",
    "   - creare la matrice A che ha come righe i vettori a e b ;\n",
    "   - calcolare il prodotto scalare tra i due vettori a e b;\n",
    "   - eseguire il prodotto della matrice A per il vettore b e assegnarlo ad y;\n",
    "   - costruire una matrice diagonale D a partire dal vettore a;"
   ]
  },
  {
   "cell_type": "code",
   "execution_count": null,
   "id": "6d219be6-5767-4259-94a9-74b809ff7153",
   "metadata": {
    "tags": []
   },
   "outputs": [],
   "source": [
    "# per farti uscire le funzioni che puoi usare\n",
    "# scrivi Oggetto. e schiaccia Tab\n",
    "\n",
    "import numpy as np\n",
    "import platform\n",
    "\n",
    "a=[1.2, 5.4, 6, 1.59] \n",
    "b=[5.2, 1.2, 1.5, 2]\n",
    "\n",
    "print(\"Valori della matrice a = \", a)\n",
    "print(\"Radice quadrata dei elementi di a = \", np.sqrt(a))\n",
    "print(\"Esponenziale dei elementi di a/2 = \", np.exp([x/2 for x in a]))\n",
    "print(\"Vettore somma :\", [ a[x]+b[x] for x in range(len(a))] )\n",
    "\n",
    "#c = []\n",
    "#for x in range(len(a)):\n",
    "#    c.append(a[x] + b[x])\n",
    "\n",
    "#print(c)\n",
    "\n",
    "print(\"Prodotto tra elementi:\", [ a[x]*b[x] for x in range(len(a))] )\n",
    "#print(\"Vettore che va da 0 a 30\", np.arange(0, 30, 0.5))\n",
    "#print(\"Vettore con 100 elementi\", np.linspace(1,2,100))\n",
    "\n",
    "#c = np.ones((2, 6))\n",
    "c = np.array([np.linspace(10,20,6), np.linspace(20,10,6)])\n",
    "print(\"Matrice 2x6: \", c)\n",
    "\n",
    "arr = [ a[x]*b[x] for x in range(len(a))]\n",
    "s = 0\n",
    "for x in arr:\n",
    "    s += x\n",
    "    \n",
    "print(\"Prodotto scalare tra a e b:\", s)\n",
    "print(\"Altro modo per farlo:\", np.sum(arr))\n",
    "\n",
    "A = np.array([a,b])\n",
    "print(\"A = \",A)\n",
    "\n",
    "y = np.dot(A, b)\n",
    "print(\"y = \", y)\n",
    "\n",
    "print(\"Diagonale principale: \\n\", np.diag(a))\n",
    "\n"
   ]
  },
  {
   "cell_type": "markdown",
   "id": "70b6acab-85c5-4783-84e0-999ca8e68bf3",
   "metadata": {},
   "source": [
    "# Esercizio 2"
   ]
  },
  {
   "cell_type": "markdown",
   "id": "31345015-b8ec-4ea0-aaac-598630474855",
   "metadata": {},
   "source": [
    "Costruire  i seguenti Numpy array 2d utilizzando il minor numero di istruzioni possibili"
   ]
  },
  {
   "cell_type": "markdown",
   "id": "ccf86356-d50a-493c-a870-54c5cc1480eb",
   "metadata": {},
   "source": [
    "<img src=\"ese2.png\" width=\"500\">"
   ]
  },
  {
   "cell_type": "code",
   "execution_count": 43,
   "id": "48d928d6-e030-4e1a-9b3c-016de6a4820c",
   "metadata": {},
   "outputs": [
    {
     "name": "stdout",
     "output_type": "stream",
     "text": [
      "[[2 2 2 3]\n",
      " [2 2 2 3]\n",
      " [2 2 2 3]]\n",
      "[[ 2  0  0  1  2  3  4  5  6  7  8  9 10]\n",
      " [ 0  2  0  1  2  3  4  5  6  7  8  9 10]\n",
      " [ 0  0  2  1  2  3  4  5  6  7  8  9 10]]\n",
      "[[ 2 -1  0  0  0]\n",
      " [-1  2 -1  0  0]\n",
      " [ 0 -1  2 -1  0]\n",
      " [ 0  0 -1  2 -1]\n",
      " [ 0  0  0 -1  2]]\n",
      "[[2. 2. 3. 3.]\n",
      " [2. 2. 3. 3.]\n",
      " [0. 0. 0. 0.]\n",
      " [0. 0. 0. 0.]\n",
      " [0. 0. 5. 0.]\n",
      " [0. 0. 0. 5.]]\n"
     ]
    }
   ],
   "source": [
    "A = np.concatenate((np.full((3,3),2), np.full((3,1),3)), axis=1)\n",
    "print(A)\n",
    "\n",
    "B = np.diag([2 for x in range(3)])\n",
    "for x in range(11):\n",
    "    if (x > 0):\n",
    "        # axis = 1 colonne\n",
    "        # axis = 0 righe\n",
    "        B = np.concatenate((B, np.full((3,1),x)), axis=1)       \n",
    "print(B)\n",
    "\n",
    "C = np.diag([2 for x in range(5)], k=0) + np.diag([-1 for x in range(4)], k=1) + np.diag([-1 for x in range(4)], k=-1)\n",
    "print(C)\n",
    "\n",
    "D = np.concatenate(( (np.full((2,2),2)),(np.full((2,2),3)) ),axis=1) \n",
    "D = np.concatenate(( D, np.zeros((2,4)) ),axis=0)\n",
    "zero_five = np.concatenate(( (np.zeros((2,2))),(np.diag([5 for x in range(2)])) ),axis=1)\n",
    "D = np.concatenate(( D, zero_five ),axis=0)\n",
    "print(D)\n"
   ]
  },
  {
   "cell_type": "markdown",
   "id": "10a6c66f-2a62-4697-ab7a-b897fb66bcc9",
   "metadata": {},
   "source": [
    "# Esercizio 3"
   ]
  },
  {
   "cell_type": "markdown",
   "id": "8354e8db-9393-41b5-92bf-7dbd9174a20c",
   "metadata": {},
   "source": [
    "Calcolare la somma dei primi n numeri naturali dispari sia utilizzando un ciclo for che servendosi dell'istruzione sum di numpy."
   ]
  },
  {
   "cell_type": "code",
   "execution_count": 64,
   "id": "8f3dfeb3-c0f1-45a5-8f32-b4293132934d",
   "metadata": {
    "tags": []
   },
   "outputs": [
    {
     "name": "stdout",
     "output_type": "stream",
     "text": [
      "[1, 3, 5, 7, 9]\n",
      "25\n"
     ]
    }
   ],
   "source": [
    "def sum_natural(n):\n",
    "    \n",
    "    s = 0\n",
    "    arr = [(x*2)+1 for x in range(n)]\n",
    "    print(arr)\n",
    "    s = np.sum(arr)\n",
    "    \n",
    "    #metodo con for\n",
    "    #for x in range(n):\n",
    "        #s += (x*2)+1\n",
    "    return s\n",
    "\n",
    "print(sum_natural(5))"
   ]
  },
  {
   "cell_type": "markdown",
   "id": "76da5e04-e555-4fee-bfd8-2df68d8996c9",
   "metadata": {},
   "source": [
    "# Esercizio 4"
   ]
  },
  {
   "cell_type": "markdown",
   "id": "5ecf31dd-d88c-46f8-b1b4-2e3b5988694e",
   "metadata": {},
   "source": [
    "Scrivere una function Python per generare l'n-esimo termine (n > 2) della successione\n",
    "di Fibonacci. Scrivere poi una function ricorsiva che risolva lo stesso problema\n",
    "e confrontare i tempi di calcolo delle due functions per n = 24."
   ]
  },
  {
   "cell_type": "markdown",
   "id": "35f3a2c2-b450-457d-9c71-5e81d0f6ea1f",
   "metadata": {},
   "source": [
    "Ricordiamo la formula per generare i i numeri di Fibonacci:\n",
    "\n",
    "$$F_0=1$$\n",
    "$$F_1=1$$\n",
    "$$F_n = F_{n-1} + F_{n-2}, \\quad n=2,...$$"
   ]
  },
  {
   "cell_type": "code",
   "execution_count": 8,
   "id": "4a392cc9-7622-4454-b051-be4bfa3f15b6",
   "metadata": {
    "tags": []
   },
   "outputs": [
    {
     "name": "stdout",
     "output_type": "stream",
     "text": [
      "Fatto con la funzione ricorsiva 1346269\n",
      "Tempo che ci ha impegato con la ricorsione:  0.31167101860046387\n",
      "Fatto con la funzione senza ricorsione 9754127354447731664413464877733194642324162792154990277417906043260981700928350843612737359888951573660962713912365529681569456686655351237894935384042220801220882049324010924553031788263232667669395835460595613868586607590722580174611190230505848926683274986885438381310759325261767284171806619155670742105041612838874997686605998240595985226676071288207099679889619094124815694288115706853096471583308341099304022789310697352409404663792413151019974961646662692476926455507726209503091764128212251301110233774919326592483263183948463380192520278297720868314170290776202527389709110685428211398871370690408919668164274590324631884987684062274915038709235319401019210061505607061585118713722174462056727129101719729228404880964198060054070160193010624331361954960794239717314766327842194808733539019997881113013318654612942104879499538928316485300243367340387394641692200919115744791313736637910347312939832961058097756734579935358453674150082772195302427315653527124821722171523738951424316025874880764829037134510939838884200286043441233548524838054837139585873568921481622419078492858137670827775938795535042632462227826780801991495836080804534751196552905247005418010377864866791442378706444042696741192484294777924027321908036929969876517473431424829087133827066458341092832667046538705059230114457764084164214890830880388872130154520379188617354559385976854668563282031149390158692678204206656653572082996095731877898144497603320925855132400382160823679552509794498211444065498044573592045813989818422932692663892116861864731682696116017436631179938488770015908393323771086206978840777735476056241500876292938054047483522069024548260886144754236304992883225127999720780482273192657892936539889540654114718004405236367065957517201029780761425406554204206338092760797892233862020106289695340159035600557031226237154242540105346411489141705171807170750323903897886329143831379796824330417171256056812684085645393159087927630504602935935856368127336259197560593899869386875350865034008998480431607884256415963504930764739400482489604831943664355157856843969748480302827527765080669602110698369566425660993840768286461571659767707309837358308635188139335813066262561299940543908282454530465866170968995549990181423910696368689278870108664787841725619015171651921770772819779727824871284873887426337178078393012392835906392441655421374690610239864964481279794327956716177079670903187089339877448224254139616853495083178338147075748235436946157383130345907522756566242120516056947801139287199046666018344755188869261391168559213440802302510483500844896495945968045658227969034040888412558411582784968910883005570959895521502400722264116534242403339241509021533098667967218955247092844593298839791929816420404223861516514214061129993687748986158994704740127998084520244625462969145517545694614677820701490283347056026342298069094449031609826421724498950210848695425417619681239138590306804743892307538959632979543747335832004346377472282754229988100782210443363019471529649105190750558629386169813967000458378430771682942442610817256304829805454071079821924375844216065997846313487903180452210812960868302631371404696098872228683580844968023401451294475039926826688194608854951773921123020826297768178538974292379180392846490638153328063710649268249330760903408184939474904680932236183110635621189463546370242155069748842215198072888850403000041613532168004120064368910640555629755679574191349322499915265477532609153683139064910911870821930028442674042010575021051702426935059809470716662575872439616036693596346606195323099729335332408215058969490494618639689676093413769540499715588471873054695856274633145333608271919227517578915791844609594673811976018262788657157290549061408474771676814964706618063905887500032072029506703822835371164765274769028282894653781476222081194458792759625519836894655434621261478671703189558902511496964758950338212196622083606340872945252474816785704836379582878939493371924228386251933570220427482510903238320349398124916124403368013753076067128335086239926071033685460459178520083359290362518170588003197192233848668046952824179066520971343543911953779634644566462503916372033650296896254658436766866567535151621949412798749974278239667244181908178583997815085283724213464087282319076233469002534939318122677916444152254906667817534469379734029021723237563490150882\n",
      "Tempo che ci ha impegato senza la ricorsione:  0.026927471160888672\n",
      "4300\n"
     ]
    }
   ],
   "source": [
    "import time\n",
    "\n",
    "F0 = 1\n",
    "F1 = 1\n",
    "\n",
    "def fibonacci(n):\n",
    "    F_N = 0\n",
    "    if (n == 0 or n == 1):\n",
    "        return 1\n",
    "    else:\n",
    "        F_N = fibonacci(n-1) + fibonacci(n-2)\n",
    "        return F_N\n",
    "        \n",
    "def norec_fibonacci(n):\n",
    "    arr = [1, 1]\n",
    "    x = 0\n",
    "    y = 1\n",
    "    if (n == 0 or n == 1):\n",
    "        return 1\n",
    "    else:\n",
    "        while(len(arr) <= n):\n",
    "            arr.append( arr[x] + arr[y] )\n",
    "            x+=1\n",
    "            y+=1\n",
    "        \n",
    "        #print(arr)\n",
    "        return arr[len(arr)-1]\n",
    "\n",
    "#norec_fibonacci(1)\n",
    "\n",
    "start_time = time.time()\n",
    "ris = fibonacci(30)\n",
    "print(\"Fatto con la funzione ricorsiva\", ris)\n",
    "end_time = time.time()\n",
    "\n",
    "print(\"Tempo che ci ha impegato con la ricorsione: \", (end_time - start_time))\n",
    "\n",
    "start_time = time.time()\n",
    "ris = norec_fibonacci(20576)\n",
    "print(\"Fatto con la funzione senza ricorsione\", ris)\n",
    "end_time = time.time()\n",
    "\n",
    "print(\"Tempo che ci ha impegato senza la ricorsione: \", (end_time - start_time))\n",
    "\n"
   ]
  },
  {
   "cell_type": "code",
   "execution_count": null,
   "id": "5d991e2f-6d58-4ca1-8e43-ef9382e685f5",
   "metadata": {},
   "outputs": [],
   "source": []
  },
  {
   "cell_type": "code",
   "execution_count": null,
   "id": "d22b90fd-1dcf-4493-b07e-4bec4720f65e",
   "metadata": {},
   "outputs": [],
   "source": []
  }
 ],
 "metadata": {
  "kernelspec": {
   "display_name": "Python 3 (ipykernel)",
   "language": "python",
   "name": "python3"
  },
  "language_info": {
   "codemirror_mode": {
    "name": "ipython",
    "version": 3
   },
   "file_extension": ".py",
   "mimetype": "text/x-python",
   "name": "python",
   "nbconvert_exporter": "python",
   "pygments_lexer": "ipython3",
   "version": "3.11.0"
  },
  "vscode": {
   "interpreter": {
    "hash": "30eef1dcfb837675ec28ded3b62cbdc631b763468d0e57f04da975e3db11727d"
   }
  }
 },
 "nbformat": 4,
 "nbformat_minor": 5
}
