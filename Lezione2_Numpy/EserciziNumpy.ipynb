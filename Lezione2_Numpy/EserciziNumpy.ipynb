{
 "cells": [
  {
   "cell_type": "markdown",
   "id": "cb8d7ec5-c308-4c91-8bbf-adad4c51b57f",
   "metadata": {},
   "source": [
    "# Esercizio 1"
   ]
  },
  {
   "cell_type": "markdown",
   "id": "b7c7f021-757d-4cd3-bba5-57ca8bfd4077",
   "metadata": {},
   "source": [
    "Definire i  numpy array a=[1.2, 5.4, 6, 1.59] e b=[5.2, 1.2, 1.5, 2] ed eseguire le seguenti operazioni:\n",
    "  - calcolare la radice quadrata degli elementi di a;\n",
    "   - calcolare 𝑒xp(𝑎/2) ;\n",
    "   - calcolare il vettore somma tra a e b ;\n",
    "   - moltiplicare ogni elemento di a per il corrispondente elemento di b;\n",
    "   - creare un vettore di valori uniformemente equispaziati tra 0 e 30 con passo  0.5;\n",
    "   - creare un vettore di 100 valori uniformemente equispaziati tra 1 e 2.\n",
    "   - usare linspace() per creare un numpy array 2x6 con prima riga di 6 valori uniformi compresi tra 10 e 20 e seconda riga 6 valori     \n",
    "      uniformi compresi tra  20 e 10;\n",
    "   - calcolare il prodotto scalare tra a e b;\n",
    "   - creare la matrice A che ha come righe i vettori a e b ;\n",
    "   - calcolare il prodotto scalare tra i due vettori a e b;\n",
    "   - eseguire il prodotto della matrice A per il vettore b e assegnarlo ad y;\n",
    "   - costruire una matrice diagonale D a partire dal vettore a;"
   ]
  },
  {
   "cell_type": "code",
   "execution_count": 35,
   "id": "6d219be6-5767-4259-94a9-74b809ff7153",
   "metadata": {
    "tags": []
   },
   "outputs": [
    {
     "name": "stdout",
     "output_type": "stream",
     "text": [
      "Valori della matrice a =  [1.2, 5.4, 6, 1.59]\n",
      "Radice quadrata dei elementi di a =  [1.09544512 2.32379001 2.44948974 1.26095202]\n",
      "Esponenziale dei elementi di a/2 =  [ 1.8221188  14.87973172 20.08553692  2.214441  ]\n",
      "Vettore somma : [6.4, 6.6000000000000005, 7.5, 3.59]\n",
      "Prodotto tra elementi: [6.24, 6.48, 9.0, 3.18]\n",
      "Matrice 2x6:  [[10. 12. 14. 16. 18. 20.]\n",
      " [20. 18. 16. 14. 12. 10.]]\n",
      "Prodotto scalare tra a e b: 24.9\n",
      "Altro modo per farlo: 24.9\n",
      "A =  [[1.2  5.4  6.   1.59]\n",
      " [5.2  1.2  1.5  2.  ]]\n",
      "y =  [24.9  34.73]\n",
      "Diagonale principale: \n",
      " [[1.2  0.   0.   0.  ]\n",
      " [0.   5.4  0.   0.  ]\n",
      " [0.   0.   6.   0.  ]\n",
      " [0.   0.   0.   1.59]]\n"
     ]
    }
   ],
   "source": [
    "# per farti uscire le funzioni che puoi usare\n",
    "# scrivi Oggetto. e schiaccia Tab\n",
    "\n",
    "import numpy as np\n",
    "import platform\n",
    "\n",
    "a=[1.2, 5.4, 6, 1.59] \n",
    "b=[5.2, 1.2, 1.5, 2]\n",
    "\n",
    "print(\"Valori della matrice a = \", a)\n",
    "print(\"Radice quadrata dei elementi di a = \", np.sqrt(a))\n",
    "print(\"Esponenziale dei elementi di a/2 = \", np.exp([x/2 for x in a]))\n",
    "print(\"Vettore somma :\", [ a[x]+b[x] for x in range(len(a))] )\n",
    "\n",
    "#c = []\n",
    "#for x in range(len(a)):\n",
    "#    c.append(a[x] + b[x])\n",
    "\n",
    "#print(c)\n",
    "\n",
    "print(\"Prodotto tra elementi:\", [ a[x]*b[x] for x in range(len(a))] )\n",
    "#print(\"Vettore che va da 0 a 30\", np.arange(0, 30, 0.5))\n",
    "#print(\"Vettore con 100 elementi\", np.linspace(1,2,100))\n",
    "\n",
    "#c = np.ones((2, 6))\n",
    "c = np.array([np.linspace(10,20,6), np.linspace(20,10,6)])\n",
    "print(\"Matrice 2x6: \", c)\n",
    "\n",
    "arr = [ a[x]*b[x] for x in range(len(a))]\n",
    "s = 0\n",
    "for x in arr:\n",
    "    s += x\n",
    "    \n",
    "print(\"Prodotto scalare tra a e b:\", s)\n",
    "print(\"Altro modo per farlo:\", np.sum(arr))\n",
    "\n",
    "A = np.array([a,b])\n",
    "print(\"A = \",A)\n",
    "\n",
    "y = np.dot(A, b)\n",
    "print(\"y = \", y)\n",
    "\n",
    "print(\"Diagonale principale: \\n\", np.diag(a))\n",
    "\n"
   ]
  },
  {
   "cell_type": "markdown",
   "id": "70b6acab-85c5-4783-84e0-999ca8e68bf3",
   "metadata": {},
   "source": [
    "# Esercizio 2"
   ]
  },
  {
   "cell_type": "markdown",
   "id": "31345015-b8ec-4ea0-aaac-598630474855",
   "metadata": {},
   "source": [
    "Costruire  i seguenti Numpy array 2d utilizzando il minor numero di istruzioni possibili"
   ]
  },
  {
   "cell_type": "markdown",
   "id": "ccf86356-d50a-493c-a870-54c5cc1480eb",
   "metadata": {},
   "source": [
    "<img src=\"ese2.png\" width=\"500\">"
   ]
  },
  {
   "cell_type": "markdown",
   "id": "10a6c66f-2a62-4697-ab7a-b897fb66bcc9",
   "metadata": {},
   "source": [
    "# Esercizio 3"
   ]
  },
  {
   "cell_type": "markdown",
   "id": "8354e8db-9393-41b5-92bf-7dbd9174a20c",
   "metadata": {},
   "source": [
    "Calcolare la somma dei primi n numeri naturali dispari sia utilizzando un ciclo for che servendosi dell'istruzione sum di numpy."
   ]
  },
  {
   "cell_type": "markdown",
   "id": "76da5e04-e555-4fee-bfd8-2df68d8996c9",
   "metadata": {},
   "source": [
    "# Esercizo 4"
   ]
  },
  {
   "cell_type": "markdown",
   "id": "5ecf31dd-d88c-46f8-b1b4-2e3b5988694e",
   "metadata": {},
   "source": [
    "Scrivere una function Python per generare l'n-esimo termine (n > 2) della successione\n",
    "di Fibonacci. Scrivere poi una function ricorsiva che risolva lo stesso problema\n",
    "e confrontare i tempi di calcolo delle due functions per n = 24."
   ]
  },
  {
   "cell_type": "markdown",
   "id": "35f3a2c2-b450-457d-9c71-5e81d0f6ea1f",
   "metadata": {},
   "source": [
    "Ricordiamo la formula per generare i i numeri di Fibonacci:\n",
    "\n",
    "$$F_0=1$$\n",
    "$$F_1=1$$\n",
    "$$F_n = F_{n-1} + F_{n-2}, \\quad n=2,...$$"
   ]
  },
  {
   "cell_type": "code",
   "execution_count": null,
   "id": "4a392cc9-7622-4454-b051-be4bfa3f15b6",
   "metadata": {},
   "outputs": [],
   "source": []
  }
 ],
 "metadata": {
  "kernelspec": {
   "display_name": "Python 3 (ipykernel)",
   "language": "python",
   "name": "python3"
  },
  "language_info": {
   "codemirror_mode": {
    "name": "ipython",
    "version": 3
   },
   "file_extension": ".py",
   "mimetype": "text/x-python",
   "name": "python",
   "nbconvert_exporter": "python",
   "pygments_lexer": "ipython3",
   "version": "3.11.5"
  },
  "vscode": {
   "interpreter": {
    "hash": "30eef1dcfb837675ec28ded3b62cbdc631b763468d0e57f04da975e3db11727d"
   }
  }
 },
 "nbformat": 4,
 "nbformat_minor": 5
}
