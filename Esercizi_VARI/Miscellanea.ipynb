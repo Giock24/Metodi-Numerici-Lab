{
 "cells": [
  {
   "cell_type": "code",
   "execution_count": 1,
   "id": "641b3123-cdd6-4b8c-91f6-755d266c9b75",
   "metadata": {
    "tags": []
   },
   "outputs": [],
   "source": [
    "import numpy as np\n",
    "from scipy.linalg import lu\n",
    "import SolveTriangular\n",
    "from scipy.linalg import qr\n",
    "import matplotlib.pyplot as plt"
   ]
  },
  {
   "cell_type": "markdown",
   "id": "336a926b-86a4-4936-bb3d-0d54d27b99a0",
   "metadata": {},
   "source": [
    "## Esercizio A\n",
    "\n",
    "Data la matrice\n",
    "$$\n",
    "\\left[\n",
    "\\begin{array}{cccc}\n",
    "4.5 & 1 & 3 & 2\\\\\n",
    "1 & -8 & 2 & 1\\\\\n",
    "-1 & -2 & -3 & -1\\\\\n",
    "2 & 6 & 0 & 1\n",
    "\\end{array}\n",
    "\\right ],\n",
    "$$\n",
    "\n",
    "calcolarne la fattorizzazione lu di Gauss  facendo uso della funzione scipy.linalg.lu  e sfruttarla per il calcolo del suo determinante e della sua inversa."
   ]
  },
  {
   "cell_type": "code",
   "execution_count": 21,
   "id": "51932c64-c53b-4a65-b38c-70006485a054",
   "metadata": {
    "tags": []
   },
   "outputs": [
    {
     "name": "stdout",
     "output_type": "stream",
     "text": [
      "Inversa con funziona esistente \n",
      " [[ 0.5862069  -0.36206897  0.34482759 -0.46551724]\n",
      " [-0.01724138 -0.07758621 -0.06896552  0.04310345]\n",
      " [ 0.17241379 -0.22413793 -0.31034483 -0.43103448]\n",
      " [-1.06896552  1.18965517 -0.27586207  1.67241379]]\n",
      "Inversa fatta con la mia funzione \n",
      " [[ 0.5862069  -0.36206897  0.34482759 -0.46551724]\n",
      " [-0.01724138 -0.07758621 -0.06896552  0.04310345]\n",
      " [ 0.17241379 -0.22413793 -0.31034483 -0.43103448]\n",
      " [-1.06896552  1.18965517 -0.27586207  1.67241379]]\n",
      "58.00000000000017\n",
      "57.999999999999986\n",
      "determinante calcolato con il mio metodo 57.999999999999986\n"
     ]
    }
   ],
   "source": [
    "def gauss(A, b):\n",
    "    PT, L, U = lu(A)\n",
    "    P = PT.T\n",
    "    \n",
    "    y, flag = SolveTriangular.Lsolve(L,P@b)\n",
    "    x, flag = SolveTriangular.Usolve(U,y)\n",
    "    \n",
    "    return x\n",
    "\n",
    "def my_inv(A, ident):\n",
    "    inv = []\n",
    "    \n",
    "    for i in range(A.shape[1]):\n",
    "        elem_new = gauss(A1, ident[:,i])\n",
    "        if i == 0:\n",
    "            inv = elem_new\n",
    "        else:\n",
    "            inv = np.concatenate((inv,elem_new),axis=1)\n",
    "    \n",
    "    return inv\n",
    "\n",
    "A1 = np.array([ [4.5,1,3,2], [1,-8,2,1], [-1,-2,-3,-1], [2,6,0,1] ])\n",
    "#b_prova = np.sum(A1,axis=1).reshape(A1.shape[0],1)\n",
    "#print(gauss(A1,b_prova))\n",
    "I = np.eye(A1.shape[0])\n",
    "print(\"Inversa con funziona esistente \\n\", np.linalg.inv(A1))\n",
    "print(\"Inversa fatta con la mia funzione \\n\", my_inv(A1, I))\n",
    "\n",
    "det = np.prod(np.linalg.eigvals(A1))\n",
    "print(det)\n",
    "print(np.linalg.det(A1))\n",
    "# per calcolare il determinante con la fattorizzazione di gauss\n",
    "\n",
    "def my_det(A):\n",
    "    PT, L, U = lu(A)\n",
    "    \n",
    "    return np.linalg.det(L) * np.linalg.det(U)\n",
    "\n",
    "print(\"determinante calcolato con il mio metodo\", my_det(A1))"
   ]
  },
  {
   "cell_type": "markdown",
   "id": "bf9eaf45-e9ab-4bfb-b294-6ccd148279e2",
   "metadata": {},
   "source": [
    "## Esercizio  B\n",
    "\n",
    "Siano assegnati i punti del piano di coordinate $(x_i, y_i)$, $i=1,\\ldots,4$ con \n",
    "$$\n",
    "\\begin{array}{c}\n",
    "x_1=0, \\quad x_2=4, \\quad x_3=0, \\quad x_4=5\\\\\n",
    "y_1=0, \\quad y_2=0, \\quad y_3=4, \\quad y_4=6.\n",
    "\\end{array}\n",
    "$$\n",
    "\n",
    "**Nota Bene**: Si ricorda che data una circonferenza nella forma canonica\n",
    "$$ x^2+y^2+a_1 x+a_2 y+a_3=0$$\n",
    "\n",
    "le coordinate del suo centro sono \n",
    "$$C≡(-a_1/2,-a_2/2)$$\n",
    "\n",
    "e la lunghezza del suo raggio è data da:\n",
    "\n",
    "$$r=\\sqrt{\\frac{a_1^2}{4}+\\frac{a_2^2}{4} -a_3}$$\n",
    "\n",
    "e la circoferenza può essere rappresentata in forma parametrica $C(t),  t \\in [0, 2 \\cdot \\pi]$ e le due componenti parametriche sono $$x(t)= C_0+r\\cdot cos(t);$$ $$ y(t)= C_1+r\\cdot sin(t)$$"
   ]
  },
  {
   "cell_type": "code",
   "execution_count": 16,
   "id": "9b6e041a-4b5a-4d07-9013-e4765e7489a4",
   "metadata": {
    "tags": []
   },
   "outputs": [],
   "source": [
    "x1 = np.array([0,4,0,5])\n",
    "y1 = np.array([0,0,4,6])"
   ]
  },
  {
   "cell_type": "markdown",
   "id": "b01c86c8-f998-4ad5-b44a-91ea9acacea7",
   "metadata": {},
   "source": [
    "Scrivere lo script Python  in cui\n",
    "- si costruisca il sistema lineare sovradeterminato ottenuto imponendo il passaggio della circonferenza di equazione $x^2+y^2+a_1x+a_2y+a_3=0$ per i quattro punti assegnati, e si denotino con ${\\bf A}$ e ${\\bf b}$ la matrice dei coefficienti e il termine noto ottenuti;   [**punti 2**]"
   ]
  },
  {
   "cell_type": "code",
   "execution_count": 3,
   "id": "082c3b0b-59fd-46c6-92ec-1df21d826abc",
   "metadata": {
    "tags": []
   },
   "outputs": [
    {
     "name": "stdout",
     "output_type": "stream",
     "text": [
      "[[1. 0. 0.]\n",
      " [1. 0. 4.]\n",
      " [1. 4. 0.]\n",
      " [1. 6. 5.]]\n",
      "[  0 -16 -16 -61]\n"
     ]
    }
   ],
   "source": [
    "# a3 può essere scritto come a3 = -x^2 -y^2 -a1x -a2y\n",
    "# coppie (0,0) a1,a2,a3 = 0\n",
    "# coppie (4,0) a2 = 0, a3 = -16 -4a1\n",
    "# coppie (0,4) a1 = 0, a3 = -16 -4a2\n",
    "# coppie (5,6) a3 = -61 -5a1 -6a2\n",
    "\n",
    "A = np.ones((len(x), 3)) # il secondo paramentro sono il num di colonne che vuoi\n",
    "A[:,1] = y\n",
    "A[:,2] = x\n",
    "b = -(x**2 + y**2)\n",
    "print(A)\n",
    "print(b)"
   ]
  },
  {
   "cell_type": "markdown",
   "id": "2d85d7c7-8acd-4fbd-be89-ef7a9c1af18c",
   "metadata": {},
   "source": [
    "- si sfrutti la decomposizione QR  della matrice A  per ottenere la soluzione ${\\bf a}^*$ del problema ai minimi quadrati $\\min_{{\\bf a} \\in \\mathbb{R}^3} \\|{\\bf A}{\\bf a}-{\\bf b}\\|_2^2$  e  si calcoli il valore di $\\|{\\bf A}{\\bf a}^*-{\\bf b}\\|_2^2$;   [**punti 5**]"
   ]
  },
  {
   "cell_type": "code",
   "execution_count": 19,
   "id": "f2ed4460-8b4c-437d-acf6-75e66d440ad0",
   "metadata": {
    "tags": []
   },
   "outputs": [
    {
     "name": "stdout",
     "output_type": "stream",
     "text": [
      "[[-5.61904762]\n",
      " [-5.75396825]\n",
      " [ 3.77777778]]\n"
     ]
    }
   ],
   "source": [
    "def qrLS(A,b):\n",
    "#Risolve un sistema sovradeterminato con il metodo QR-LS\n",
    "    n=A.shape[1]  # numero di colonne di A\n",
    "    Q,R=qr(A)\n",
    "    h=Q.T@b\n",
    "    x,flag=SolveTriangular.Usolve(R[:n,:n],h[:n])\n",
    "    residuo=np.linalg.norm(h[n:])**2\n",
    "    return x,residuo\n",
    "\n",
    "sol,res = qrLS(A,b)\n",
    "sol = np.flip(sol)\n",
    "print(sol)"
   ]
  },
  {
   "cell_type": "markdown",
   "id": "c39a60ff-a2ee-4141-a268-5c4e835b4b0e",
   "metadata": {},
   "source": [
    "-  dopo averne determinato centro e raggio, si rappresentino in una stessa figura la circonferenza di equazione $x^2+y^2+a^*_1x+a^*_2y+a^*_3=0$ (individuata dalla soluzione ${\\bf a}^*$ del problema ai minimi quadrati) e i quattro punti assegnati dal problema.[**punti 3**]"
   ]
  },
  {
   "cell_type": "code",
   "execution_count": 21,
   "id": "f2a8cda8-55ea-4bf1-92ff-bbdfed4ceb96",
   "metadata": {},
   "outputs": [
    {
     "data": {
      "text/plain": [
       "(-1.0626915068713172,\n",
       " 6.681873916879319,\n",
       " -0.9953356522278847,\n",
       " 6.749303906196137)"
      ]
     },
     "execution_count": 21,
     "metadata": {},
     "output_type": "execute_result"
    },
    {
     "data": {
      "image/png": "[encoded data removed]",
      "text/plain": [
       "<Figure size 640x480 with 1 Axes>"
      ]
     },
     "metadata": {},
     "output_type": "display_data"
    }
   ],
   "source": [
    "C = np.array([-sol[0]/2, -sol[1]/2])\n",
    "r = np.sqrt( (sol[0]**2/4)+(sol[1]**2/4)-sol[2] )\n",
    "\n",
    "x = lambda t : C[0] + r*np.cos(t)\n",
    "y = lambda t : C[1] + r*np.sin(t)\n",
    "all_t = np.linspace(0,2*np.pi,360)\n",
    "\n",
    "plt.plot(x(all_t),y(all_t),x1,y1,'*')\n",
    "plt.axis('equal')"
   ]
  },
  {
   "cell_type": "markdown",
   "id": "ee97d047-97be-43c7-a721-fe588e6a2c4c",
   "metadata": {},
   "source": [
    "## Esercizio C\n",
    "Per i dati $(x_i, y_i)$ riportati nei seguenti array\n",
    "\n",
    "x = np.array([0.0004, 0.2507, 0.5008, 2.0007, 8.0013]) \n",
    "\n",
    "y = np.array([0.0007,0.0162, 0.0288, 0.0309, 0.0310])\n",
    "\n",
    "- costruire la retta di regressione;\n",
    "- costruire la parabola approssimante i dati nel senso dei minimi quadrati;\n",
    "- determinare l'approssimazione ai minimi quadrati espressa in termini di\n",
    "basi esponenziali: $y = a + b e^{-x}+ c e^{-2x}$\n",
    "\n",
    "Quale tra le tre approssimazioni risulta la migliore? (Confrontare i grafici e la norma euclidea al quadrato del vettore dei residui)."
   ]
  },
  {
   "cell_type": "markdown",
   "id": "d3626136-ea3b-47bb-861c-4e5de4a8baaf",
   "metadata": {},
   "source": [
    "# Esercizio D\n",
    "\n",
    "La temperatura T in prossimita' del suolo varia al variare della concentrazione k dell'acido carbonico e della latitudine L. Per k=1.5 la temperatura al suolo subisce una variazione dipendente dalla temperatura secondo la seguente tabella \n",
    "\n",
    "L\t[-55\t-45\t-35\t-25\t-15\t-5\t5\t15\t25\t35\t45\t55\t65]\n",
    "\n",
    "T\t[3.7\t3.7\t3.52\t3.27\t3.2\t3.15\t3.15\t3.25\t3.47\t3.52\t3.65\t3.67\t3.52]\n",
    "\n",
    "Si vuole costruire un MODELLO che descriva la legge T=T(L) anche per latitudini non misurate. \n",
    "Ad esempio si vuole valutare la variazione di temperatura a Londra ( L=51°).\n",
    "mediante interpolazione con un polinomio di grado 12.\n",
    "Valutare e disegnare, inoltre, il polinomio interpolatore di Lagrange in un set di 100 dati equidistanti nell’intervallo min(L), max(L).\n",
    "Descrivere i risultati alla luce della teoria."
   ]
  },
  {
   "cell_type": "markdown",
   "id": "d449c9cc-71ed-4c53-a20e-76c6ee75952b",
   "metadata": {},
   "source": [
    "## Esercizio E\n",
    "\n",
    "-  Implementare il  metodo di Newton Raphson, la variante delle corde e la variante di Shamanskii per la soluzione di un sistema non lineare\n",
    "\n",
    "Risolvere il sistema di equazioni non lineare \n",
    "\n",
    "$$\n",
    "\\left[\n",
    "\\begin{array}{c}\n",
    "x_0^2+x_0x_1=10 \\\\\n",
    " x_1+3x_0x_1^2=57\n",
    "\\end{array}\n",
    "\\right.\n",
    "$$\n",
    "con ciascuno dei tre metodi e confrontare per ciascun metodo il grafico dell'errore relativo tra due iterati successivi, giustificando i risultati alla luce della teoria.\n",
    "\n",
    "- Descrivi la variante del Metodod di Newton-Raphson per calcolare il minimo di una funzione non lineare in più variabili\n",
    "\n",
    " \n",
    "\n",
    "**Nota Bene**: Servirsi del metodo grafico per individuare un \n",
    "iterato iniziale  $X_0$ nell'intorno della soluzione che si vuole approssimare. Visualizzare le \n",
    "curve di livello corrisponenti a z=O delle due superfici z = f1 (x1 ,x2 ) e z = f2(x1 , x 2 ) e \n",
    "definire come iterato iniziale un vettore $X_0$ oppurtuno le cui componenti stanno in un \n",
    "intorno della soluzione (punti di intersezione tra le curve di livello delle due superfici) \\]"
   ]
  }
 ],
 "metadata": {
  "kernelspec": {
   "display_name": "Python 3 (ipykernel)",
   "language": "python",
   "name": "python3"
  },
  "language_info": {
   "codemirror_mode": {
    "name": "ipython",
    "version": 3
   },
   "file_extension": ".py",
   "mimetype": "text/x-python",
   "name": "python",
   "nbconvert_exporter": "python",
   "pygments_lexer": "ipython3",
   "version": "3.11.5"
  }
 },
 "nbformat": 4,
 "nbformat_minor": 5
}
