{
 "cells": [
  {
   "cell_type": "markdown",
   "metadata": {},
   "source": [
    "# Esercizio n. 1\n",
    "Scrivere un programma che, data una lista (ad esempio, a = [1, 1, 2, 3, 5, 8, 13, 21, 34, 55, 89]) stampa tutti gli elementi della lista che sono minori di 5.\n",
    "\n",
    "Extra:\n",
    "* Invece di stampare gli elementi uno per uno, creare una nuova lista che contenga tutti gli elementi inferiori a 5 dall'elenco di input e stampare questa nuova lista.\n"
   ]
  },
  {
   "cell_type": "code",
   "execution_count": 4,
   "metadata": {},
   "outputs": [
    {
     "name": "stdout",
     "output_type": "stream",
     "text": [
      "1\n",
      "1\n",
      "2\n",
      "3\n"
     ]
    }
   ],
   "source": [
    "a = [1, 1, 2, 3, 5, 8, 13, 21, 34, 55, 89]\n",
    "\n",
    "for x in a:\n",
    "    if x < 5:\n",
    "        print(x)"
   ]
  },
  {
   "cell_type": "code",
   "execution_count": 5,
   "metadata": {},
   "outputs": [
    {
     "name": "stdout",
     "output_type": "stream",
     "text": [
      "[1, 1, 2, 3]\n"
     ]
    }
   ],
   "source": [
    "b = []\n",
    "for x in a:\n",
    "    if x < 5:\n",
    "        b.append(x)\n",
    "\n",
    "print(b)"
   ]
  },
  {
   "cell_type": "code",
   "execution_count": 6,
   "metadata": {},
   "outputs": [
    {
     "name": "stdout",
     "output_type": "stream",
     "text": [
      "[1, 1, 2, 3]\n"
     ]
    }
   ],
   "source": [
    "\n",
    "b = [x for x in a if x<5]\n",
    "#b è una lista di tutti gli elementi di a che sono minori di 5\n",
    "print(b)"
   ]
  },
  {
   "cell_type": "markdown",
   "metadata": {},
   "source": [
    "# Esercizio n. 2\n",
    "Scrivere un programma che, date due liste, restituisca una lista che contiene solo gli elementi che sono comuni tra le prime due liste (senza duplicati), ad esempio, usando a = [1, 1, 2, 3, 5, 8, 13, 21, 34, 55, 89], b = [1, 2, 3, 4, 5, 6, 7, 8, 9, 10, 11, 12, 13].\n",
    "\n",
    "Assicurati che il tuo programma funzioni su due liste di dimensioni diverse.\n",
    "\n",
    "Extra:\n",
    "* Scrivere lo stesso programma per restituire  una lista con elementi concatenati tra le liste di input (con ripetizioni)."
   ]
  },
  {
   "cell_type": "code",
   "execution_count": null,
   "metadata": {},
   "outputs": [
    {
     "name": "stdout",
     "output_type": "stream",
     "text": [
      "[1, 2, 3, 5, 8, 13]\n"
     ]
    }
   ],
   "source": [
    "a = [1, 1, 2, 3, 5, 8, 13, 21, 34, 55, 89]\n",
    "b = [1, 2, 3, 4, 5, 6, 7, 8, 9, 10, 11, 12, 13]\n",
    "c = []\n",
    "\n",
    "for x in a:\n",
    "    for y in b:\n",
    "        if x == y not in c:\n",
    "            # not in lista, serve per capire se c'è un valore che esiste già nella lista ma non vuoi\n",
    "            c.append(x)\n",
    "\n",
    "\n",
    "print(c)\n"
   ]
  },
  {
   "cell_type": "code",
   "execution_count": 3,
   "metadata": {},
   "outputs": [
    {
     "name": "stdout",
     "output_type": "stream",
     "text": [
      "[1, 2, 3, 5, 8, 13]\n"
     ]
    }
   ],
   "source": [
    "# secondo modo mettendo dentro un set, un set non può avere doppioni\n",
    "for x in a:\n",
    "    for y in b:\n",
    "        if x == y:\n",
    "            c.append(x)\n",
    "\n",
    "d = list(set(c))\n",
    "print(d)"
   ]
  },
  {
   "cell_type": "code",
   "execution_count": 5,
   "metadata": {},
   "outputs": [
    {
     "name": "stdout",
     "output_type": "stream",
     "text": [
      "[1, 2, 3, 5, 8, 13]\n"
     ]
    }
   ],
   "source": [
    "# terzo modo usando direttamente l'operatore &\n",
    "a = set([1, 1, 2, 3, 5, 8, 13, 21, 34, 55, 89])\n",
    "b = set([1, 2, 3, 4, 5, 6, 7, 8, 9, 10, 11, 12, 13])\n",
    "c = list(a&b) # la & commerciale serve per intersecare i due insiemi\n",
    "print(c)\n",
    "\n",
    "# Operazioni con operatori:\n",
    "\n",
    "# | per l'unione: union_set = set1 | set2\n",
    "# & per l'intersezione: intersection_set = set1 & set2\n",
    "# - per la differenza: difference_set = set1 - set2"
   ]
  },
  {
   "cell_type": "code",
   "execution_count": 1,
   "metadata": {},
   "outputs": [
    {
     "name": "stdout",
     "output_type": "stream",
     "text": [
      "[1, 1, 2, 3, 5, 8, 13, 21, 34, 55, 89, 1, 2, 3, 4, 5, 6, 7, 8, 9, 10, 11, 12, 13]\n"
     ]
    }
   ],
   "source": [
    "# parte extra dell'esercizio\n",
    "a = [1, 1, 2, 3, 5, 8, 13, 21, 34, 55, 89]\n",
    "b = [1, 2, 3, 4, 5, 6, 7, 8, 9, 10, 11, 12, 13]\n",
    "\n",
    "c = a + b\n",
    "print(c)"
   ]
  },
  {
   "cell_type": "markdown",
   "metadata": {},
   "source": [
    "# Esercizio n. 3\n",
    "Sfruttando la list comprehension, scrivi una riga di codice Python che prende una lista (ad esempio, a = [1, 4, 9, 16, 25, 36, 49, 64, 81, 100]) e crea una nuova lista che ha solo gli elementi pari della lista di partenza. "
   ]
  },
  {
   "cell_type": "code",
   "execution_count": 4,
   "metadata": {},
   "outputs": [
    {
     "name": "stdout",
     "output_type": "stream",
     "text": [
      "[4, 16, 36, 64, 100]\n"
     ]
    }
   ],
   "source": [
    "a = [1, 4, 9, 16, 25, 36, 49, 64, 81, 100]\n",
    "even_list = [elem for elem in a if (elem % 2 == 0)]\n",
    "print(even_list)"
   ]
  },
  {
   "cell_type": "markdown",
   "metadata": {},
   "source": [
    "# Esercizio n. 4\n",
    "Scrivete un programma per stampare il seguente modello usando i cicli for.\n",
    "\n",
    "```\n",
    "* \n",
    "* * \n",
    "* * * \n",
    "* * * * \n",
    "* * * * * \n",
    "* * * * \n",
    "* * * \n",
    "* * \n",
    "*\n",
    "```"
   ]
  },
  {
   "cell_type": "code",
   "execution_count": 2,
   "metadata": {},
   "outputs": [
    {
     "name": "stdout",
     "output_type": "stream",
     "text": [
      "Piramide di altezza massima: 6\n",
      "\n",
      "* \n",
      "* * \n",
      "* * * \n",
      "* * * * \n",
      "* * * * * \n",
      "* * * * * * \n",
      "* * * * * \n",
      "* * * * \n",
      "* * * \n",
      "* * \n",
      "* \n",
      "\n"
     ]
    }
   ],
   "source": [
    "def pyramid (n):\n",
    "    print(\"Piramide di altezza massima:\", n)\n",
    "    text = '* '\n",
    "    for x in range(n+1):\n",
    "        print(text*x)\n",
    "\n",
    "    list_num_rev = [j for j in range(n)]\n",
    "    list_num_rev.reverse()\n",
    "    for x in list_num_rev:\n",
    "        print(text*x)\n",
    "\n",
    "pyramid(6)"
   ]
  },
  {
   "cell_type": "markdown",
   "metadata": {},
   "source": [
    "# Esercizio n. 5\n",
    "Scrivere un programma per controllare se tutti i caratteri di s1 sono contenuti in s2. La posizione del carattere non ha importanza.\n",
    "\n",
    "Ad esempio con s1='by' e s2='blueberry' dovrebbe restituire true. Al contrario, con s1='byZ' e s2='blueberry' dovrebbe restituire false.\n"
   ]
  },
  {
   "cell_type": "code",
   "execution_count": 4,
   "metadata": {},
   "outputs": [
    {
     "name": "stdout",
     "output_type": "stream",
     "text": [
      "False\n"
     ]
    }
   ],
   "source": [
    "def my_contain (str1, str2):\n",
    "    str1_list = [char for char in str1]\n",
    "    str2_list = [char for char in str2]\n",
    "\n",
    "    for elem in str1_list:\n",
    "        if elem not in str2_list:\n",
    "            return 0\n",
    "    \n",
    "    return 1\n",
    "\n",
    "\n",
    "s1='bye4' \n",
    "s2='blueberry'\n",
    "\n",
    "if my_contain(s1, s2) == 1:\n",
    "    print(\"True\")\n",
    "else:\n",
    "    print(\"False\")\n"
   ]
  },
  {
   "cell_type": "markdown",
   "metadata": {},
   "source": [
    "# Esercizio n. 6\n",
    "Crea una funzione che accetta due numeri interi come parametri di input e se il loro prodotto è minore di 1000 restituisce il prodotto, altrimenti restituisce la somma dei numeri di input.\n",
    "\n",
    "Extra:\n",
    "* Scrivere lo stesso programma utilizzando il parametro soglia (1000) come parametro opzionale di input. Ciò significa che questo parametro deve essere definito al suo valore predefinito nella funzione. Testare la funzione modificando la soglia quando la si chiama."
   ]
  },
  {
   "cell_type": "code",
   "execution_count": 7,
   "metadata": {},
   "outputs": [
    {
     "name": "stdout",
     "output_type": "stream",
     "text": [
      "Moltiplicazione tra i due valori: 20\n"
     ]
    }
   ],
   "source": [
    "x = int(input(\"Inserisci il primo numero: \"))\n",
    "y = int(input(\"Inserisci il secondo numero: \"))\n",
    "\n",
    "if x * y > 1000:\n",
    "    print(\"Somma tra i due valori:\", x + y)\n",
    "else:\n",
    "    print(\"Moltiplicazione tra i due valori:\", x * y)"
   ]
  },
  {
   "cell_type": "code",
   "execution_count": 11,
   "metadata": {},
   "outputs": [
    {
     "name": "stdout",
     "output_type": "stream",
     "text": [
      "Valore attuale soglia: 2\n",
      "Moltiplicazione tra i due valori: 2\n"
     ]
    }
   ],
   "source": [
    "# Parte Extra\n",
    "def operazione(num1, num2, soglia=1000):\n",
    "    print(\"Valore attuale soglia:\", soglia)\n",
    "    if num1 * num2 > soglia:\n",
    "        print(\"Somma tra i due valori:\", num1 + num2)\n",
    "    else:\n",
    "        print(\"Moltiplicazione tra i due valori:\", num1 * num2)\n",
    "\n",
    "x = int(input(\"Inserisci il primo numero: \"))\n",
    "y = int(input(\"Inserisci il secondo numero: \"))\n",
    "# ATTENZIONE!!! Se uno metteva int(input()) e nel\n",
    "# momento dell'esecuzione del programma un non metteva\n",
    "# l'input il programma ti dà errore, perchè\n",
    "# non riesce a castare una stringa nulla in intero\n",
    "z = input(\"Inserisci una soglia(facoltativo): \")\n",
    "\n",
    "if len(z) == 0:\n",
    "    operazione(x,y)\n",
    "else:\n",
    "    operazione(x,y,int(z))"
   ]
  },
  {
   "cell_type": "markdown",
   "metadata": {},
   "source": [
    "# Esercizio n. 7\n",
    "Scrivi una funzione Python che, presa in input una lista:\n",
    "* restituisca la somma e il prodotto degli elementi contenuti in una lista\n",
    "\n",
    "Scrivi una funzione Python che, presa in input una lista:\n",
    "* restituisca la somma o il prodotto degli elementi della lista a seconda di un parametro di input aggiuntivo specificato dall'utente.\n"
   ]
  },
  {
   "cell_type": "code",
   "execution_count": 20,
   "metadata": {},
   "outputs": [
    {
     "name": "stdout",
     "output_type": "stream",
     "text": [
      "Il prodotto della lista è:  362880\n"
     ]
    }
   ],
   "source": [
    "def func1 (list):\n",
    "    sum = 0\n",
    "    prod = 1\n",
    "    for elem in list:\n",
    "        sum += elem\n",
    "        prod *= elem\n",
    "\n",
    "    return sum, prod\n",
    "\n",
    "def func2 (list, param):\n",
    "    s, p = func1(list)\n",
    "    if param == 's':\n",
    "        print(\"La somma della lista è: \", s)\n",
    "    else:\n",
    "        print(\"Il prodotto della lista è: \", p)\n",
    "\n",
    "#func1([x for x in range(10) if x>0])\n",
    "# lista che va da 1 a 9\n",
    "my_list = [x for x in range(10) if x>0]\n",
    "        \n",
    "p = input(\"Digita 's' o 'p' per ottenere la somma o il prod:\")\n",
    "if len(p) != 0:\n",
    "    func2(my_list, p)\n",
    "else:\n",
    "    x, y = func1(my_list)\n",
    "    print(\"Somma dei elementi della lista \", x)\n",
    "    print(\"Prodotto dei elementi della lista: \", y)\n"
   ]
  },
  {
   "cell_type": "markdown",
   "metadata": {
    "ExecuteTime": {
     "end_time": "2023-02-21T00:10:18.015779Z",
     "start_time": "2023-02-21T00:10:17.978520Z"
    }
   },
   "source": [
    "# Esercizio n. 8\n",
    "Dato una lista di numeri interi, ad esempio x = [0,1,2,3,4,5,6,7,8,9,], eleva al quadrato tutti i suoi valori in un nuovo elenco y. Usa la list comprehension per farlo.\n",
    "\n",
    "* Traccia y su x usando la libreria matplotlib. Aggiungi anche un indicatore per ogni punto (ad esempio, un indicatore quadrato).\n",
    "\n",
    "* Prova a modificare alcuni parametri della trama come:\n",
    "     * colore\n",
    "     * etichetta x, etichetta y\n",
    "     * grid(axis='y')# \n",
    "     * titolo\n",
    "     * larghezza della linea\n",
    "\n",
    "* Tracciare una seconda curva (ad esempio, una relazione cubica o lineare semplice su x) sulla curva precedente.\n",
    "* Invece di tracciare le due curve in un unico grafico, riportarle su due subplot distinti organizzati per colonne (ad esempio, subplot(1,2,1) e subplot(1,2,2))."
   ]
  },
  {
   "cell_type": "code",
   "execution_count": 4,
   "metadata": {
    "tags": []
   },
   "outputs": [
    {
     "data": {
      "image/png": "[encoded data removed]",
      "text/plain": [
       "<Figure size 640x480 with 2 Axes>"
      ]
     },
     "metadata": {},
     "output_type": "display_data"
    }
   ],
   "source": [
    "import matplotlib.pyplot as plt\n",
    "\n",
    "x = [0,1,2,3,4,5,6,7,8,9]\n",
    "y = [elem**2 for elem in x]\n",
    "z = [elem**3 for elem in x]\n",
    "#print(y)\n",
    "\n",
    "plt.subplot(1,2,1)\n",
    "#Creazione del grafico\n",
    "#lw = line width\n",
    "plt.plot(x,y, lw=2)\n",
    "\n",
    "#Aggiunta di etichetta negli assi\n",
    "plt.xlabel(\"Ascisse\")\n",
    "plt.ylabel(\"Ordinate\")\n",
    "\n",
    "#Aggiunta della griglia\n",
    "plt.grid(axis='y')\n",
    "\n",
    "#Aggiunta del titolo\n",
    "plt.title(\"Primo Grafico\")\n",
    "\n",
    "plt.subplot(1,2,2)\n",
    "plt.plot(x,z, lw=3)\n",
    "\n",
    "plt.xlabel(\"Ascisse\")\n",
    "plt.ylabel(\"Ordinate\")\n",
    "plt.grid(axis='y')\n",
    "plt.title(\"Secondo Grafico\")\n",
    "\n",
    "#Mostra il grafico\n",
    "plt.show()"
   ]
  },
  {
   "cell_type": "code",
   "execution_count": null,
   "metadata": {},
   "outputs": [],
   "source": []
  }
 ],
 "metadata": {
  "kernelspec": {
   "display_name": "Python 3 (ipykernel)",
   "language": "python",
   "name": "python3"
  },
  "language_info": {
   "codemirror_mode": {
    "name": "ipython",
    "version": 3
   },
   "file_extension": ".py",
   "mimetype": "text/x-python",
   "name": "python",
   "nbconvert_exporter": "python",
   "pygments_lexer": "ipython3",
   "version": "3.11.5"
  },
  "varInspector": {
   "cols": {
    "lenName": 16,
    "lenType": 16,
    "lenVar": 40
   },
   "kernels_config": {
    "python": {
     "delete_cmd_postfix": "",
     "delete_cmd_prefix": "del ",
     "library": "var_list.py",
     "varRefreshCmd": "print(var_dic_list())"
    },
    "r": {
     "delete_cmd_postfix": ") ",
     "delete_cmd_prefix": "rm(",
     "library": "var_list.r",
     "varRefreshCmd": "cat(var_dic_list()) "
    }
   },
   "types_to_exclude": [
    "module",
    "function",
    "builtin_function_or_method",
    "instance",
    "_Feature"
   ],
   "window_display": false
  },
  "vscode": {
   "interpreter": {
    "hash": "30eef1dcfb837675ec28ded3b62cbdc631b763468d0e57f04da975e3db11727d"
   }
  }
 },
 "nbformat": 4,
 "nbformat_minor": 4
}
