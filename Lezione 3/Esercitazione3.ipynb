{
 "cells": [
  {
   "cell_type": "markdown",
   "id": "cd8d6a57-49d8-4eab-bb0f-107b277ad3d1",
   "metadata": {},
   "source": [
    "## Esercizi sui Numpy array  5 Marzo 2024\n"
   ]
  },
  {
   "cell_type": "markdown",
   "id": "d3445102-1135-4f49-8673-dcba181f883b",
   "metadata": {},
   "source": [
    "**Esercizio 1**\n",
    "\n",
    "Confrontare il tempo di esecuzione dei due metodi per la creazione di un numpy array di 2000000 di elementi equidistanti nell'intervallo [-4,4]:\n",
    "\n",
    "    1) costruzione con utilizzo di np.linspace\n",
    "    \n",
    "    2) Assegnazione manuale dei valori nel ciclo.\n",
    "    "
   ]
  },
  {
   "cell_type": "code",
   "execution_count": 3,
   "id": "9ae4965a-4aa9-4dde-8bfc-5185a8356aa5",
   "metadata": {
    "tags": []
   },
   "outputs": [
    {
     "name": "stdout",
     "output_type": "stream",
     "text": [
      "Tempo che ci ha impegato il .linespace 0.007279157638549805\n",
      "Tempo che ci ha impegato il while 0.686786413192749\n"
     ]
    }
   ],
   "source": [
    "import numpy as np\n",
    "import platform\n",
    "import time\n",
    "\n",
    "start_time = time.time()\n",
    "arr = np.linspace(-4, 4, 2000000)\n",
    "end_time = time.time()\n",
    "print(\"Tempo che ci ha impegato il .linespace\", end_time - start_time)\n",
    "\n",
    "start_time = time.time()\n",
    "arr = [a for a in range(-4,4)]\n",
    "single_step = len(arr) / 2000000\n",
    "arr2 = []\n",
    "i = -4\n",
    "while (len(arr2)) < 2000000:\n",
    "    arr2.append(i)\n",
    "    i += single_step\n",
    "end_time = time.time()\n",
    "print(\"Tempo che ci ha impegato il while\", end_time - start_time)"
   ]
  },
  {
   "cell_type": "markdown",
   "id": "59db5cfc-4e88-42a8-afc7-1d666abd0abc",
   "metadata": {},
   "source": [
    "**Esercizio 2**\n",
    "\n",
    "-     Creare un numpy array 1D (chiamato c) di valori equidistanti tra 7 e 41 con step 2.\n",
    "\n",
    "-      Trasformare l'array c in un numpy array 2d (chiamato c1) con shape (2,9) usando il metodo .reshape((m,n))\n",
    "\n",
    "-       Determinare se c1 e' una copia o una vista dell'originale."
   ]
  },
  {
   "cell_type": "code",
   "execution_count": 32,
   "id": "8833acd0-6832-4d1f-b5dd-6a56e719d912",
   "metadata": {
    "tags": []
   },
   "outputs": [
    {
     "name": "stdout",
     "output_type": "stream",
     "text": [
      "[ 7  9 11 13 15 17 19 21 23 25 27 29 31 33 35 37 39 41]\n",
      "None\n"
     ]
    }
   ],
   "source": [
    "#c = np.linspace(7, 41, 17, dtype=int,endpoint=False)\n",
    "c = np.arange(7, 41+2, 2)\n",
    "# il +2 serve per far stampare anche il 41\n",
    "\n",
    "c1 = c.reshape(2, 9).copy()\n",
    "# array.ndmi per capire la dimensione dell'array\n",
    "print(c)\n",
    "print(c1.base)\n",
    "# se ritorna None è una copia\n",
    "# se ritorna l'array è un riferimento alla memoria\n"
   ]
  },
  {
   "cell_type": "markdown",
   "id": "7b81197a-a950-48ab-8e75-31855ac69d9d",
   "metadata": {},
   "source": [
    "**Esercizio 3**\n",
    "\n",
    "-     Costruire un numpy array 1d, denominato C di valori che variano tra 15 e 41 con step 2\n",
    "\n",
    "-     Trasformarlo in un numpy array 2d con shape(7,2) usando il metodo . resize(7,2)  che lavora in-place,  (cioè  modifica l'array esistente, non è necessario creare una copia). Verificare la shape di C e dire se C è copia o vista?"
   ]
  },
  {
   "cell_type": "code",
   "execution_count": 37,
   "id": "57b7c83c-287b-46b6-b2a5-424f975844cf",
   "metadata": {
    "tags": []
   },
   "outputs": [
    {
     "name": "stdout",
     "output_type": "stream",
     "text": [
      "[15 17 19 21 23 25 27 29 31 33 35 37 39 41]\n",
      "[[15 17]\n",
      " [19 21]\n",
      " [23 25]\n",
      " [27 29]\n",
      " [31 33]\n",
      " [35 37]\n",
      " [39 41]]\n",
      "None\n"
     ]
    }
   ],
   "source": [
    "C = np.arange(15, 41+2, 2)\n",
    "print(C)\n",
    "C.resize(7,2)\n",
    "print(C)\n",
    "print(C.base)\n",
    "# C è una copia"
   ]
  },
  {
   "cell_type": "markdown",
   "id": "d1adc080-9ce4-404c-ba18-c831f2625214",
   "metadata": {},
   "source": [
    "**Esercizio 4**\n",
    "\n",
    "-      Costruire il numpy array  s  formato da 100 valori equidistanti in  [0,4],\n",
    "\n",
    "-      considerarne il reshape in un array 2d che ha 4 righe con un numero opportuno di colonne"
   ]
  },
  {
   "cell_type": "code",
   "execution_count": 44,
   "id": "6a00fce5-5bd8-4935-af50-88a68a9b7e07",
   "metadata": {
    "tags": []
   },
   "outputs": [
    {
     "name": "stdout",
     "output_type": "stream",
     "text": [
      "100\n"
     ]
    },
    {
     "data": {
      "text/plain": [
       "array([[0.        , 0.04040404, 0.08080808, 0.12121212, 0.16161616,\n",
       "        0.2020202 , 0.24242424, 0.28282828, 0.32323232, 0.36363636,\n",
       "        0.4040404 , 0.44444444, 0.48484848, 0.52525253, 0.56565657,\n",
       "        0.60606061, 0.64646465, 0.68686869, 0.72727273, 0.76767677,\n",
       "        0.80808081, 0.84848485, 0.88888889, 0.92929293, 0.96969697],\n",
       "       [1.01010101, 1.05050505, 1.09090909, 1.13131313, 1.17171717,\n",
       "        1.21212121, 1.25252525, 1.29292929, 1.33333333, 1.37373737,\n",
       "        1.41414141, 1.45454545, 1.49494949, 1.53535354, 1.57575758,\n",
       "        1.61616162, 1.65656566, 1.6969697 , 1.73737374, 1.77777778,\n",
       "        1.81818182, 1.85858586, 1.8989899 , 1.93939394, 1.97979798],\n",
       "       [2.02020202, 2.06060606, 2.1010101 , 2.14141414, 2.18181818,\n",
       "        2.22222222, 2.26262626, 2.3030303 , 2.34343434, 2.38383838,\n",
       "        2.42424242, 2.46464646, 2.50505051, 2.54545455, 2.58585859,\n",
       "        2.62626263, 2.66666667, 2.70707071, 2.74747475, 2.78787879,\n",
       "        2.82828283, 2.86868687, 2.90909091, 2.94949495, 2.98989899],\n",
       "       [3.03030303, 3.07070707, 3.11111111, 3.15151515, 3.19191919,\n",
       "        3.23232323, 3.27272727, 3.31313131, 3.35353535, 3.39393939,\n",
       "        3.43434343, 3.47474747, 3.51515152, 3.55555556, 3.5959596 ,\n",
       "        3.63636364, 3.67676768, 3.71717172, 3.75757576, 3.7979798 ,\n",
       "        3.83838384, 3.87878788, 3.91919192, 3.95959596, 4.        ]])"
      ]
     },
     "execution_count": 44,
     "metadata": {},
     "output_type": "execute_result"
    }
   ],
   "source": [
    "s = np.linspace(0,4,100)\n",
    "print(len(s))\n",
    "# per ottenere il numero di colonne 100/4 = 25\n",
    "s.reshape(4, -1)\n",
    "# il -1 serve per andare a calcolare automaticamente le colonne\n",
    "# in base a num di di righe e elemnti totali\n",
    "\n",
    "# .resize modifica la forma e lo fa sul riferimento dell'array"
   ]
  },
  {
   "cell_type": "markdown",
   "id": "d40f5d7a-4808-4004-b806-b8b75bcaa01b",
   "metadata": {},
   "source": [
    "**Esercizio 5**\n",
    "\n",
    "-     Costruire il numpy array s formato da 100 valori equidistanti in  [0,4]\n",
    "-     considerarne il reshape in un array 2d che ha 4 colonne con un numero opportuno di righe"
   ]
  },
  {
   "cell_type": "code",
   "execution_count": 50,
   "id": "0944b651-3021-4796-9280-f69438fdd707",
   "metadata": {
    "tags": []
   },
   "outputs": [
    {
     "name": "stdout",
     "output_type": "stream",
     "text": [
      "100\n",
      "[[0.         0.04040404 0.08080808 0.12121212]\n",
      " [0.16161616 0.2020202  0.24242424 0.28282828]\n",
      " [0.32323232 0.36363636 0.4040404  0.44444444]\n",
      " [0.48484848 0.52525253 0.56565657 0.60606061]\n",
      " [0.64646465 0.68686869 0.72727273 0.76767677]\n",
      " [0.80808081 0.84848485 0.88888889 0.92929293]\n",
      " [0.96969697 1.01010101 1.05050505 1.09090909]\n",
      " [1.13131313 1.17171717 1.21212121 1.25252525]\n",
      " [1.29292929 1.33333333 1.37373737 1.41414141]\n",
      " [1.45454545 1.49494949 1.53535354 1.57575758]\n",
      " [1.61616162 1.65656566 1.6969697  1.73737374]\n",
      " [1.77777778 1.81818182 1.85858586 1.8989899 ]\n",
      " [1.93939394 1.97979798 2.02020202 2.06060606]\n",
      " [2.1010101  2.14141414 2.18181818 2.22222222]\n",
      " [2.26262626 2.3030303  2.34343434 2.38383838]\n",
      " [2.42424242 2.46464646 2.50505051 2.54545455]\n",
      " [2.58585859 2.62626263 2.66666667 2.70707071]\n",
      " [2.74747475 2.78787879 2.82828283 2.86868687]\n",
      " [2.90909091 2.94949495 2.98989899 3.03030303]\n",
      " [3.07070707 3.11111111 3.15151515 3.19191919]\n",
      " [3.23232323 3.27272727 3.31313131 3.35353535]\n",
      " [3.39393939 3.43434343 3.47474747 3.51515152]\n",
      " [3.55555556 3.5959596  3.63636364 3.67676768]\n",
      " [3.71717172 3.75757576 3.7979798  3.83838384]\n",
      " [3.87878788 3.91919192 3.95959596 4.        ]]\n"
     ]
    }
   ],
   "source": [
    "s = np.linspace(0, 4, 100)\n",
    "print(len(s))\n",
    "s1 = s.reshape(-1,4)\n",
    "print(s1)"
   ]
  },
  {
   "cell_type": "markdown",
   "id": "6df0f7e2-8d6d-45e3-b6c8-73ed973b62f0",
   "metadata": {},
   "source": [
    "**Esercizio 6**  \n",
    "\n",
    "-     Scrivere il numpy  array 2d, A, [[10,11,12],[13,14,15],[16,17,18]] \n",
    "-     trasformarlo in un numpy array 1d usando il metodo .ravel()  \n",
    "-     Si tratta di una copia o di una vista?"
   ]
  },
  {
   "cell_type": "code",
   "execution_count": 56,
   "id": "91596b63-5b67-446f-8ad8-e8a83922baeb",
   "metadata": {
    "tags": []
   },
   "outputs": [
    {
     "name": "stdout",
     "output_type": "stream",
     "text": [
      "[10 11 12 13 14 15 16 17 18]\n",
      "[[10 11 12]\n",
      " [13 14 15]\n",
      " [16 17 18]]\n"
     ]
    }
   ],
   "source": [
    "# 2d matrice nxn\n",
    "A = np.array([[10,11,12],[13,14,15],[16,17,18]])\n",
    "A1 = A.ravel()\n",
    "print(A1)\n",
    "print(A1.base)"
   ]
  },
  {
   "cell_type": "markdown",
   "id": "19559c2a-0ac7-4d4a-b6ff-38e58843b3b6",
   "metadata": {},
   "source": [
    "**Esercizio 7**  \n",
    "\n",
    "-     Scrivere il numpy  array 2d, A, [[10,11,12],[13,14,15],[16,17,18]] \n",
    "-     trasformarlo in un numpy array 1d usando il metodo  .flatten().\n",
    "-     Si tratta di una copia o di una vista?"
   ]
  },
  {
   "cell_type": "code",
   "execution_count": 57,
   "id": "a2ddb664-b4f8-46d3-8923-f95f4deac1dd",
   "metadata": {
    "tags": []
   },
   "outputs": [
    {
     "name": "stdout",
     "output_type": "stream",
     "text": [
      "[10 11 12 13 14 15 16 17 18]\n",
      "None\n"
     ]
    }
   ],
   "source": [
    "A = np.array([[10,11,12],[13,14,15],[16,17,18]])\n",
    "A1 = A.flatten()\n",
    "print(A1)\n",
    "print(A1.base)"
   ]
  },
  {
   "cell_type": "markdown",
   "id": "c77c2529-d680-42c9-9231-3aca724b1c12",
   "metadata": {},
   "source": [
    "**Esercizio 8** \n",
    "\n",
    "-     creare i due  numpy array 1d\n",
    "        f1= [ 0  1  2  3  4  5  6  7  8  9 10 11 12 13 14 15]  \n",
    "        f2= [16 17 18 19 20 21 22 23 24 25 26 27 28 29 30 31]\n",
    "-     \"vederli\" come matrici  4x4 ed effettuarne il prodotto scalare, memorizzando in f3 la matrice che nasce dal loro prodotto."
   ]
  },
  {
   "cell_type": "code",
   "execution_count": 9,
   "id": "eaa3b442-8aa0-4904-a5a4-2f7ecb13c05e",
   "metadata": {
    "tags": []
   },
   "outputs": [
    {
     "name": "stdout",
     "output_type": "stream",
     "text": [
      "[[ 152  158  164   77]\n",
      " [ 504  526  548  353]\n",
      " [ 856  894  932  629]\n",
      " [1208 1262 1316  905]]\n"
     ]
    }
   ],
   "source": [
    "f1 = np.array([x for x in range(16)])\n",
    "f2 = np.array([x for x in range(16,31)])\n",
    "f1.resize((4,4))\n",
    "f2.resize((4,4))\n",
    "f3 = f1 @ f2\n",
    "print(f3)\n",
    "#print(f2)"
   ]
  },
  {
   "cell_type": "markdown",
   "id": "c9249961-c220-46c0-9e0d-e59dfefe662c",
   "metadata": {},
   "source": [
    "**Esercizio 9**    \n",
    "\n",
    " Costruire:\n",
    "-      Numpy Array A di shape (2,10) : array di valori random campionati da una distribuzione gaussiana con media 0 e varianza 1.\n",
    " -     Numpy array 1D B di shape (20,) formato dagli interi da 0 a 19.\n",
    " \n",
    " \"Vedere\" A come un array 1D di 20 elementi ed effettuare la somma di A+B\n",
    "\n"
   ]
  },
  {
   "cell_type": "code",
   "execution_count": 20,
   "id": "38866cf7-9db5-4df8-b999-9ff762b56292",
   "metadata": {
    "tags": []
   },
   "outputs": [
    {
     "name": "stdout",
     "output_type": "stream",
     "text": [
      "[[-0.10609475  0.19897972 -0.72663136 -1.56002299  0.63978905 -0.32695891\n",
      "  -0.89117791 -0.43437422 -0.31987713 -0.49935112]\n",
      " [-0.42746222 -1.66797407  0.3623082  -0.490401    1.47913757  1.137892\n",
      "  -0.10776053 -1.14703951  0.50332538  0.98667911]]\n",
      "[ 0  1  2  3  4  5  6  7  8  9 10 11 12 13 14 15 16 17 18 19]\n",
      "[-0.10609475  1.19897972  1.27336864  1.43997701  4.63978905  4.67304109\n",
      "  5.10882209  6.56562578  7.68012287  8.50064888  9.57253778  9.33202593\n",
      " 12.3623082  12.509599   15.47913757 16.137892   15.89223947 15.85296049\n",
      " 18.50332538 19.98667911]\n"
     ]
    }
   ],
   "source": [
    "A = np.random.randn(2,10)\n",
    "print(A)\n",
    "B = np.array([x for x in range(20)])\n",
    "print(B)\n",
    "\n",
    "C = A.flatten() + B\n",
    "print(C)"
   ]
  },
  {
   "cell_type": "markdown",
   "id": "7f6cf29e-d14a-46c9-8f35-e66151a9e0a3",
   "metadata": {},
   "source": [
    "**Esercizio 10** \n",
    "-     Creare un array 2D di shape (5,5), denominato B2, con valori tutti uguali a 15.\n",
    "-     Creare una copia B3 di B2. Modificare l'elemento B3[0,0] assegnandogli il valore 150. \n",
    "-     Stampare il numpy array B2 ed il numpy array B3 e verificare che B2, dopo la modifica di B3, è rimasto inalterato"
   ]
  },
  {
   "cell_type": "code",
   "execution_count": 19,
   "id": "02ccafb8-a970-40cc-a30a-dc9b976cd598",
   "metadata": {
    "tags": []
   },
   "outputs": [
    {
     "name": "stdout",
     "output_type": "stream",
     "text": [
      "Matrice B2: \n",
      " [[15 15 15 15 15]\n",
      " [15 15 15 15 15]\n",
      " [15 15 15 15 15]\n",
      " [15 15 15 15 15]\n",
      " [15 15 15 15 15]]\n",
      "Matrice B3: \n",
      " [[150  15  15  15  15]\n",
      " [ 15  15  15  15  15]\n",
      " [ 15  15  15  15  15]\n",
      " [ 15  15  15  15  15]\n",
      " [ 15  15  15  15  15]]\n"
     ]
    }
   ],
   "source": [
    "B2 = np.ones((5,5), dtype=int)*15\n",
    "#print(B2)\n",
    "B3 = B2.copy()\n",
    "B3[0][0] = 150\n",
    "print(\"Matrice B2: \\n\", B2)\n",
    "print(\"Matrice B3: \\n\", B3)"
   ]
  },
  {
   "cell_type": "markdown",
   "id": "af234d9c-98b6-4741-91a8-0c1d14ff8183",
   "metadata": {},
   "source": [
    "\n"
   ]
  },
  {
   "cell_type": "markdown",
   "id": "22c456d1-2897-412c-99c1-e9b19cbab4e7",
   "metadata": {},
   "source": [
    "**Esercizio 11**   \n",
    "\n",
    "-     Costruire  un numpy array 1D, di shape (10,) denominato  f , costituito da 10 valori equidistanti nell'intervallo [0,1]\n",
    "-     aumentarne la dimensionalità, in maniera tale che abbia shape (10,1)"
   ]
  },
  {
   "cell_type": "code",
   "execution_count": 26,
   "id": "fcf5eda9-945f-4dba-a4d3-d2a791b974ee",
   "metadata": {
    "tags": []
   },
   "outputs": [
    {
     "name": "stdout",
     "output_type": "stream",
     "text": [
      "[0.         0.11111111 0.22222222 0.33333333 0.44444444 0.55555556\n",
      " 0.66666667 0.77777778 0.88888889 1.        ]\n",
      "[[0.        ]\n",
      " [0.11111111]\n",
      " [0.22222222]\n",
      " [0.33333333]\n",
      " [0.44444444]\n",
      " [0.55555556]\n",
      " [0.66666667]\n",
      " [0.77777778]\n",
      " [0.88888889]\n",
      " [1.        ]]\n"
     ]
    }
   ],
   "source": [
    "f = np.linspace(0,1, 10)\n",
    "print(f)\n",
    "f.resize((10,1))\n",
    "print(f)"
   ]
  },
  {
   "cell_type": "markdown",
   "id": "2866db7c-cbcb-431e-bc6a-2645577a65e8",
   "metadata": {},
   "source": [
    "- **Esercizio 12**\n",
    "-     Costruire i seguenti numpy array\n",
    "      a = np.array([14,13,12,11])\n",
    "      b = np.array([[4,3,2,1],[9,10,11,12]])\n",
    "\n",
    "  Costruire il numpy array che si ottiene concatenando a e b per righe\n"
   ]
  },
  {
   "cell_type": "code",
   "execution_count": 28,
   "id": "c8b6328c-0555-45a9-ade5-cfe0f2702673",
   "metadata": {
    "tags": []
   },
   "outputs": [
    {
     "name": "stdout",
     "output_type": "stream",
     "text": [
      "[[14 13 12 11]\n",
      " [ 4  3  2  1]\n",
      " [ 9 10 11 12]]\n"
     ]
    }
   ],
   "source": [
    "a = np.array([14,13,12,11])\n",
    "b = np.array([[4,3,2,1],[9,10,11,12]])\n",
    "c = np.vstack((a,b))\n",
    "print(c)"
   ]
  },
  {
   "cell_type": "markdown",
   "id": "d57c7290-27ce-4dce-a8e2-6b89124ed223",
   "metadata": {},
   "source": [
    "- **Esercizio 13**\n",
    "-     Costruire i seguenti numpy array\n",
    "      a = np.array([14,13,12,11])\n",
    "      b = np.array([[4,3,2,1],[9,10,11,12],[4,3,2,1],[9,10,11,12]])\n",
    "\n",
    "-\n",
    "- Costruire il numpy array che si ottiene concatenando a e b per colonne"
   ]
  },
  {
   "cell_type": "code",
   "execution_count": 39,
   "id": "87b91c7a-4baa-4264-8210-003f6546c28a",
   "metadata": {
    "tags": []
   },
   "outputs": [
    {
     "name": "stdout",
     "output_type": "stream",
     "text": [
      "[[14]\n",
      " [13]\n",
      " [12]\n",
      " [11]]\n",
      "[[ 4  3  2  1 14]\n",
      " [ 9 10 11 12 13]\n",
      " [ 4  3  2  1 12]\n",
      " [ 9 10 11 12 11]]\n"
     ]
    }
   ],
   "source": [
    "a = np.array([14,13,12,11])\n",
    "b = np.array([[4,3,2,1],[9,10,11,12],[4,3,2,1],[9,10,11,12]])\n",
    "#print(a)\n",
    "#print(b)\n",
    "a.resize(4,1)\n",
    "print(a)\n",
    "c = np.hstack((b,a))\n",
    "print(c)"
   ]
  },
  {
   "cell_type": "markdown",
   "id": "7c6eb421-0e1f-445b-b72f-7d2a2451fcb4",
   "metadata": {},
   "source": [
    "**Esercizio 14**\n",
    "\n",
    "Costruire, facendo uso di una sola riga di codice, la matrice A di ordine 10, che ha gli unici elementi diversi da zero, sulla diagonale principale, sulla codiagonale inferiore e sulla codiagonale superiore:\n",
    "\n",
    "elementi diagonali $A_{i,i}=10 \\quad$, i=1,20\n",
    "\n",
    "elementi nella codiagonale inferiore $A_{i-1,i}=-12, \\quad$ i=2,..,20, \n",
    "\n",
    "elementi nella codiagonale superiore $A_{i,i+1}=-2 \\quad$ i=1,..,19"
   ]
  },
  {
   "cell_type": "code",
   "execution_count": 44,
   "id": "7a5fd8f2-1422-457b-9e4b-537af66597f7",
   "metadata": {
    "tags": []
   },
   "outputs": [
    {
     "name": "stdout",
     "output_type": "stream",
     "text": [
      "[[ 10  -2   0   0   0   0   0   0   0   0   0   0   0   0   0   0   0   0\n",
      "    0   0]\n",
      " [-12  10  -2   0   0   0   0   0   0   0   0   0   0   0   0   0   0   0\n",
      "    0   0]\n",
      " [  0 -12  10  -2   0   0   0   0   0   0   0   0   0   0   0   0   0   0\n",
      "    0   0]\n",
      " [  0   0 -12  10  -2   0   0   0   0   0   0   0   0   0   0   0   0   0\n",
      "    0   0]\n",
      " [  0   0   0 -12  10  -2   0   0   0   0   0   0   0   0   0   0   0   0\n",
      "    0   0]\n",
      " [  0   0   0   0 -12  10  -2   0   0   0   0   0   0   0   0   0   0   0\n",
      "    0   0]\n",
      " [  0   0   0   0   0 -12  10  -2   0   0   0   0   0   0   0   0   0   0\n",
      "    0   0]\n",
      " [  0   0   0   0   0   0 -12  10  -2   0   0   0   0   0   0   0   0   0\n",
      "    0   0]\n",
      " [  0   0   0   0   0   0   0 -12  10  -2   0   0   0   0   0   0   0   0\n",
      "    0   0]\n",
      " [  0   0   0   0   0   0   0   0 -12  10  -2   0   0   0   0   0   0   0\n",
      "    0   0]\n",
      " [  0   0   0   0   0   0   0   0   0 -12  10  -2   0   0   0   0   0   0\n",
      "    0   0]\n",
      " [  0   0   0   0   0   0   0   0   0   0 -12  10  -2   0   0   0   0   0\n",
      "    0   0]\n",
      " [  0   0   0   0   0   0   0   0   0   0   0 -12  10  -2   0   0   0   0\n",
      "    0   0]\n",
      " [  0   0   0   0   0   0   0   0   0   0   0   0 -12  10  -2   0   0   0\n",
      "    0   0]\n",
      " [  0   0   0   0   0   0   0   0   0   0   0   0   0 -12  10  -2   0   0\n",
      "    0   0]\n",
      " [  0   0   0   0   0   0   0   0   0   0   0   0   0   0 -12  10  -2   0\n",
      "    0   0]\n",
      " [  0   0   0   0   0   0   0   0   0   0   0   0   0   0   0 -12  10  -2\n",
      "    0   0]\n",
      " [  0   0   0   0   0   0   0   0   0   0   0   0   0   0   0   0 -12  10\n",
      "   -2   0]\n",
      " [  0   0   0   0   0   0   0   0   0   0   0   0   0   0   0   0   0 -12\n",
      "   10  -2]\n",
      " [  0   0   0   0   0   0   0   0   0   0   0   0   0   0   0   0   0   0\n",
      "  -12  10]]\n"
     ]
    }
   ],
   "source": [
    "A = np.diag([10 for x in range(20)], k=0) + np.diag([-2 for x in range(19)], k=1) + np.diag([-12 for x in range(19)], k=-1)\n",
    "print(A)"
   ]
  },
  {
   "cell_type": "markdown",
   "id": "bae8a3dc-e71c-4ff4-8062-2d66c377d63f",
   "metadata": {},
   "source": [
    "**Esercizio 15**\n",
    "\n",
    "Costruire la matrice identità, denominata *I*,  della stessa dimensione di *A*"
   ]
  },
  {
   "cell_type": "code",
   "execution_count": 50,
   "id": "2e1f4502-7ffe-494e-afed-cfd9e45e9aa6",
   "metadata": {
    "tags": []
   },
   "outputs": [
    {
     "name": "stdout",
     "output_type": "stream",
     "text": [
      "[[1. 0. 0. ... 0. 0. 0.]\n",
      " [0. 1. 0. ... 0. 0. 0.]\n",
      " [0. 0. 1. ... 0. 0. 0.]\n",
      " ...\n",
      " [0. 0. 0. ... 1. 0. 0.]\n",
      " [0. 0. 0. ... 0. 1. 0.]\n",
      " [0. 0. 0. ... 0. 0. 1.]]\n"
     ]
    }
   ],
   "source": [
    "C = np.identity(A.size)\n",
    "print(C)"
   ]
  },
  {
   "cell_type": "markdown",
   "id": "612458f4-d8f6-4015-ae74-042d73cbd9f9",
   "metadata": {},
   "source": [
    "**Esercizio 16**\n",
    "\n",
    "Facendo uso dell'operatore slicing *:* ,costruire la matrice AA selezionando dalla matrice A le righe che vanno dalla 2 alla 9 con step 2 e le colonne che vanno dalla 3 alla 6 con step 2.\n",
    "La matrice AA è una vista o una copia?\n"
   ]
  },
  {
   "cell_type": "code",
   "execution_count": 55,
   "id": "1a34c30f-e677-4e9a-9ffc-3253162dd4d8",
   "metadata": {
    "tags": []
   },
   "outputs": [
    {
     "name": "stdout",
     "output_type": "stream",
     "text": [
      "[[ -2   0]\n",
      " [-12  -2]\n",
      " [  0 -12]\n",
      " [  0   0]]\n",
      "Vista(riferimento) o copia?  [[ 10  -2   0   0   0   0   0   0   0   0   0   0   0   0   0   0   0   0\n",
      "    0   0]\n",
      " [-12  10  -2   0   0   0   0   0   0   0   0   0   0   0   0   0   0   0\n",
      "    0   0]\n",
      " [  0 -12  10  -2   0   0   0   0   0   0   0   0   0   0   0   0   0   0\n",
      "    0   0]\n",
      " [  0   0 -12  10  -2   0   0   0   0   0   0   0   0   0   0   0   0   0\n",
      "    0   0]\n",
      " [  0   0   0 -12  10  -2   0   0   0   0   0   0   0   0   0   0   0   0\n",
      "    0   0]\n",
      " [  0   0   0   0 -12  10  -2   0   0   0   0   0   0   0   0   0   0   0\n",
      "    0   0]\n",
      " [  0   0   0   0   0 -12  10  -2   0   0   0   0   0   0   0   0   0   0\n",
      "    0   0]\n",
      " [  0   0   0   0   0   0 -12  10  -2   0   0   0   0   0   0   0   0   0\n",
      "    0   0]\n",
      " [  0   0   0   0   0   0   0 -12  10  -2   0   0   0   0   0   0   0   0\n",
      "    0   0]\n",
      " [  0   0   0   0   0   0   0   0 -12  10  -2   0   0   0   0   0   0   0\n",
      "    0   0]\n",
      " [  0   0   0   0   0   0   0   0   0 -12  10  -2   0   0   0   0   0   0\n",
      "    0   0]\n",
      " [  0   0   0   0   0   0   0   0   0   0 -12  10  -2   0   0   0   0   0\n",
      "    0   0]\n",
      " [  0   0   0   0   0   0   0   0   0   0   0 -12  10  -2   0   0   0   0\n",
      "    0   0]\n",
      " [  0   0   0   0   0   0   0   0   0   0   0   0 -12  10  -2   0   0   0\n",
      "    0   0]\n",
      " [  0   0   0   0   0   0   0   0   0   0   0   0   0 -12  10  -2   0   0\n",
      "    0   0]\n",
      " [  0   0   0   0   0   0   0   0   0   0   0   0   0   0 -12  10  -2   0\n",
      "    0   0]\n",
      " [  0   0   0   0   0   0   0   0   0   0   0   0   0   0   0 -12  10  -2\n",
      "    0   0]\n",
      " [  0   0   0   0   0   0   0   0   0   0   0   0   0   0   0   0 -12  10\n",
      "   -2   0]\n",
      " [  0   0   0   0   0   0   0   0   0   0   0   0   0   0   0   0   0 -12\n",
      "   10  -2]\n",
      " [  0   0   0   0   0   0   0   0   0   0   0   0   0   0   0   0   0   0\n",
      "  -12  10]]\n"
     ]
    }
   ],
   "source": [
    "AA = A[2:9:2,3:6:2]\n",
    "\n",
    "print(AA)\n",
    "print(\"Vista(riferimento) o copia? \", AA.base)"
   ]
  },
  {
   "cell_type": "markdown",
   "id": "db2a4f82-fe57-4763-bd58-9921869c671c",
   "metadata": {},
   "source": [
    "**Esercizio 17**\n",
    "\n",
    "Facendo uso dell'operatore slicing *:*, costruire la matrice A1 selezionando dalla matrice A le colonne che vanno dalla 1 alla 5 con step 2.  Trasforma la matrice A1 in una copia."
   ]
  },
  {
   "cell_type": "code",
   "execution_count": 57,
   "id": "6782b1a1-e875-4930-8fa6-48c98783b981",
   "metadata": {
    "tags": []
   },
   "outputs": [
    {
     "name": "stdout",
     "output_type": "stream",
     "text": [
      "[[ -2   0]\n",
      " [ 10   0]\n",
      " [-12  -2]\n",
      " [  0  10]\n",
      " [  0 -12]\n",
      " [  0   0]\n",
      " [  0   0]\n",
      " [  0   0]\n",
      " [  0   0]\n",
      " [  0   0]\n",
      " [  0   0]\n",
      " [  0   0]\n",
      " [  0   0]\n",
      " [  0   0]\n",
      " [  0   0]\n",
      " [  0   0]\n",
      " [  0   0]\n",
      " [  0   0]\n",
      " [  0   0]\n",
      " [  0   0]]\n",
      "Vista(riferimento) o copia?  None\n"
     ]
    }
   ],
   "source": [
    "A1 = np.array(A[:,1:5:2])\n",
    "\n",
    "print(A1)\n",
    "print(\"Vista(riferimento) o copia? \", A1.base)"
   ]
  },
  {
   "cell_type": "markdown",
   "id": "f5a336bc-5cf9-4400-ae23-4be1f35521de",
   "metadata": {
    "tags": []
   },
   "source": [
    "**Esercizio 18**\n",
    "\n",
    "Costruisci due numpy array A e B di shape (5,5) \n",
    "   - A formata da numeri interi casuali  nell'intervallo [1,20]\n",
    "   - B formata da numeri interi casuali  nell'intervallo [1,6]\n",
    " \n",
    "  Costruisci con una sola riga di codice le seguenti matrici\n",
    "  \n",
    "  C=A+B   dove  $\\quad c_{ij}=a_{ij}+b_{ij} \\quad i=0,..,n, \\quad j=0,...,n$\n",
    "  \n",
    "  D=A-B   dove  $\\quad d_{ij}=a_{ij}-b_{ij} \\quad i=0,..,n, \\quad j=0,...,n$\n",
    "  \n",
    "  E=A*B   dove  $\\quad e_{ij}=a_{ij}*b_{ij} \\quad i=0,..,n, \\quad j=0,...,n$\n",
    "  \n",
    "  F=A\\B   dove  $\\quad f_{ij}=a_{ij}\\b_{ij} \\quad i=0,..,n, \\quad j=0,...,n$"
   ]
  },
  {
   "cell_type": "code",
   "execution_count": 39,
   "id": "c60231e4-6484-491b-9179-32fed4d59107",
   "metadata": {
    "tags": []
   },
   "outputs": [
    {
     "name": "stdout",
     "output_type": "stream",
     "text": [
      "Matrice A:\n",
      " [[16 13 20 13 14]\n",
      " [13 20 18  7  5]\n",
      " [20  9 11 15 19]\n",
      " [ 1  3  1  3 14]\n",
      " [18  2 11  5  5]]\n",
      "Matrice B:\n",
      " [[4 3 2 6 3]\n",
      " [1 1 4 1 3]\n",
      " [4 3 4 2 5]\n",
      " [4 1 3 1 1]\n",
      " [6 2 3 2 1]]\n",
      "Somma tra A e B:\n",
      " [[20 16 22 19 17]\n",
      " [14 21 22  8  8]\n",
      " [24 12 15 17 24]\n",
      " [ 5  4  4  4 15]\n",
      " [24  4 14  7  6]]\n",
      "Sottrazione tra A e B:\n",
      " [[12 10 18  7 11]\n",
      " [12 19 14  6  2]\n",
      " [16  6  7 13 14]\n",
      " [-3  2 -2  2 13]\n",
      " [12  0  8  3  4]]\n",
      "Moltiplicazione tra A e B:\n",
      " [[ 64  39  40  78  42]\n",
      " [ 13  20  72   7  15]\n",
      " [ 80  27  44  30  95]\n",
      " [  4   3   3   3  14]\n",
      " [108   4  33  10   5]]\n",
      "Divisione tra A e B:\n",
      " [[ 4.          4.33333333 10.          2.16666667  4.66666667]\n",
      " [13.         20.          4.5         7.          1.66666667]\n",
      " [ 5.          3.          2.75        7.5         3.8       ]\n",
      " [ 0.25        3.          0.33333333  3.         14.        ]\n",
      " [ 3.          1.          3.66666667  2.5         5.        ]]\n"
     ]
    }
   ],
   "source": [
    "A = np.random.randint(1, 21, (5,5))\n",
    "print(\"Matrice A:\\n\",A)\n",
    "B = np.random.randint(1, 7, (5,5))\n",
    "print(\"Matrice B:\\n\",B)\n",
    "\n",
    "C , D , E , F = A + B , A - B , A * B , A / B\n",
    "print(\"Somma tra A e B:\\n\", C)\n",
    "print(\"Sottrazione tra A e B:\\n\", D)\n",
    "print(\"Moltiplicazione tra A e B:\\n\", E)\n",
    "print(\"Divisione tra A e B:\\n\", F)\n"
   ]
  },
  {
   "cell_type": "markdown",
   "id": "43fad425-0411-4471-962e-c79247aecb83",
   "metadata": {},
   "source": [
    "**Esercizio 19**\n",
    "\n",
    "Costruisci la matrice ottenuta facendo il prodotto scalare tra le  matrici A e B (righe per colonne)"
   ]
  },
  {
   "cell_type": "code",
   "execution_count": 14,
   "id": "33d46efe-039e-4a2c-a02e-a911ab9b2e4c",
   "metadata": {
    "tags": []
   },
   "outputs": [
    {
     "name": "stdout",
     "output_type": "stream",
     "text": [
      "[[219 220 250 189 195]\n",
      " [272 240 294 243 206]\n",
      " [172 209 207 136 195]\n",
      " [145 171 138 107 134]\n",
      " [283 225 314 259 251]]\n"
     ]
    }
   ],
   "source": [
    "C = A @ B\n",
    "print(C)\n"
   ]
  },
  {
   "cell_type": "markdown",
   "id": "e6ae130a-1d6c-429b-ab62-718ff805d9bc",
   "metadata": {},
   "source": [
    "**Esercizio 20**\n",
    "\n",
    "Costruisci l'array ottenuto sommando gli elementi delle righe della matrice B usando l'appropriata funzione di Numpy."
   ]
  },
  {
   "cell_type": "code",
   "execution_count": 17,
   "id": "73dbadcb-fdf7-497a-9e45-f2d1f942eaa4",
   "metadata": {
    "tags": []
   },
   "outputs": [
    {
     "name": "stdout",
     "output_type": "stream",
     "text": [
      "[19 26 18 22 23]\n"
     ]
    }
   ],
   "source": [
    "# axis = 1 per sommare le righe\n",
    "# //   = 0 per sommare le colonne\n",
    "s1 = np.sum(B, axis=1)\n",
    "# ottieni un'array con la somma delle righe\n",
    "# singolarmente\n",
    "print(s1)"
   ]
  },
  {
   "cell_type": "markdown",
   "id": "4cb04c63-c9c6-41a8-8e62-bc4497a4251b",
   "metadata": {},
   "source": [
    "**Esercizio 21** \n",
    "\n",
    "Costruisci l'array ottenuto sommando gli elementi delle colonne della matrice B usando l'appropriata funzione di Numpy."
   ]
  },
  {
   "cell_type": "code",
   "execution_count": 18,
   "id": "4ac1895f-6e94-458c-8e36-1fc21548d007",
   "metadata": {
    "tags": []
   },
   "outputs": [
    {
     "name": "stdout",
     "output_type": "stream",
     "text": [
      "[23 20 24 20 21]\n"
     ]
    }
   ],
   "source": [
    "s0 = np.sum(B , axis=0)\n",
    "print(s0)"
   ]
  },
  {
   "cell_type": "markdown",
   "id": "5715d0db-b005-4256-86a0-4a94a46fdd96",
   "metadata": {},
   "source": [
    "**Esercizio 22** \n",
    "\n",
    "Somma tutti gli elementi di B usando l'appropriata funzione di Numpy."
   ]
  },
  {
   "cell_type": "code",
   "execution_count": 27,
   "id": "48bf9f88-2060-4918-bd9e-2490baafa5ae",
   "metadata": {
    "tags": []
   },
   "outputs": [
    {
     "name": "stdout",
     "output_type": "stream",
     "text": [
      "85\n"
     ]
    }
   ],
   "source": [
    "s3 = np.sum(B)\n",
    "print(s3)"
   ]
  },
  {
   "cell_type": "markdown",
   "id": "337c76cc-d82b-4bbb-a57c-52080a6aa9cb",
   "metadata": {},
   "source": [
    "**Esercizio 23**\n",
    "\n",
    "Calcolare il minimo degli elementi di B, tra le righe, tra le colonne, il minimo di tutta la matrice B"
   ]
  },
  {
   "cell_type": "code",
   "execution_count": 29,
   "id": "d989eba7-48e9-4417-8a62-9c949e077858",
   "metadata": {
    "tags": []
   },
   "outputs": [
    {
     "name": "stdout",
     "output_type": "stream",
     "text": [
      "Minimo rispetto righe:  [2 2 1 1 2]\n",
      "Minimo rispetto colonne:  [1 1 1 3 2]\n",
      "Minimo rispetto a tutto B:  1\n"
     ]
    }
   ],
   "source": [
    "min0 = np.min(B, axis=0)\n",
    "min1 = np.min(B, axis=1)\n",
    "min3 = np.min(B)\n",
    "print(\"Minimo rispetto righe: \", min0)\n",
    "print(\"Minimo rispetto colonne: \", min1)\n",
    "print(\"Minimo rispetto a tutto B: \", min3)"
   ]
  },
  {
   "cell_type": "markdown",
   "id": "30bc84d9-f2ff-42aa-95ee-b10d69e50762",
   "metadata": {},
   "source": [
    "**Esercizio 24**\n",
    "\n",
    "Calcola e memorizza in un vettore la somma degli elementi di ogni colonna di $ |B |$. Calcola successivamente il massimo di questo vettore.\n",
    "$maxsc= \\max_{j=1,n} \\sum_{i} |b_{ij}|$"
   ]
  },
  {
   "cell_type": "code",
   "execution_count": 30,
   "id": "3b44a353-1027-4dd0-8880-9b0c40a8f378",
   "metadata": {
    "tags": []
   },
   "outputs": [
    {
     "name": "stdout",
     "output_type": "stream",
     "text": [
      "20\n"
     ]
    }
   ],
   "source": [
    "ris = np.max(np.sum(B, axis=1))\n",
    "print(ris)"
   ]
  },
  {
   "cell_type": "markdown",
   "id": "7763e180-a6f1-41d3-9af7-4fb92bacd72d",
   "metadata": {},
   "source": [
    "**Esercizio 25**\n",
    "Calcola, memorizzando in un vettore, la somma degli elementi di ogni riga  di $ |B |$. Calcola successivamente il massimo di questo vettore.\n",
    "$maxsr= \\max_{i=1,n} \\sum_{j} |b_{ij}|$"
   ]
  },
  {
   "cell_type": "code",
   "execution_count": 31,
   "id": "90506eb9-4ee9-4ba4-b378-345d0fc5d602",
   "metadata": {
    "tags": []
   },
   "outputs": [
    {
     "name": "stdout",
     "output_type": "stream",
     "text": [
      "24\n"
     ]
    }
   ],
   "source": [
    "ris2 = np.max(np.sum(B, axis=0))\n",
    "print(ris2)"
   ]
  },
  {
   "cell_type": "markdown",
   "id": "89a136bb-2e23-4fca-9717-d32434f5f5ce",
   "metadata": {},
   "source": [
    "**Esercizio 26**\n",
    "\n",
    "Effettua nella matrice B lo scambio tra la  riga 2 e  la riga 3"
   ]
  },
  {
   "cell_type": "code",
   "execution_count": 42,
   "id": "baf80eda-44a8-4e6c-8828-d6901d553887",
   "metadata": {
    "tags": []
   },
   "outputs": [
    {
     "name": "stdout",
     "output_type": "stream",
     "text": [
      "[[4 3 2 6 3]\n",
      " [1 1 4 1 3]\n",
      " [4 3 4 2 5]\n",
      " [4 1 3 1 1]\n",
      " [6 2 3 2 1]]\n",
      "\n",
      "\n",
      "[[4 3 2 6 3]\n",
      " [4 3 4 2 5]\n",
      " [1 1 4 1 3]\n",
      " [4 1 3 1 1]\n",
      " [6 2 3 2 1]]\n"
     ]
    }
   ],
   "source": [
    "print(B)\n",
    "tmp = np.array(B[1,:])\n",
    "print(\"\\n\")\n",
    "B[1,:] = np.array(B[2,:])\n",
    "B[2,:] = tmp\n",
    "print(B)"
   ]
  },
  {
   "cell_type": "markdown",
   "id": "5a00eaef-f14c-49f9-b9d1-c8ad90627935",
   "metadata": {},
   "source": [
    "**Esercizio 27**\n",
    "\n",
    "Calcola il valore massimo della colonna 0-esima della matrice B e l'indice di riga a cui appartiene"
   ]
  },
  {
   "cell_type": "code",
   "execution_count": 49,
   "id": "58c4e730-9d86-4375-b24b-542ea32c6e1e",
   "metadata": {
    "tags": []
   },
   "outputs": [
    {
     "name": "stdout",
     "output_type": "stream",
     "text": [
      "6\n",
      "[[4]]\n"
     ]
    }
   ],
   "source": [
    "m = np.max(B[:,0])\n",
    "print(m)\n",
    "print(np.argwhere(B[:,0] == m))"
   ]
  },
  {
   "cell_type": "markdown",
   "id": "12be327e-41a9-4700-82b2-f78709585ce3",
   "metadata": {},
   "source": [
    "**Esercizio 28**   \n",
    "\n",
    "\n",
    "Scrivi una funzione border(m,n,visualizza=False) che:\n",
    "-      crea un array 2D di shape(m,n) che abbia tutti valori nulli\n",
    "-     imposta ad 1  i valori degli elementi sul bordo dell'array (prima ed ultima riga, prima e l'ultima colonna)\n",
    "-      Preveda un argomento di default che se impostato a True visualizza la matrice"
   ]
  },
  {
   "cell_type": "code",
   "execution_count": 87,
   "id": "1aa55749-c0a0-43e1-b397-fe5706f6f2db",
   "metadata": {
    "tags": []
   },
   "outputs": [
    {
     "name": "stdout",
     "output_type": "stream",
     "text": [
      "[[1 1 1 1 1 1 1 1 1 1]\n",
      " [1 0 0 0 0 0 0 0 0 1]\n",
      " [1 1 1 1 1 1 1 1 1 1]]\n"
     ]
    }
   ],
   "source": [
    "def border(m, n, visualiza=False):\n",
    "    arr = np.zeros((m,n), dtype=int)\n",
    "    row_one = np.ones((1,n), dtype=int)\n",
    "    col_one = np.ones((1,m), dtype=int)\n",
    "    # primo modo\n",
    "    arr[0,:] = row_one\n",
    "    arr[m-1,:] = row_one\n",
    "    #print(arr)\n",
    "    arr[:,n-1] = col_one\n",
    "    arr[:,0] = col_one\n",
    "    \n",
    "    # secondo modo\n",
    "    #for i in range(n):\n",
    "        #arr[i,0] = 1\n",
    "        #arr[i,n-1] = 1\n",
    "    #arr[:,n-1] = col_one\n",
    "    #print(np.ones((1,m), dtype=int))\n",
    "    print(arr)\n",
    "\n",
    "border(3,10)"
   ]
  },
  {
   "cell_type": "markdown",
   "id": "20e88028-91cf-4f99-90b9-5d2f8148b3a9",
   "metadata": {},
   "source": [
    "**Esercizio 29**\n",
    "\n",
    "Scrivi una funzione `visualizza(f,a,b)`che prende in input una lambda function f, gli estremi dell'intervallo [a,b] su cui è definita e la visualizzi in una finestra grafica\n",
    "\n",
    "Chaima la funzione passandogli la funzione f(x)=sin(2*$\\pi$*x), [a,b]=[0,2*$\\pi$]"
   ]
  },
  {
   "cell_type": "markdown",
   "id": "c4e0b8d0-b590-4554-9954-7333715b3c63",
   "metadata": {},
   "source": [
    "**Esercizio 30**\n",
    "\n",
    "Scrivi una funzione `visualizza2(f,a,b,f2,a2,b2)`che prende in input una lambda function f e gli estremi dell'intervallo [a,b]  su cui è definita, una lambda function f2 e gli estremi dell'intervallo su cui è definita [a2,b2] e le visualizzi sulla stessa finestra grafica.\n",
    "\n",
    "Chaima la funzione passandogli  una funzione f(x) quadratica ed una funzione f2(x) exponenziale ed [a,b]=[0,2]"
   ]
  },
  {
   "cell_type": "code",
   "execution_count": null,
   "id": "e67b133d-b095-44ad-a8c5-bcda330bacca",
   "metadata": {},
   "outputs": [],
   "source": []
  }
 ],
 "metadata": {
  "kernelspec": {
   "display_name": "Python 3 (ipykernel)",
   "language": "python",
   "name": "python3"
  },
  "language_info": {
   "codemirror_mode": {
    "name": "ipython",
    "version": 3
   },
   "file_extension": ".py",
   "mimetype": "text/x-python",
   "name": "python",
   "nbconvert_exporter": "python",
   "pygments_lexer": "ipython3",
   "version": "3.11.5"
  }
 },
 "nbformat": 4,
 "nbformat_minor": 5
}
