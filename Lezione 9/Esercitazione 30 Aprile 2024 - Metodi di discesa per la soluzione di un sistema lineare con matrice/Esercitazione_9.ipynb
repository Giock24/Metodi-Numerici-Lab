{
 "cells": [
  {
   "cell_type": "markdown",
   "id": "563c6e9f-4262-4dff-889f-d8bbeba42a00",
   "metadata": {
    "tags": []
   },
   "source": [
    "# Esercitazione 9\n",
    "\n",
    "**29 Aprile 2024**\n",
    "\n",
    "*Gradiente e gradiente coniugato*"
   ]
  },
  {
   "cell_type": "markdown",
   "id": "af3ab26b-9626-4782-a629-1851ad883687",
   "metadata": {
    "tags": []
   },
   "source": [
    "## Esercizio 1\n",
    "Implementare la funzione **steepestdescent(A,b,x0,itmax,tol)** che implementa il metodo di discesa più ripida del gradiente per risolvere il sistema lineare Ax=b, con A matrice simmetrica e definita positiva. La funzione prende in input:\n",
    "- A: matrice dei coefficienti\n",
    "- b: termine noto\n",
    "- x0: vettore iniziale della stessa dimensione di b\n",
    "- itmax: iterazioni massime oltre le quali il metodo si ferma\n",
    "- toll: tolleranza per il criterio di arresto\n",
    "\n",
    "e restituisce in output:\n",
    "- il vettore soluzione\n",
    "- un vettore di tante componenti quanto il numero di iterazioni effettuate, contenente $ \\frac{||r^{(k)}||_2} {||b||_2}$ iterazione per iterazione\n",
    "\n",
    "- un array contenente le soluzioni ad ogni iterazione\n",
    "- il numero di iterazioni impiegate per calcolare la soluzione con la tolleranza richiesta\n",
    "\n",
    "Usare come criterio di arresto $ \\frac{||r^{(k)}||_2} {||b||_2} < toll$"
   ]
  },
  {
   "cell_type": "code",
   "execution_count": 2,
   "id": "92c1cf65-9954-4a97-85c8-5dfd733c60f6",
   "metadata": {
    "tags": []
   },
   "outputs": [],
   "source": [
    "import numpy as np\n",
    "import matplotlib.pyplot as plt\n",
    "import scipy"
   ]
  },
  {
   "cell_type": "code",
   "execution_count": 3,
   "id": "9d803103-6ab8-48f0-9c90-2104a4caee8e",
   "metadata": {
    "tags": []
   },
   "outputs": [],
   "source": [
    "def steepdescent(A, b, x0, itmax, tol):\n",
    "    all_xk = []\n",
    "    vett = []\n",
    "    errore = 1000\n",
    "    \n",
    "    it = 0\n",
    "    '''\n",
    "    p0 = -A@x0+b\n",
    "    r0 = -p0.copy()\n",
    "    a0 = (r0@r0.T)/(A@r0@r0.T) # a0 è uno scalare\n",
    "    x1 = x0 + a0*r0\n",
    "    #r1 = r0 + a0*A@p0\n",
    "    all_xk.append(x1)\n",
    "    \n",
    "    x0 = x1\n",
    "    r0 = r1\n",
    "    '''\n",
    "    \n",
    "    while (it < itmax and errore >= tol):\n",
    "\n",
    "        p0 = -A@x0+b\n",
    "        r0 = -p0.copy()\n",
    "        a0 = (r0.T@r0)/((A@r0).T@r0) # a0 è uno scalare\n",
    "        x1 = x0 + a0*p0\n",
    "        #r1 = r0 + a0*A@p0\n",
    "        all_xk.append(x1)\n",
    "        \n",
    "        errore = np.linalg.norm(r0, 2)/np.linalg.norm(b, 2)\n",
    "        vett.append(errore)\n",
    "        \n",
    "        x0 = x1\n",
    "        \n",
    "        it += 1\n",
    "        \n",
    "    \n",
    "    return x1, vett, all_xk, it"
   ]
  },
  {
   "cell_type": "code",
   "execution_count": 10,
   "id": "bca8beae-82d7-4a9d-a666-dd925f374f6e",
   "metadata": {
    "tags": []
   },
   "outputs": [],
   "source": [
    "def steepestdescent2(A,b,x0,itmax,tol):\n",
    " \n",
    "    n,m=A.shape\n",
    "    if n!=m:\n",
    "        print(\"Matrice non quadrata\")\n",
    "        return [],[]\n",
    "    \n",
    "    \n",
    "   # inizializzare le variabili necessarie\n",
    "    x = x0\n",
    "\n",
    "     \n",
    "    r = A@x-b\n",
    "    p = -r\n",
    "    it = 0\n",
    "    nb=np.linalg.norm(b)\n",
    "    errore=np.linalg.norm(r)/nb\n",
    "    vec_sol=[]\n",
    "    vec_sol.append(x)\n",
    "    vet_r=[]\n",
    "    vet_r.append(errore)\n",
    "     \n",
    "    # utilizzare il metodo del gradiente per trovare la soluzione\n",
    "    while it < itmax and errore > tol:\n",
    "        it=it+1\n",
    "        Ap=A@p\n",
    "       \n",
    "        alpha = (r.T@r)/((A@r).T@r)\n",
    "        x = x+alpha*p\n",
    "         \n",
    "        vec_sol.append(x)\n",
    "        r=r+alpha*Ap\n",
    "        errore=np.linalg.norm(r)/nb\n",
    "        vet_r.append(errore)\n",
    "        p = -A@x + b\n",
    "        \n",
    "     \n",
    "    return x,vet_r,vec_sol,it"
   ]
  },
  {
   "cell_type": "markdown",
   "id": "87931a73-97a8-4026-b57e-7e842f27bbbc",
   "metadata": {},
   "source": [
    "## Esercizio 1-Bis\n",
    "Implementare la funzione **steepestdescent_CL(A,b,x0,itmax,X,Y,Z,tol)** da utilizzare solo nel caso n=2 che visualizza anche le curve di livello e l'iterato x_k.\n",
    "\n",
    "N.B: f(x) è il funzionale quadratico da minimizzare (f(x)= $ \\frac{1} {2}$*<Ax,x>-<b,x>) ,\n",
    "X,Y sono la discretizzazione del piano su cui costruire Z (ottenuta valutando f sui punti della griglia)"
   ]
  },
  {
   "cell_type": "code",
   "execution_count": 6,
   "id": "e4c848af-8b30-4973-a8b5-9179d213b601",
   "metadata": {
    "tags": []
   },
   "outputs": [],
   "source": [
    "def f (x, A, b):\n",
    "    AxTx = (A@x).T@x\n",
    "    bTx = b.T@x\n",
    "    \n",
    "    return 0.5*AxTx-bTx"
   ]
  },
  {
   "cell_type": "code",
   "execution_count": 40,
   "id": "1dde9193-e90d-412b-a2a0-e424c257c9ad",
   "metadata": {
    "tags": []
   },
   "outputs": [],
   "source": [
    "def steepestdescent_CL(A,b,x0,itmax,X,Y,Z,tol):\n",
    "    all_xk = []\n",
    "    vett = []\n",
    "    errore = 1000\n",
    "    \n",
    "    it = 0\n",
    "    '''\n",
    "    p0 = -A@x0+b\n",
    "    r0 = -p0.copy()\n",
    "    a0 = (r0@r0.T)/(A@r0@r0.T) # a0 è uno scalare\n",
    "    x1 = x0 + a0*r0\n",
    "    #r1 = r0 + a0*A@p0\n",
    "    all_xk.append(x1)\n",
    "    \n",
    "    x0 = x1\n",
    "    r0 = r1\n",
    "    '''\n",
    "    \n",
    "    \n",
    "    while (it < itmax and errore >= tol):\n",
    "\n",
    "        p0 = -A@x0+b\n",
    "        r0 = -p0.copy()\n",
    "        a0 = (r0.T@r0)/((A@r0).T@r0) # a0 è uno scalare\n",
    "        x1 = x0 + a0*p0\n",
    "        # disegno la curva di livello\n",
    "        # levels vuole che sia in una solo quadra, quindi viene fatto .flatten()\n",
    "        plt.contour(X, Y, Z, levels=f(x1,A,b).flatten())\n",
    "         # disegniamo il punto\n",
    "        plt.plot(x1[0],x1[1], 'ro')\n",
    "        #r1 = r0 + a0*A@p0\n",
    "        all_xk.append(x1)\n",
    "        \n",
    "        errore = np.linalg.norm(r0, 2)/np.linalg.norm(b, 2)\n",
    "        vett.append(errore)\n",
    "        \n",
    "        x0 = x1\n",
    "        \n",
    "        it += 1\n",
    "        \n",
    "    plt.show()\n",
    "    return x1, vett, all_xk, it"
   ]
  },
  {
   "cell_type": "markdown",
   "id": "725a79a7-8e11-4151-a8bd-fce7bc91f4ab",
   "metadata": {
    "tags": []
   },
   "source": [
    "## Esercizio 2\n",
    "Implementare la funzione **conjugate_gradient(A,b,x0,itmax,tol)** che implementa il metodo del gradiente coniugato per risolvere il sistema lineare Ax=b, con A matrice simmetrica e definita positiva. La funzione prende in input:\n",
    "- A: matrice dei coefficienti\n",
    "- b: termine noto\n",
    "- x0: vettore iniziale della stessa dimensione di b\n",
    "- itmax: iterazioni massime oltre le quali il metodo si ferma\n",
    "- toll: tolleranza per il criterio di arresto\n",
    "\n",
    "e restituisce in output:\n",
    "- il vettore soluzione\n",
    "- un vettore di tante componenti quanto il numero di iterazioni effettuate, contenente $ \\frac{||r^{(k)}||_2} {||b||_2}$ iterazione per iterazione\n",
    "- un array contenente le soluzioni ad ogni iterazione\n",
    "- il numero di iterazioni impiegate per calcolare la soluzione con la tolleranza richiesta\n",
    "\n",
    "Usare come criterio di arresto $ \\frac{||r^{(k)}||_2} {||b||_2} < toll$"
   ]
  },
  {
   "cell_type": "code",
   "execution_count": 2,
   "id": "ac73fc96-6ac5-4f86-8bfa-7a7ef79b9c6e",
   "metadata": {
    "tags": []
   },
   "outputs": [],
   "source": [
    "def conjugate_gradient(A, b, x0, itmax, tol):\n",
    "    all_xk = []\n",
    "    vett = []\n",
    "    errore = 1000\n",
    "    \n",
    "    r0 = A@x0-b\n",
    "    p0 = -r0\n",
    "    \n",
    "    it = 0\n",
    "    \n",
    "    while (it < itmax and errore >= tol):\n",
    "\n",
    "        a0 = (r0.T@r0)/((A@p0).T@p0) # a0 è uno scalare\n",
    "        x1 = x0 + a0*p0\n",
    "        r1 = r0 + a0*A@p0\n",
    "        all_xk.append(x1)\n",
    "        \n",
    "        errore = np.linalg.norm(r1, 2)/np.linalg.norm(b, 2)\n",
    "        vett.append(errore)\n",
    "        \n",
    "        gamma = (r1.T@r1)/(r0.T@r0)\n",
    "        p1 = -r1 + gamma*p0\n",
    "        \n",
    "        x0 = x1\n",
    "        r0 = r1\n",
    "        p0 = p1\n",
    "        \n",
    "        it += 1\n",
    "        \n",
    "    return x1, vett, all_xk, it"
   ]
  },
  {
   "cell_type": "markdown",
   "id": "57266d62-eabb-4e23-8eef-b97eaf054282",
   "metadata": {},
   "source": [
    "## Esercizio 2-Bis\n",
    "Implementare la funzione **conjugate_gradient_CL(A,b,x0,itmax,X,Y,Z,tol)** da utilizzare solo nel caso n=2 che visualizza anche le curve di livello e l'iterato x_k"
   ]
  },
  {
   "cell_type": "code",
   "execution_count": 51,
   "id": "b867ec42-be2c-42ff-a58a-abda4240c5cc",
   "metadata": {
    "tags": []
   },
   "outputs": [],
   "source": [
    "def conjugate_gradient_CL(A,b,x0,itmax,X,Y,Z,tol):\n",
    "    all_xk = []\n",
    "    vett = []\n",
    "    errore = 1000\n",
    "    \n",
    "    r0 = A@x0-b\n",
    "    p0 = -r0\n",
    "    plt.contour(X, Y, Z, levels=f(x0,A,b).flatten())\n",
    "    # disegniamo il punto\n",
    "    plt.plot(x0[0],x0[1], 'ro')\n",
    "    \n",
    "    it = 0\n",
    "    \n",
    "    while (it < itmax and errore >= tol):\n",
    "\n",
    "        a0 = (r0.T@r0)/((A@p0).T@p0) # a0 è uno scalare\n",
    "        x1 = x0 + a0*p0\n",
    "        r1 = r0 + a0*A@p0\n",
    "        plt.contour(X, Y, Z, levels=f(x1,A,b).flatten())\n",
    "        # disegniamo il punto\n",
    "        plt.plot(x1[0],x1[1], 'ro')\n",
    "        all_xk.append(x1)\n",
    "        \n",
    "        errore = np.linalg.norm(r1, 2)/np.linalg.norm(b, 2)\n",
    "        vett.append(errore)\n",
    "        \n",
    "        gamma = (r1.T@r1)/(r0.T@r0)\n",
    "        p1 = -r1 + gamma*p0\n",
    "        \n",
    "        x0 = x1\n",
    "        r0 = r1\n",
    "        p0 = p1\n",
    "        \n",
    "        it += 1\n",
    "        \n",
    "    plt.show()\n",
    "    return x1, vett, all_xk, it"
   ]
  },
  {
   "cell_type": "code",
   "execution_count": 11,
   "id": "90b6892d-f037-4ff4-abd6-8f28c806b344",
   "metadata": {
    "tags": []
   },
   "outputs": [
    {
     "name": "stdout",
     "output_type": "stream",
     "text": [
      "(array([-2.,  6.]), [1.0, 0.3746556473829201, 0.579013273228149, 0.21693059272459583, 0.33525637057437546, 0.12560569255679077, 0.19411788849685832, 0.07272736318339595, 0.11239683401070331, 0.04211010861007015, 0.06507925876101801, 0.024382311822309544, 0.037681754634478364, 0.014117682177105066, 0.021818236091889362, 0.00817432536776066, 0.012633048295629662, 0.004733042887619164, 0.00731470264450243, 0.0027404946546895586, 0.004235309920883688, 0.0015867827802762738, 0.0024523006604270986, 0.00091876829150953, 0.0014199146323330793, 0.0005319790358051036, 0.0008221494189716972, 0.00030802292280984744, 0.00047603542616089583, 0.00017834936076562916, 0.0002756308302737288, 0.00010326664715512242, 0.00015959390923946681, 5.9792759384830326e-05, 9.240699177612074e-05, 3.462080132688436e-05, 5.350487477790826e-05, 2.004590349778442e-05, 3.0980032678892346e-05, 1.1606844198717754e-05, 1.793785012579129e-05, 6.720516850751255e-06, 1.0386253315348812e-05, 3.891268459519966e-06, 6.013778528815776e-06, 2.2530960872406314e-06, 3.4820575901675035e-06, 1.3045725400547364e-06, 2.0161575621804535e-06, 7.553648165279154e-07, 1.1673819891027007e-06, 4.3736625493100586e-07, 6.75929666536282e-07, 2.5324086701893646e-07, 3.9137224873386235e-07, 1.4662982364342963e-07, 2.2660972723230782e-07, 8.490061406211303e-08, 1.3121003971133129e-07, 4.915858263543891e-08, 7.597235421793279e-08, 2.846347229457362e-08, 4.398900220774926e-08, 1.6480728608383942e-08, 2.5470216483339722e-08, 9.542560736177598e-09, 1.4747593715330885e-08, 5.525269651021833e-09, 8.539052565308301e-09, 3.1992047385226863e-09, 4.944225625120182e-09, 1.852381814333589e-09, 2.8627725664287384e-09, 1.0725530815795424e-09, 1.6575824723648614e-09, 6.210223229972472e-10, 9.597620042885793e-10, 3.5957989973118e-10, 5.557143471679055e-10, 2.082013260984459e-10, 3.2176615843350404e-10, 1.205509621666764e-10, 1.863062549763699e-10, 6.980062056890801e-11], [array([0.90358127, 1.12947658]), array([-0.84197345,  2.52592036]), array([-0.31878791,  3.17990229]), array([-1.32948726,  3.98846178]), array([-1.02655588,  4.367126  ]), array([-1.61176422,  4.83529267]), array([-1.43636294,  5.05454428]), array([-1.77520633,  5.325619  ]), array([-1.67364666,  5.45256859]), array([-1.86984148,  5.60952445]), array([-1.81103708,  5.68302995]), array([-1.92463649,  5.77390947]), array([-1.89058796,  5.81647013]), array([-1.95636353,  5.86909058]), array([-1.93664898,  5.89373377]), array([-1.9747339 ,  5.92420171]), array([-1.96331892,  5.93847044]), array([-1.98537059,  5.95611178]), array([-1.97876117,  5.96437357]), array([-1.99152938,  5.97458814]), array([-1.98770243,  5.97937182]), array([-1.9950954,  5.9852862]), array([-1.99287955,  5.98805601]), array([-1.99716017,  5.99148051]), array([-1.99587716,  5.99308427]), array([-1.9983557,  5.9950671]), array([-1.99761282,  5.9959957 ]), array([-1.99904793,  5.99714379]), array([-1.99861779,  5.99768146]), array([-1.99944874,  5.99834622]), array([-1.99919968,  5.99865753]), array([-1.99968081,  5.99904244]), array([-1.99953661,  5.99922269]), array([-1.99981519,  5.99944556]), array([-1.99973169,  5.99954993]), array([-1.99989299,  5.99967897]), array([-1.99984464,  5.9997394 ]), array([-1.99993804,  5.99981412]), array([-1.99991005,  5.99984911]), array([-1.99996412,  5.99989237]), array([-1.99994792,  5.99991263]), array([-1.99997923,  5.99993768]), array([-1.99996984,  5.99994941]), array([-1.99998797,  5.99996392]), array([-1.99998254,  5.99997071]), array([-1.99999304,  5.99997911]), array([-1.99998989,  5.99998304]), array([-1.99999597,  5.9999879 ]), array([-1.99999415,  5.99999018]), array([-1.99999767,  5.999993  ]), array([-1.99999661,  5.99999431]), array([-1.99999865,  5.99999594]), array([-1.99999804,  5.99999671]), array([-1.99999922,  5.99999765]), array([-1.99999886,  5.99999809]), array([-1.99999955,  5.99999864]), array([-1.99999934,  5.9999989 ]), array([-1.99999974,  5.99999921]), array([-1.99999962,  5.99999936]), array([-1.99999985,  5.99999954]), array([-1.99999978,  5.99999963]), array([-1.99999991,  5.99999974]), array([-1.99999987,  5.99999979]), array([-1.99999995,  5.99999985]), array([-1.99999993,  5.99999988]), array([-1.99999997,  5.99999991]), array([-1.99999996,  5.99999993]), array([-1.99999998,  5.99999995]), array([-1.99999998,  5.99999996]), array([-1.99999999,  5.99999997]), array([-1.99999999,  5.99999998]), array([-1.99999999,  5.99999998]), array([-1.99999999,  5.99999999]), array([-2.        ,  5.99999999]), array([-2.        ,  5.99999999]), array([-2.        ,  5.99999999]), array([-2.,  6.]), array([-2.,  6.]), array([-2.,  6.]), array([-2.,  6.]), array([-2.,  6.]), array([-2.,  6.]), array([-2.,  6.]), array([-2.,  6.])], 84)\n",
      "Metodo del Gradiente RIFATTO\n",
      "(array([-2.,  6.]), [1.0, 0.3746556473829201, 0.5790132732281491, 0.216930592724596, 0.335256370574376, 0.12560569255679097, 0.19411788849685943, 0.07272736318339602, 0.1123968340107034, 0.04211010861007028, 0.06507925876101807, 0.024382311822309523, 0.03768175463447798, 0.014117682177104905, 0.021818236091887773, 0.00817432536776066, 0.012633048295628248, 0.004733042887619787, 0.007314702644501054, 0.0027404946546907435, 0.00423530992088359, 0.0015867827802775983, 0.002452300660427994, 0.0009187682915113002, 0.001419914632334788, 0.0005319790358067017, 0.0008221494189733341, 0.0003080229228115019, 0.00047603542616296335, 0.00017834936076661033, 0.0002756308302751281, 0.00010326664715604633, 0.00015959390923881204, 5.9792759385879157e-05, 9.240699177411917e-05, 3.46208013287328e-05, 5.350487477527966e-05, 2.004590350128313e-05, 3.0980032676573e-05, 1.1606844204018584e-05, 1.7937850124739045e-05, 6.720516857829115e-06, 1.0386253317261014e-05, 3.891268467156835e-06, 6.0137785322270145e-06, 2.253096095541771e-06, 3.4820575956044767e-06, 1.3045725482056222e-06, 2.016157568734398e-06, 7.553648241257991e-07, 1.1673819962015224e-06, 4.373662617679207e-07, 6.759296722587492e-07, 2.5324087295049934e-07, 3.913722547706472e-07, 1.4662982869093448e-07, 2.2660973061443438e-07, 8.490061889747731e-08, 1.312100419348351e-07, 4.915858736758619e-08, 7.597235646378373e-08, 2.846347701793853e-08, 4.398900252459401e-08, 1.6480733899352797e-08, 2.5470216562142632e-08, 9.542567089297855e-09, 1.4747594803564108e-08, 5.525276794692836e-09, 8.539053997309327e-09, 3.199212697249244e-09, 4.944226460374875e-09, 1.85239105386328e-09, 2.8627746139809313e-09, 1.072563983344083e-09, 1.657587908177454e-09, 6.210335167342825e-10, 9.597689736888722e-10, 3.595910484374553e-10, 5.557215271630988e-10, 2.082121069236534e-10, 3.2177283544026484e-10, 1.2056169269660815e-10, 1.8631254809176232e-10, 6.981095422540545e-11], [[0, 0], array([0.90358127, 1.12947658]), array([-0.84197345,  2.52592036]), array([-0.31878791,  3.17990229]), array([-1.32948726,  3.98846178]), array([-1.02655588,  4.367126  ]), array([-1.61176422,  4.83529267]), array([-1.43636294,  5.05454428]), array([-1.77520633,  5.325619  ]), array([-1.67364666,  5.45256859]), array([-1.86984148,  5.60952445]), array([-1.81103708,  5.68302995]), array([-1.92463649,  5.77390947]), array([-1.89058796,  5.81647013]), array([-1.95636353,  5.86909058]), array([-1.93664898,  5.89373377]), array([-1.9747339 ,  5.92420171]), array([-1.96331892,  5.93847044]), array([-1.98537059,  5.95611178]), array([-1.97876117,  5.96437357]), array([-1.99152938,  5.97458814]), array([-1.98770243,  5.97937182]), array([-1.9950954,  5.9852862]), array([-1.99287955,  5.98805601]), array([-1.99716017,  5.99148051]), array([-1.99587716,  5.99308427]), array([-1.9983557,  5.9950671]), array([-1.99761282,  5.9959957 ]), array([-1.99904793,  5.99714379]), array([-1.99861779,  5.99768146]), array([-1.99944874,  5.99834622]), array([-1.99919968,  5.99865753]), array([-1.99968081,  5.99904244]), array([-1.99953661,  5.99922269]), array([-1.99981519,  5.99944556]), array([-1.99973169,  5.99954993]), array([-1.99989299,  5.99967897]), array([-1.99984464,  5.9997394 ]), array([-1.99993804,  5.99981412]), array([-1.99991005,  5.99984911]), array([-1.99996412,  5.99989237]), array([-1.99994792,  5.99991263]), array([-1.99997923,  5.99993768]), array([-1.99996984,  5.99994941]), array([-1.99998797,  5.99996392]), array([-1.99998254,  5.99997071]), array([-1.99999304,  5.99997911]), array([-1.99998989,  5.99998304]), array([-1.99999597,  5.9999879 ]), array([-1.99999415,  5.99999018]), array([-1.99999767,  5.999993  ]), array([-1.99999661,  5.99999431]), array([-1.99999865,  5.99999594]), array([-1.99999804,  5.99999671]), array([-1.99999922,  5.99999765]), array([-1.99999886,  5.99999809]), array([-1.99999955,  5.99999864]), array([-1.99999934,  5.9999989 ]), array([-1.99999974,  5.99999921]), array([-1.99999962,  5.99999936]), array([-1.99999985,  5.99999954]), array([-1.99999978,  5.99999963]), array([-1.99999991,  5.99999974]), array([-1.99999987,  5.99999979]), array([-1.99999995,  5.99999985]), array([-1.99999993,  5.99999988]), array([-1.99999997,  5.99999991]), array([-1.99999996,  5.99999993]), array([-1.99999998,  5.99999995]), array([-1.99999998,  5.99999996]), array([-1.99999999,  5.99999997]), array([-1.99999999,  5.99999998]), array([-1.99999999,  5.99999998]), array([-1.99999999,  5.99999999]), array([-2.        ,  5.99999999]), array([-2.        ,  5.99999999]), array([-2.        ,  5.99999999]), array([-2.,  6.]), array([-2.,  6.]), array([-2.,  6.]), array([-2.,  6.]), array([-2.,  6.]), array([-2.,  6.]), array([-2.,  6.])], 83)\n"
     ]
    }
   ],
   "source": [
    "# dati di testing\n",
    "A=np.array([[8,4],[4,3]])\n",
    "b=np.array([8,10])\n",
    "x0=[0,0]\n",
    "itmax=200\n",
    "tol=1e-10\n",
    "\n",
    "x = np.linspace(-7.0,3.0,100)\n",
    "y = np.linspace(-5.0,14.0,100)\n",
    "X, Y = np.meshgrid(x,y)\n",
    "Z = np.zeros_like(X)\n",
    "\n",
    "# in questi cicli creo il grafico calcolando gli Z\n",
    "for i in range(len(y)):\n",
    "    # di solito si deve evitare il doppio ciclo\n",
    "    for j in range(len(x)):\n",
    "        x_coor = X[i][j]\n",
    "        y_coor = Y[i][j]\n",
    "        Z[i][j] = f(np.array([[x_coor],[y_coor]]), A, b)\n",
    "\n",
    "print(steepdescent(A, b, x0, itmax, tol))\n",
    "print(\"Metodo del Gradiente RIFATTO\")\n",
    "print(steepestdescent2(A,b,x0,itmax,tol))\n",
    "\n",
    "#print(steepestdescent_CL(A,b,x0,itmax,X,Y,Z,tol))\n",
    "\n",
    "#print(conjugate_gradient(A, b, x0, itmax, tol))\n",
    "\n",
    "#print(conjugate_gradient_CL(A,b,x0,itmax,X,Y,Z,tol))\n"
   ]
  },
  {
   "cell_type": "markdown",
   "id": "d79f8a0e-ca9c-4eab-a23d-73b13a1eb892",
   "metadata": {},
   "source": [
    "## Test didattici per il caso n=2, visualizzando le curve di livello"
   ]
  },
  {
   "cell_type": "markdown",
   "id": "b42c2a29-4b3e-41e4-b35b-e97dd98606d5",
   "metadata": {},
   "source": [
    "Risolvere il sistema lineare Ax=b, dove A=np.array([[8,4],[4,3]]) e b=np.array([8,10]), utilizzando\n",
    "il metodo del gradiente e del gradiente coniugato con la visualizzazione grafica delle curve di livello e della soluzione ad ogni iterazione. Si selezioni l'iterato iniziale x0=[0,0], itmax=200\n",
    "tol=1e-10. Si confrontino le iterazioni effettuate da ciascuno dei due metodi e si visualizzi  $ \\frac{||r^{(k)}||_2} {||b||_2}$ ad ogni iterazione."
   ]
  },
  {
   "cell_type": "markdown",
   "id": "1fa4e799-9317-4477-9ea3-d6bc7bef2ee1",
   "metadata": {
    "tags": []
   },
   "source": [
    "## Esercizio 3\n",
    "Scrivere una funzione creaPoisson(n) che preso in input l'ordine della matrice quadrata di Poisson la costruzione secondo la seguente formula:\n",
    "$$A =\n",
    "\\left [\n",
    "\\begin{array}{ccccccccccc}\n",
    "4 & -1 & 0 & -1 &0 &0 & 0& 0& \\cdots &   0 & 0\\\\\n",
    "-1 & 4 & -1 & 0  &-1 &0 & 0& 0& \\cdots &   0 & 0\\\\\n",
    "0 & -1 & 4 & -1  &0 &-1 & 0& 0& \\cdots &   0 & 0 \\\\\n",
    "-1 & 0 & -1 & 4  &-1 &0  & -1 & 0& \\cdots &   0 & 0\\\\\n",
    "0 & -1 & 0 & -1  & 4 &-1 & 0 & -1& \\cdots &   0 & 0\\\\\n",
    "0 & 0 & -1 & 0  & -1 &4 & -1 & 0&  -1 & 0 & 0 \\\\\n",
    "0 & 0 & 0 & \\ddots  & 0 &\\ddots & \\ddots & \\ddots& \\ddots & \\ddots & 0\\\\\n",
    "0 & 0 & 0 & 0  & -1 &0  & -1 & 4& -1 &   0& -1\\\\\n",
    "\\end{array}\n",
    " \\right ], \\qquad\n",
    "$$\n",
    "\n",
    "- Risolvere il sistema lineare Ax=b con matrice dei coefficienti A di Poisson con ordine che va da 10 a 100 con step 2,  e termine noto b scelto in maniera tale che il sistema abbia soluzione il vettore x con tutte le componenti  uguali ad 1, utilizzando  il metodo iterativo del gradiente e del gradiente coniugato  "
   ]
  },
  {
   "cell_type": "code",
   "execution_count": 62,
   "id": "907b2cbc-c6b2-4512-b369-e1d634281275",
   "metadata": {
    "tags": []
   },
   "outputs": [],
   "source": [
    "def creaPoisson(n):\n",
    "    all_four = np.diag(np.ones(n)*4)\n",
    "    one_up = np.eye(n, k=1)*-1\n",
    "    one_down = np.eye(n, k=-1)*-1\n",
    "    \n",
    "    fin_res = all_four + one_up + one_down\n",
    "    \n",
    "    if (n>=4):\n",
    "        d_one_up = np.eye(n, k=3)*-1\n",
    "        d_one_down = np.eye(n, k=-3)*-1\n",
    "        \n",
    "        fin_res = all_four + one_up + one_down + d_one_up + d_one_down\n",
    "    \n",
    "    \n",
    "    return fin_res"
   ]
  },
  {
   "cell_type": "code",
   "execution_count": 79,
   "id": "76a853d3-db9a-40cb-99a9-b436e29d2c72",
   "metadata": {
    "tags": []
   },
   "outputs": [
    {
     "name": "stdout",
     "output_type": "stream",
     "text": [
      "n =  10 soluzione gradiente = [[1.]\n",
      " [1.]\n",
      " [1.]\n",
      " [1.]\n",
      " [1.]\n",
      " [1.]\n",
      " [1.]\n",
      " [1.]\n",
      " [1.]\n",
      " [1.]]\n",
      "n =  10 soluzione gradiente coniugato = [[1.]\n",
      " [1.]\n",
      " [1.]\n",
      " [1.]\n",
      " [1.]\n",
      " [1.]\n",
      " [1.]\n",
      " [1.]\n",
      " [1.]\n",
      " [1.]]\n"
     ]
    }
   ],
   "source": [
    "#print(creaPoisson(10))\n",
    "\n",
    "itmax=200\n",
    "tol=1e-10\n",
    "\n",
    "for n in range(10, 10+2, 2):\n",
    "    A = creaPoisson(n)\n",
    "    b = np.sum(A,axis=1).reshape(A.shape[0],1)\n",
    "    x0 = np.zeros_like(b)\n",
    "    \n",
    "    x_G_0,vet_r_G_0,vec_sol_G,itG_0=steepdescent(A,b,x0,itmax,tol)\n",
    "    x_J_0,vet_r_J_0,vec_sol_J,itJ_0=conjugate_gradient(A,b,x0,itmax,tol)\n",
    "    print(\"n = \", n, \"soluzione gradiente =\", x_G_0)\n",
    "    print(\"n = \", n, \"soluzione gradiente coniugato =\", x_J_0)"
   ]
  },
  {
   "cell_type": "markdown",
   "id": "39a8e883-20ae-44d7-960b-7e0727f94298",
   "metadata": {},
   "source": [
    "## Esercizio 4\n",
    "Consideriamo il sistema lineare Ax=b  dov A è  la matrice di Hilbert di dimensione 5, costruita usando la funzione hilbert(n) di scipy.linalg (A=scipy.linalg.hilbert(5)) in modo tale che la soluzione esatta sia $x = (1, 1, . . . , 1)^T$ .\n",
    "Risolvere il sistema lineare usando sia il metodi del gradiente che il metodo del gradiente coniugato e confrontarne gli errori ad ogni iterazione."
   ]
  },
  {
   "cell_type": "code",
   "execution_count": 18,
   "id": "ecc5bfbc-0faa-4c17-9978-9ed32d7d9806",
   "metadata": {
    "tags": []
   },
   "outputs": [
    {
     "name": "stdout",
     "output_type": "stream",
     "text": [
      "[[1.00057987]\n",
      " [0.99493716]\n",
      " [1.00629286]\n",
      " [1.00657604]\n",
      " [0.99103314]]\n",
      "[[1.]\n",
      " [1.]\n",
      " [1.]\n",
      " [1.]\n",
      " [1.]]\n"
     ]
    },
    {
     "data": {
      "text/plain": [
       "[<matplotlib.lines.Line2D at 0x1f04f178410>]"
      ]
     },
     "execution_count": 18,
     "metadata": {},
     "output_type": "execute_result"
    },
    {
     "data": {
      "image/png": "[encoded data removed]",
      "text/plain": [
       "<Figure size 640x480 with 1 Axes>"
      ]
     },
     "metadata": {},
     "output_type": "display_data"
    }
   ],
   "source": [
    "A=scipy.linalg.hilbert(5)\n",
    "b=np.sum(A, axis=1).reshape(A.shape[0],1)\n",
    "x0=np.zeros_like(b)\n",
    "x1=np.ones_like(b)\n",
    "itmax=3000\n",
    "tol=1e-10\n",
    "\n",
    "xG, vettG, all_xkG, itG = steepdescent(A, b, x0, itmax, tol)\n",
    "print(xG)\n",
    "xC, vettC, all_xkC, itC = conjugate_gradient(A, b, x0, itmax, tol)\n",
    "print(xC)\n",
    "\n",
    "err_rel_grad = [ np.linalg.norm( x1 - all_xkG[i], 2)/np.linalg.norm(x1, 2) for i in range(len(all_xkG)) ]\n",
    "err_rel_con = [ np.linalg.norm( x1 - all_xkC[i], 2)/np.linalg.norm(x1, 2) for i in range(len(all_xkC)) ]\n",
    "\n",
    "plt.semilogy(range(itG),vettG)\n",
    "plt.semilogy(range(itC),vettC)"
   ]
  },
  {
   "cell_type": "markdown",
   "id": "a93dd8c4-27ea-41ea-b359-fe06d4f9d585",
   "metadata": {},
   "source": [
    "## Esercizio 5\n",
    "Importare il file creaG ed utilizzare le funzioni sottospecificate per creare, scelto $n$,  una matrice D di ordine $m=(n-2)^2$\n",
    "\n",
    "*import creaG*\n",
    "\n",
    "*G = creaG.numgrid(n)*\n",
    "\n",
    "*D = creaG.delsq(G).todense().getA()*\n",
    "\n",
    "Risolvere il sistema lineare Dx=b, con matrice G di ordine m=16 ed ordine m=400, (scegliere n in maniera opportuna), usando i metodi del gradiente e del gradiente coniugato. Confrontare gli errori su uno stesso grafico e giustifcare i risultati alla luce del risultato teorico della maggiorazione dell'errore per entrambi i metodi"
   ]
  },
  {
   "cell_type": "code",
   "execution_count": 38,
   "id": "9e99d1ca-3fde-43ef-bd68-9fec17e2b80d",
   "metadata": {
    "tags": []
   },
   "outputs": [
    {
     "name": "stdout",
     "output_type": "stream",
     "text": [
      "Ordine grandezza matrice G = 16\n",
      "Indice di condizionamento della matrice : 9.47213595499958\n"
     ]
    },
    {
     "data": {
      "text/plain": [
       "<matplotlib.legend.Legend at 0x1f057583a50>"
      ]
     },
     "execution_count": 38,
     "metadata": {},
     "output_type": "execute_result"
    },
    {
     "data": {
      "image/png": "[encoded data removed]",
      "text/plain": [
       "<Figure size 640x480 with 1 Axes>"
      ]
     },
     "metadata": {},
     "output_type": "display_data"
    }
   ],
   "source": [
    "import creaG\n",
    "# come ricavare n in modo opportuno: n = sqrt(m) + 2 \n",
    "n = 6\n",
    "G = creaG.numgrid(n)\n",
    "\n",
    "D = creaG.delsq(G).todense().getA()\n",
    "print(\"Ordine grandezza matrice G =\", D.shape[0])\n",
    "print(\"Indice di condizionamento della matrice :\", np.linalg.cond(D))\n",
    "\n",
    "b = np.sum(D, axis=1).reshape(D.shape[0],1)\n",
    "x0 = np.zeros_like(b)\n",
    "itmax=500\n",
    "tol=1e-10\n",
    "\n",
    "xG, vettG, all_xkG, itG = steepdescent(D, b, x0, itmax, tol)\n",
    "xC, vettC, all_xkC, itC = conjugate_gradient(D, b, x0, itmax, tol)\n",
    "#print(itG)\n",
    "#print(itC)\n",
    "\n",
    "plt.semilogy(range(itG),vettG)\n",
    "plt.semilogy(range(itC),vettC)\n",
    "plt.legend(['errori Gradiente', 'errori Gradiente Coniugato'])\n"
   ]
  },
  {
   "cell_type": "code",
   "execution_count": 37,
   "id": "0ef78fe7-b167-4404-ba56-30cf7b1c5a47",
   "metadata": {
    "tags": []
   },
   "outputs": [
    {
     "data": {
      "image/png": "[encoded data removed]",
      "text/plain": [
       "<Figure size 640x480 with 1 Axes>"
      ]
     },
     "metadata": {},
     "output_type": "display_data"
    },
    {
     "name": "stdout",
     "output_type": "stream",
     "text": [
      "Ordine grandezza matrice G = 400\n",
      "Indice di condizionamento della matrice : 178.06427461085988\n"
     ]
    },
    {
     "data": {
      "text/plain": [
       "[<matplotlib.lines.Line2D at 0x1f0575232d0>]"
      ]
     },
     "execution_count": 37,
     "metadata": {},
     "output_type": "execute_result"
    },
    {
     "data": {
      "image/png": "[encoded data removed]",
      "text/plain": [
       "<Figure size 640x480 with 1 Axes>"
      ]
     },
     "metadata": {},
     "output_type": "display_data"
    }
   ],
   "source": [
    "n = 22\n",
    "G = creaG.numgrid(n)\n",
    "\n",
    "D = creaG.delsq(G).todense().getA()\n",
    "plt.spy(D)  #Visualizza la matrice: in bianco i valori nulli, in nero i valori diversi da zero\n",
    "plt.show()\n",
    "print(\"Ordine grandezza matrice G =\", D.shape[0])\n",
    "print(\"Indice di condizionamento della matrice :\", np.linalg.cond(D))\n",
    "\n",
    "b = np.sum(D, axis=1).reshape(D.shape[0],1)\n",
    "x0 = np.zeros_like(b)\n",
    "itmax=2000\n",
    "tol=1e-10\n",
    "\n",
    "xG, vettG, all_xkG, itG = steepdescent(D, b, x0, itmax, tol)\n",
    "xC, vettC, all_xkC, itC = conjugate_gradient(D, b, x0, itmax, tol)\n",
    "#print(itG)\n",
    "#print(itC)\n",
    "\n",
    "plt.semilogy(range(itG),vettG)\n",
    "plt.semilogy(range(itC),vettC)"
   ]
  },
  {
   "cell_type": "code",
   "execution_count": null,
   "id": "a1f76aa3-5940-4178-b685-becefd8a7d4c",
   "metadata": {},
   "outputs": [],
   "source": []
  }
 ],
 "metadata": {
  "kernelspec": {
   "display_name": "Python 3 (ipykernel)",
   "language": "python",
   "name": "python3"
  },
  "language_info": {
   "codemirror_mode": {
    "name": "ipython",
    "version": 3
   },
   "file_extension": ".py",
   "mimetype": "text/x-python",
   "name": "python",
   "nbconvert_exporter": "python",
   "pygments_lexer": "ipython3",
   "version": "3.11.5"
  }
 },
 "nbformat": 4,
 "nbformat_minor": 5
}
