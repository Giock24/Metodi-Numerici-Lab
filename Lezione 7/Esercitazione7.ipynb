{
 "cells": [
  {
   "cell_type": "code",
   "execution_count": 6,
   "id": "63283aa6-0968-4fcf-b63e-a84b10086cae",
   "metadata": {
    "tags": []
   },
   "outputs": [],
   "source": [
    "# tutte le importazioni\n",
    "import numpy as np\n",
    "import math\n",
    "import sympy as sym\n",
    "from sympy.utilities.lambdify import lambdify\n",
    "import matplotlib.pyplot as plt"
   ]
  },
  {
   "cell_type": "markdown",
   "id": "757049bd-7ac3-461a-9570-f96afa66e26e",
   "metadata": {},
   "source": [
    "## Esercitazione 7 -  9 Aprile 2024"
   ]
  },
  {
   "cell_type": "markdown",
   "id": "e1493074-bb27-43f9-beed-f0e5f08ec40e",
   "metadata": {},
   "source": [
    "Scrivere la function `NewtonRaphson_corde.py`, che implementa il metodo di Newton-Raphson con la variante delle corde\n",
    "per il calcolo della soluzione di un sistema di equazioni non lineari. \n",
    "\n",
    "    Tale function\n",
    "deve assumere come dati in input:\n",
    "- fname: nome della funzione vettoriale di cui calcolare lo zero;\n",
    "- JacName: nome della funzione che calcola lo Jacobiano della funzione vettoriale;\n",
    "- X0: vettore contenente le componenti dell'iterato iniziale);\n",
    "- tolx tolleranza  per il test d'arresto sull'incremento\n",
    "        ||X_{k+1}-X_k||/||X_{k}||<= tolx\n",
    "- tolf tolleranza per il test del residuo\n",
    "        ||F(Xk+1)|| <= tolf;\n",
    "- NMAX numero massimo di iterazioni.\n",
    "In output devono essere restituiti il vettore contenente l'approssimazione dello zero x, un vettore contenente l'errore relativo tra due iterati successivi, il numero di iterazioni\n",
    "effettuate, nit."
   ]
  },
  {
   "cell_type": "code",
   "execution_count": 17,
   "id": "00b16e59-f316-49d0-b1de-ba7af756d710",
   "metadata": {
    "tags": []
   },
   "outputs": [],
   "source": [
    "def NewtonRaphson_corde(fname, JacNam, X0, tolx, tolf, NMAX):\n",
    "    \n",
    "    matjac = JacNam(X0)\n",
    "    \n",
    "    if np.linalg.det(matjac) == 0:\n",
    "        print(\"La matrice dello Jacobiano calcolata nell'iterato precedente non è a rango massimo\")\n",
    "        return None, None,None\n",
    "    s = -np.linalg.solve(matjac, fname(X0))\n",
    "    # Aggiornamento della soluzione\n",
    "    nit = 1\n",
    "    x1 = X0 + s\n",
    "    fx1 = fname(x1)\n",
    "\n",
    "    Xm = [np.linalg.norm(s, 1)/np.linalg.norm(x1,1)]\n",
    "\n",
    "    while (np.linalg.norm(x1 - X0, 1)/np.linalg.norm(X0, 1) >= tolx and np.linalg.norm(fname(x1)) >= tolf and nit <= NMAX):\n",
    "        X0 = x1\n",
    "        nit += 1\n",
    "        #print(X0)\n",
    "   \n",
    "   \n",
    "        if np.linalg.det(matjac) == 0:\n",
    "            print(\"La matrice dello Jacobiano calcolata nell'iterato precedente non è a rango massimo\")\n",
    "            return None, None,None\n",
    "    \n",
    "     \n",
    "    \n",
    "        s = -np.linalg.solve(matjac, fname(X0))\n",
    "\n",
    "        # Aggiornamento della soluzione\n",
    "        x1 =  X0 + s\n",
    "        fx1 = fname(x1)\n",
    "        Xm.append(np.linalg.norm(s, 1)/np.linalg.norm(x1,1))\n",
    "    \n",
    "    # x1 = vettore approssimato dello zero\n",
    "    # xM = vettore errore relativo tra due iterati successivi\n",
    "    # nit = numero di iterazioni effettuate\n",
    "    return x1, Xm, nit"
   ]
  },
  {
   "cell_type": "markdown",
   "id": "98da3252-8113-4fce-a30f-cf57f6f343a7",
   "metadata": {},
   "source": [
    "Scrivere la function `NewtonRaphson_sham.py`, che implementa il metodo di Newton-Raphson con la variante di Shamanskii\n",
    "per il calcolo della soluzione di un sistema di equazioni non lineari. \n",
    "\n",
    "    Tale function\n",
    "deve assumere come dati in input:\n",
    "- fname: nome della funzione vettoriale di cui calcolare lo zero;\n",
    "- JacName: nome della funzione che calcola lo J acobiano della funzione vettoriale;\n",
    "- X0: vettore contenente le componenti dell'iterato iniziale);\n",
    "- tolx tolleranza  per il test d'arresto sull'incremento\n",
    "        ||X_{k+1}-X_k||/||X_{k}||<= tolx\n",
    "- tolf tolleranza per il test del residuo\n",
    "        ||F(Xk+1)|| <= tolf;\n",
    "- NMAX numero massimo di iterazioni.\n",
    "In output devono essere restituiti il vettore contenente l'approssimazione dello zero x, un vettore contenente l'errore relativo tra due iterati successivi, il numero di iterazioni\n",
    "effettuate, nit."
   ]
  },
  {
   "cell_type": "code",
   "execution_count": null,
   "id": "8f535616-7f6d-45a8-9aef-cef6ef65d34c",
   "metadata": {},
   "outputs": [],
   "source": [
    "def NewtonRaphson_sham(fname, JacNam, X0, tolx, tolf, NMAX):\n",
    "    \n",
    "    matjac = JacNam(X0)\n",
    "    if :\n",
    "        print(\"La matrice dello Jacobiano calcolata nell'iterato precedente non è a rango massimo\")\n",
    "        return None,None,None\n",
    "\n",
    "    s = -np.linalg.solve(matjac, fname(X0))\n",
    "    # Aggiornamento della soluzione\n",
    "    it = 1\n",
    "    x1 = x0 + s\n",
    "    fx1 = fun(x1)\n",
    "\n",
    "    Xm = [np.linalg.norm(s, 1)/np.linalg.norm(x1,1)]\n",
    "    update=10  #Numero di iterazioni durante le quali non si aggiorna la valutazione dello Jacobiano nell'iterato attuale\n",
    "    while (np.linalg.norm(x1 - X0, 1)/np.linalg.norm(X0, 1) >= tolx and np.linalg.norm(fname(x1)) >= tolf and nit <= NMAX):\n",
    "        X0 =  x1\n",
    "        it += 1\n",
    "        if it%update==0:   #Valuto la matrice di iterazione nel nuovo iterato ogni \"update\" iterazioni\n",
    "            matjac = JacNam(X0)\n",
    "   \n",
    "            if :\n",
    "               print(\"La matrice dello Jacobiano calcolata nell'iterato precedente non è a rango massimo\")\n",
    "               return None,None,None\n",
    "            else:\n",
    "               s = #to do\n",
    "        else:\n",
    "          s = -#to do\n",
    "\n",
    "    # Aggiornamento della soluzione\n",
    "    x1 = #to do\n",
    "    fx1 = fun(x1)\n",
    "    Xm.append(np.linalg.norm(s, 1)/np.linalg.norm(x1,1))\n",
    "    \n",
    "    # x1 = vettore approssimato dello zero\n",
    "    # xM = vettore errore relativo tra due iterati successivi\n",
    "    # nit = numero di iterazioni effettuate\n",
    "    return x1, Xm, nit"
   ]
  },
  {
   "cell_type": "markdown",
   "id": "ea891a90-3ee3-48d8-b1bb-26bc216b6883",
   "metadata": {},
   "source": [
    "Risolvere i seguenti tre sistemi non lineari:\n",
    "1) \n",
    "2x0-cos(x1)=0\n",
    "\n",
    "sin(x0)+2x1=0\n",
    "\n",
    "2) \n",
    "x0^2+x1^2-9=0\n",
    "\n",
    "x0^2+x1*2-2=0\n",
    "\n",
    "3) \n",
    "4x0^2+x_1^2^=4\n",
    "\n",
    "x0+x1=sin(x0-x1)\n",
    "\n",
    "utilizzando il metodo di Newton Raphson, la variante delle corde e la variante di Shamanskii.\n",
    "Confrontare per ciascun metodo il grafico dell'errore relativo tra due iterati successivi."
   ]
  },
  {
   "cell_type": "code",
   "execution_count": 15,
   "id": "60b89874-1092-4f12-a4c4-6f978d514aac",
   "metadata": {
    "tags": []
   },
   "outputs": [
    {
     "name": "stdout",
     "output_type": "stream",
     "text": [
      "Soluzione approssimata usando il newton con variante corde [ 0.48640515 -0.2337255 ]\n"
     ]
    },
    {
     "data": {
      "text/plain": [
       "<matplotlib.legend.Legend at 0x1e3be3d02d0>"
      ]
     },
     "execution_count": 15,
     "metadata": {},
     "output_type": "execute_result"
    },
    {
     "data": {
      "image/png": "[encoded data removed]",
      "text/plain": [
       "<Figure size 640x480 with 1 Axes>"
      ]
     },
     "metadata": {},
     "output_type": "display_data"
    }
   ],
   "source": [
    "# è stato fatto nella esercitazione 6\n",
    "# ora li sto provando a fare da solo\n",
    "fname = lambda x : [ 2*x[0]-math.cos(x[1]), math.sin(x[0])+2*x[1] ]\n",
    "#x0 = sym.symbols('x0')\n",
    "#x1 = sym.symbols('x1')\n",
    "\n",
    "# RICORDA: non puoi usare math.cos se no non ti fa la derivata e ti da\n",
    "# errore dicendoti che deve fare la conversione di una funzione sconosciuta\n",
    "# quindi usa sys.cos\n",
    "#f1 = 2*x0-sym.cos(x1)\n",
    "#f2 = sym.sin(x0)+2*x1\n",
    "\n",
    "JacNam = lambda x : np.array([ [2, math.sin(x[1])], [math.cos(x[0]), 2] ]) \n",
    "#print(JacNam(1,2))\n",
    "NMAX = 500\n",
    "X0=np.array([-1,1])\n",
    "tolx=1e-10\n",
    "tolf=1e-10\n",
    "\n",
    "\n",
    "x1, Xm, nit = NewtonRaphson_corde(fname, JacNam, X0, tolx, tolf, NMAX)\n",
    "print(\"Soluzione approssimata usando il newton con variante corde\", x1)\n",
    "plt.semilogy(range(nit),Xm,'r-o')\n",
    "plt.legend(['Corde'])"
   ]
  },
  {
   "cell_type": "markdown",
   "id": "c8cee077-b1a8-46a3-9911-f53d67f8c95f",
   "metadata": {},
   "source": [
    "## Esercizio 2\n",
    "Scrivere la function `NewtonRaphson_minimo.py`, che implementa il metodo di Newton-Raphson con la variante delle corde\n",
    "per il calcolo del minimo assoluto (relativo) di una funzione non lineare.\n",
    "\n",
    "    Tale function\n",
    "deve assumere come dati in input:\n",
    "- grad_name: nome della  funzione vettoriale  che contine il gradiente della funzione di cui calcolare lo zero;\n",
    "- Hess_name: nome della funzione che calcola l' Hessiana della funzione vettoriale;\n",
    "- X0: vettore contenente le componenti dell'iterato iniziale);\n",
    "- tolx tolleranza  per il test d'arresto sull'incremento\n",
    "        ||X_{k+1}-X_k||/||X_{k}||<= tolx\n",
    "- tolf tolleranza per il test del residuo\n",
    "        ||F(Xk+1)|| <= tolf;\n",
    "- NMAX numero massimo di iterazioni.\n",
    "In output devono essere restituiti il vettore contenente l'approssimazione dello zero x, un vettore contenente l'errore relativo tra due iterati successivi, il numero di iterazioni\n",
    "effettuate, nit.\n",
    "\n"
   ]
  },
  {
   "cell_type": "code",
   "execution_count": null,
   "id": "63273e39-0605-48d1-96d5-e893c31af68a",
   "metadata": {},
   "outputs": [],
   "source": [
    "# è stato fatto nella esercitazione 6"
   ]
  },
  {
   "cell_type": "markdown",
   "id": "9268b508-7e6e-43ea-8171-6048dcfc9500",
   "metadata": {},
   "source": [
    "## Esercizio 3\n",
    "Scrivere una funzione numpy che calcola la norma infinito e la norma 1 di un vettore ed una matrice  e testarla su vettori e matrici  a propria scelta. Confrontarne i risultati con quelli ottenuti utilizzando la funzione norm di numpy.linalg\n",
    "\n",
    "(Ricorda la formula della norma infinito e della norma 1 di una matrice\n",
    "$||A||_\\infty= \\max_{j=1,n} \\sum_{i} |a_{ij}| $\n",
    "$\\quad ||A||_1= \\max_{i=1,n} \\sum_{j} |a_{ij}| $)"
   ]
  },
  {
   "cell_type": "code",
   "execution_count": 11,
   "id": "d2c4d9fe-79f7-4f27-a119-3c1b0478ea75",
   "metadata": {
    "tags": []
   },
   "outputs": [
    {
     "name": "stdout",
     "output_type": "stream",
     "text": [
      "[[ 2 -3]\n",
      " [ 4  5]]\n",
      "Norma 1 =  8.0\n",
      "Norma infinito =  9.0\n",
      "Norma 2 (fatta con il metodo esistente) =  6.530886298390023\n",
      "Norma 2 (fatta a mano) =  6.530886298390022\n",
      "Norma 1 (che abbiamo fatto noi) =  8\n",
      "Norma infinito (che abbiamo fatto noi) =  9\n"
     ]
    }
   ],
   "source": [
    "# norma 1 è la sommatoria delle righe\n",
    "# norma infinito è la sommatoria delle colonne\n",
    "\n",
    "import numpy as np\n",
    "\n",
    "A = np.array([[2,-3],[4,5]])\n",
    "print(A)\n",
    "\n",
    "n1 = np.linalg.norm(A,1)\n",
    "print(\"Norma 1 = \", n1)\n",
    "n_inf = np.linalg.norm(A, np.inf)\n",
    "print(\"Norma infinito = \", n_inf)\n",
    "n2 = np.linalg.norm(A, 2)\n",
    "print(\"Norma 2 (fatta con il metodo esistente) = \", n2)\n",
    "\n",
    "# La norma 2 di una matrice è la radice quadrata dell'autovalore di modulo massimo di A^T*A\n",
    "M = A.T@A\n",
    "my_n2 = np.sqrt(np.max(np.abs(np.linalg.eigvals(M))))\n",
    "print(\"Norma 2 (fatta a mano) = \", my_n2)\n",
    "\n",
    "# l'esercizio richiede di calcolare la norma 1 e infinito senza usare le funzioni già esistenti\n",
    "c = np.sum(np.abs(A), axis=0)\n",
    "my_n1=np.max(c)\n",
    "print(\"Norma 1 (che abbiamo fatto noi) = \",my_n1)\n",
    "c = np.sum(np.abs(A), axis=1)\n",
    "my_n_inf=np.max(c)\n",
    "print(\"Norma infinito (che abbiamo fatto noi) = \",my_n_inf)"
   ]
  },
  {
   "cell_type": "markdown",
   "id": "2114e405-7039-470b-8d4b-19332b2f0f2b",
   "metadata": {},
   "source": [
    "## Esercizio 4\n",
    "Implementare una funzione che calcola la norma 2 di una  matrice facendo uso della funzione eigvals del pacchetto numpy.linalg, (np.linalg.eigvals(A)). Testarla sulla matrice A=np.array([[4,-1,6],[2,3,-3],[1,-2,9/2]])   e confrontarne i risultati con quelli ottenuti utilizzando la funzione norm di numpy.linalg"
   ]
  }
 ],
 "metadata": {
  "kernelspec": {
   "display_name": "Python 3 (ipykernel)",
   "language": "python",
   "name": "python3"
  },
  "language_info": {
   "codemirror_mode": {
    "name": "ipython",
    "version": 3
   },
   "file_extension": ".py",
   "mimetype": "text/x-python",
   "name": "python",
   "nbconvert_exporter": "python",
   "pygments_lexer": "ipython3",
   "version": "3.11.5"
  }
 },
 "nbformat": 4,
 "nbformat_minor": 5
}
