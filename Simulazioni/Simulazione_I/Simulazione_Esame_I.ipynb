{
 "cells": [
  {
   "cell_type": "markdown",
   "id": "9edf6b43-5c77-43f5-a179-9986fc68abf8",
   "metadata": {},
   "source": [
    "## Simulazione dell'esame di Metodi Numerici\n"
   ]
  },
  {
   "cell_type": "markdown",
   "id": "ff8dd546-5e8d-4dde-ab61-51251c05bad2",
   "metadata": {},
   "source": [
    "## Esercizio 1\n"
   ]
  },
  {
   "cell_type": "markdown",
   "id": "378dc3b4-702c-4e2f-b388-fc5275db9a75",
   "metadata": {},
   "source": [
    "# Esercizio 1\n",
    "Nel file ``testI.mat`` sono memorizzati la matrice A ed il vettore b. \n",
    "\n",
    " - Verificare che per risolvere il sistema Ax=b sia possibile utilizzare i due metodi di discesa visti a lezione. Richiamare il teorema che  garantisce che risolvere un sistema lineare con specifiche proprietà equivale a trovare il minimo di un opportuno funzionale quadratico.  [**Punti 2**]\n",
    " - implementare entrambi gli algoritmi e dire quante iterazioni sono necessarie per ciascuno di essi  per calcolare la soluzione con una toll=1e-6 e maxit=4000. Visualizzare in un grafico l'errore in scala logaritmica ad ogni iterazione per ciascuno dei due metodi. [**Punti 5**]\n",
    " - Verificare se la matrice è  malcondizionata, dire teoricamente cosa questo implica in termini di velocità di  convergenza alla soluzione di ciascuno dei due metodi, richiamando il risultato teorico visto a lezione. [**Punti 2**]\n",
    "\n",
    " - Costruire la matrice A1, ottenuta a partire da A sommandole una matrice diagonale con elementi sulla\n",
    "      diagonali tutti uguali a 0.05\n",
    "   nel seguente modo:\n",
    "   \n",
    "   A1=A+np.eye(A.shape[0])*0.05\n",
    "   \n",
    "   e termine noto b1, costruito in maniera tale che la soluzione del sistema A1 x1 =b1 sia il vettore formato da tutti 1.  Risolvere il sistema lineare con matrice dei coefficienti A1 e termine noto b1, sia con il metodo del gradiente che con il metodo del gradiente coniugato. Osservare il numero di iterazioni eseguito da ciascun metodo e giustificare i risultati  [**Punti 2**]\n",
    "  \n",
    "   **Totale: Punti 11**\n",
    "\n",
    "Per la lettura dei dati procedere nel seguente modo:\n",
    "\n",
    "``from scipy.io import loadmat``\n",
    "\n",
    "``import numpy as np``\n",
    "\n",
    "``dati = loadmat('testI.mat')``\n",
    "\n",
    "``A=dati[\"A\"] ``\n",
    "\n",
    "``A=A.astype(float)``\n",
    "\n",
    "`` b=dati[\"b\"] ``\n",
    "\n",
    "`` b=b.astype(float)``\n",
    "\n",
    "\n",
    "\n",
    "\n",
    "\n"
   ]
  },
  {
   "cell_type": "code",
   "execution_count": 40,
   "id": "f22eaba2-223a-4ab4-97af-35cadbe3eaf2",
   "metadata": {
    "tags": []
   },
   "outputs": [
    {
     "name": "stdout",
     "output_type": "stream",
     "text": [
      "(300, 300)\n",
      "9.524444444444445 % valori non nulli\n",
      "True\n",
      "True\n",
      "iterazioni stepeest descend:  4000\n",
      "iterazioni gradiente coniugato:  326\n",
      "10000.000000000608 è mal condizionata\n"
     ]
    },
    {
     "data": {
      "image/png": "[encoded data removed]",
      "text/plain": [
       "<Figure size 640x480 with 1 Axes>"
      ]
     },
     "metadata": {},
     "output_type": "display_data"
    }
   ],
   "source": [
    "from scipy.io import loadmat\n",
    "import numpy as np\n",
    "import matplotlib.pyplot as plt\n",
    "\n",
    "def speepest_desc(A, b, x0, toll ,it_max):\n",
    "    it = 0\n",
    "    err_vet = []\n",
    "    errore = 1000\n",
    "    \n",
    "    while it < it_max and errore > toll:\n",
    "        pk = -A@x0 + b\n",
    "        rk = -pk.copy()\n",
    "        ak = (rk.T@rk)/(rk.T@A@rk)\n",
    "        x1 = x0 + ak*pk\n",
    "        r1 = rk + ak*A@pk\n",
    "        \n",
    "        errore = np.linalg.norm(rk, 2)/np.linalg.norm(b, 2)\n",
    "        err_vet.append(errore)\n",
    "        x0 = x1\n",
    "        it += 1\n",
    "    \n",
    "    x = x0\n",
    "    \n",
    "    return x, it, err_vet\n",
    "\n",
    "def grad_coniugato(A, b, x0, toll ,it_max):\n",
    "    it = 0\n",
    "    err_vet = []\n",
    "    errore = 1000\n",
    "    \n",
    "    pk = -A@x0 + b\n",
    "    rk = -pk.copy()\n",
    "    \n",
    "    while it < it_max and errore > toll:\n",
    "        ak = (rk.T@rk)/((A@pk).T@pk)\n",
    "        x1 = x0 + ak*pk\n",
    "        r1 = rk + ak*A@pk\n",
    "        \n",
    "        errore = np.linalg.norm(r1, 2)/np.linalg.norm(b, 2)\n",
    "        err_vet.append(errore)\n",
    "        gamma = (r1.T@r1)/(rk.T@rk)\n",
    "        p1 = -r1+gamma*pk\n",
    "        \n",
    "        rk = r1\n",
    "        x0 = x1\n",
    "        pk = p1\n",
    "        it += 1\n",
    "    \n",
    "    x = x0\n",
    "    \n",
    "    return x, it, err_vet\n",
    "\n",
    "dati = loadmat('testI.mat')\n",
    "A=dati[\"A\"] \n",
    "A=A.astype(float)\n",
    "print(A.shape)\n",
    "b=dati[\"b\"]\n",
    "b=b.astype(float)\n",
    "\n",
    "# primo punto\n",
    "\n",
    "print(np.count_nonzero(A)/(A.shape[0] * A.shape[1])*100, \"% valori non nulli\")\n",
    "# è sparsa\n",
    "\n",
    "# controllo che sia simmetrica\n",
    "print(A.all() == A.T.all())\n",
    "\n",
    "# controllo che sia definita positiva\n",
    "auto_val = np.linalg.eigvals(A)\n",
    "print(auto_val.all() > 0)\n",
    "\n",
    "# sono applicabili perchè ci sono tutte le condizioni per poter usare quei metodi\n",
    "# Sia A ∈ a R^(n*n) , matrice simmetrica e definita positiva, 𝑏,𝑥∈𝑅𝑛, allora la soluzione del sistema lineare\n",
    "# Ax = b (1)\n",
    "# coincide con il punto di minimo della seguente funzione quadratica\n",
    "# 𝐹(𝑥)=1/2*<𝐴𝑥,𝑥>−<𝑏,𝑥>\n",
    "# SI TROVA NEL PDF METODI DI DISCESA DI STEPEEST DESCEND PRIMO TEOREMA\n",
    "\n",
    "# secondo punto\n",
    "\n",
    "toll=1e-6\n",
    "maxit=4000\n",
    "x0 = np.zeros_like(b)\n",
    "x, it, err_vet = speepest_desc(A, b, x0, toll ,maxit)\n",
    "print(\"iterazioni stepeest descend: \", it)\n",
    "xC, itC, err_vetC = grad_coniugato(A, b, x0, toll ,maxit)\n",
    "print(\"iterazioni gradiente coniugato: \", itC)\n",
    "\n",
    "plt.semilogy(np.arange(it), err_vet, np.arange(itC), err_vetC)\n",
    "plt.legend(['errore stepeest', 'errore coniugato'])\n"
   ]
  },
  {
   "cell_type": "code",
   "execution_count": 43,
   "id": "f68423c1-badb-4317-8229-c5ecb34be344",
   "metadata": {},
   "outputs": [
    {
     "name": "stdout",
     "output_type": "stream",
     "text": [
      "10000.000000000608 è mal condizionata\n",
      "0.9998000199980002\n",
      "0.402688435735559\n"
     ]
    }
   ],
   "source": [
    "# terzo punto\n",
    "\n",
    "print(np.linalg.cond(A), \"è mal condizionata\")\n",
    "e0s = err_vet[0]\n",
    "vel_conv = ((np.linalg.cond(A)-1)/(np.linalg.cond(A)+1))*e0s\n",
    "print(vel_conv) # RICORDA: più ci si avvicina ad 1 più è lenta la velocità di convergenza alla soluzione del problema\n",
    "# ciò è determinato dal condizionamnento della matrice data di partenza\n",
    "e0C = err_vetC[0]\n",
    "vel_conv_coniug = ((np.sqrt(np.linalg.cond(A))-1)/(np.sqrt(np.linalg.cond(A))+1))*e0C\n",
    "print(vel_conv_coniug)"
   ]
  },
  {
   "cell_type": "code",
   "execution_count": 49,
   "id": "c46af5f2-d4b8-4ad9-819e-059a15880259",
   "metadata": {
    "tags": []
   },
   "outputs": [
    {
     "name": "stdout",
     "output_type": "stream",
     "text": [
      "iterazioni stepeest descend:  128\n",
      "iterazioni gradiente coniugato:  30\n",
      "0.9089173711480775\n",
      "0.2953863285466474\n"
     ]
    }
   ],
   "source": [
    "# quarto punto\n",
    "\n",
    "A1=A+np.eye(A.shape[0])*0.05\n",
    "b1=np.sum(A1, axis=1).reshape(A1.shape[0],1)\n",
    "x0=np.zeros_like(b1)\n",
    "\n",
    "x, it, err_vet = speepest_desc(A1, b1, x0, toll ,maxit)\n",
    "print(\"iterazioni stepeest descend: \", it)\n",
    "xC, itC, err_vetC = grad_coniugato(A1, b1, x0, toll ,maxit)\n",
    "print(\"iterazioni gradiente coniugato: \", itC)\n",
    "\n",
    "e0s = err_vet[0]\n",
    "vel_conv = ((np.linalg.cond(A1)-1)/(np.linalg.cond(A1)+1))*e0s\n",
    "print(vel_conv)\n",
    "e0C = err_vetC[0]\n",
    "vel_conv_coniug = ((np.sqrt(np.linalg.cond(A1))-1)/(np.sqrt(np.linalg.cond(A1))+1))*e0C\n",
    "print(vel_conv_coniug)"
   ]
  },
  {
   "cell_type": "markdown",
   "id": "7f29d3fc-3800-4a2e-93a1-9c31f878c266",
   "metadata": {},
   "source": [
    "## Esercizio 2 ##\n",
    "\n",
    "Siano assegnati i numpy array\n",
    "\n",
    "x =[1.0,1.2,1.4,1.6,1.8,2.0,2.2,2.4,2.6,2.8,3.0] \n",
    "\n",
    "y =[1.18,1.26,1.23,1.37,1.37,1.45,1.42,1.46,1.53,1.59,1.59] \n",
    "                                                               \n",
    "contenenti rispettivamente le ascisse e le ordinate di 11 punti nel piano.                                                          "
   ]
  },
  {
   "cell_type": "markdown",
   "id": "2fa94727-34cb-4782-b764-c56b7e95f321",
   "metadata": {},
   "source": [
    "Scrivere lo script python in cui:"
   ]
  },
  {
   "cell_type": "markdown",
   "id": "30cd6520-ed15-4c05-bf8c-1261c002b60f",
   "metadata": {},
   "source": [
    "- si calcola il polinomio di approssimazione ai minimi quadrati di grado 1 dei punti assegnati, sviluppando le functions necessarie. e lo si valuti su 200 punti equidistanti nell'intervallo [1,3]  [**Punti: 4**]"
   ]
  },
  {
   "cell_type": "code",
   "execution_count": 62,
   "id": "eb6e7079-8fd9-42ed-b6cf-8103e33e2afc",
   "metadata": {
    "tags": []
   },
   "outputs": [
    {
     "name": "stdout",
     "output_type": "stream",
     "text": [
      "8.419376035116738\n",
      "2\n"
     ]
    }
   ],
   "source": [
    "import SolveTriangular\n",
    "import numpy as np\n",
    "from scipy.linalg import cholesky\n",
    "\n",
    "x =np.array([1.0,1.2,1.4,1.6,1.8,2.0,2.2,2.4,2.6,2.8,3.0])\n",
    "y =np.array([1.18,1.26,1.23,1.37,1.37,1.45,1.42,1.46,1.53,1.59,1.59] )\n",
    "\n",
    "punti = np.linspace(1,3,200)\n",
    "\n",
    "# Per capire perchè viene usato vander vai nel Pdf sui sistemi sovradeterminati PAG.13\n",
    "m=x.shape[0]\n",
    "n=1  #grado del polinomio di regressione\n",
    "n1=n+1  # gradi di libertà\n",
    "A=np.vander(x,increasing=True)[:,:n1]\n",
    "print(np.linalg.cond(A)) # è ben condizionata\n",
    "print(np.linalg.matrix_rank(A)) # ha rango massimo\n",
    "\n",
    "# perciò si usa l'algoritmo delle eq.normali\n",
    "\n",
    "def eqnorm(A,b):\n",
    "#Risolve un sistema sovradeterminato con il metodo delle equazioni normali\n",
    "    G= A.T@A\n",
    "    f= A.T@b\n",
    "    \n",
    "    # uso Cholesky per la teoria (a caso)\n",
    "    L= cholesky(G, lower=True)\n",
    "    U=L.T\n",
    "    z, flag=SolveTriangular.Lsolve(L,f)\n",
    "    x, flag=SolveTriangular.Usolve(U,z)\n",
    "    \n",
    "    return x\n",
    "\n",
    "coeff = eqnorm(A,y)\n",
    "# polyval prende i coefficienti del polinomio e li calcola per i valori passanti nel secondo argomento\n",
    "val_punti1 = np.polyval(np.flip(coeff), punti)"
   ]
  },
  {
   "cell_type": "markdown",
   "id": "148b9058-2505-4f5e-97c8-6db9a372d025",
   "metadata": {},
   "source": [
    "- si calcola il polinomio di interpolazione dei punti assegnati sviluppando le functions necessarie e lo si valuti su 200 punti equidistanti nell'intervallo [1,3]  [**Punti: 4**]"
   ]
  },
  {
   "cell_type": "code",
   "execution_count": 58,
   "id": "fc0fb76e-94d7-4f75-89c5-46656a0fcdf3",
   "metadata": {
    "tags": []
   },
   "outputs": [],
   "source": [
    "def plagr(xnodi,j):\n",
    "    \"\"\"\n",
    "    Restituisce i coefficienti del j-esimo pol di\n",
    "    Lagrange associato ai punti del vettore xnodi\n",
    "    \"\"\"\n",
    "    xzeri=np.zeros_like(xnodi)\n",
    "    n=xnodi.size\n",
    "    if j==0:\n",
    "        xzeri=xnodi[1:n]\n",
    "    else:\n",
    "        xzeri=np.append(xnodi[0:j],xnodi[j+1:n])\n",
    "    \n",
    "    num=np.poly(xzeri)\n",
    "    den=np.polyval(num,xnodi[j])\n",
    "    \n",
    "    p=num/den\n",
    "    # cosi ti ritorna il polimonio\n",
    "    \n",
    "    return p\n",
    "\n",
    "def InterpL(x, y, xx):\n",
    "    \"\"\"\"\n",
    "        %funzione che determina in un insieme di punti il valore del polinomio\n",
    "        %interpolante ottenuto dalla formula di Lagrange.\n",
    "        % DATI INPUT\n",
    "        %  x  vettore con i nodi dell'interpolazione\n",
    "        %  f  vettore con i valori dei nodi \n",
    "        %  xx vettore con i punti in cui si vuole calcolare il polinomio\n",
    "        % DATI OUTPUT\n",
    "        %  y vettore contenente i valori assunti dal polinomio interpolante\n",
    "        %\n",
    "    \"\"\"\n",
    "    n=x.size\n",
    "    m=xx.size\n",
    "    L=np.zeros((m,n))\n",
    "    for j in range(n):\n",
    "        p=plagr(x,j)\n",
    "        L[:,j]=np.polyval(p, xx)\n",
    "    \n",
    "    return L@y\n",
    "\n",
    "val_iterpol1 = InterpL(x,y,punti)"
   ]
  },
  {
   "cell_type": "markdown",
   "id": "ccbf2e51-4085-4cfb-a411-e04d142ff647",
   "metadata": {},
   "source": [
    "- Si modifichino le ordinate dei punti assegnati, facendo uso della formula   $\\hat{y_i}=2*x_i+1$, $i=1,...,11$, e si ricalcoli il polinomio interpolante ed il polinomio di approssimazione di grado 1, a partire dalle coppie $(x_i,\\hat{y_i})$, $i=1,11$   [**Punti: 1**]"
   ]
  },
  {
   "cell_type": "code",
   "execution_count": 63,
   "id": "c80b65d4-cfc2-4cd1-8565-0d24a1035375",
   "metadata": {
    "tags": []
   },
   "outputs": [
    {
     "name": "stdout",
     "output_type": "stream",
     "text": [
      "[3.0, 3.4, 3.8, 4.2, 4.6, 5.0, 5.4, 5.8, 6.2, 6.6, 7.0]\n"
     ]
    }
   ],
   "source": [
    "yi = [ 2*x[i]+1 for i in range(0,11) ]\n",
    "print(yi)\n",
    "\n",
    "\n",
    "coeff = eqnorm(A,yi)\n",
    "# polyval prende i coefficienti del polinomio e li calcola per i valori passanti nel secondo argomento\n",
    "# valori presi da polinomio di approssimazione\n",
    "val_punti2 = np.polyval(np.flip(coeff), punti)\n",
    "val_iterpol2 = InterpL(x,yi,punti)"
   ]
  },
  {
   "cell_type": "markdown",
   "id": "6758a777-c7c6-4459-bdc7-8e6ec235ca98",
   "metadata": {},
   "source": [
    "- Si visualizzi in un grafico il polinomio interpolante, il polinomio di approssimazione di grado 1 ed i punti$(x_i,y_i)$, i=1,11 ed in un altro grafico il polinomio interpolante, il polinomio di approssimazione di grado 1 ed i $(x_i,\\hat{y_i})$, $i=1,11$  [**Punti:1**]"
   ]
  },
  {
   "cell_type": "code",
   "execution_count": 64,
   "id": "d39fd583-45d7-4da3-853f-4ad9b5d7b7c0",
   "metadata": {
    "tags": []
   },
   "outputs": [
    {
     "data": {
      "image/png": "[encoded data removed]",
      "text/plain": [
       "<Figure size 640x480 with 1 Axes>"
      ]
     },
     "metadata": {},
     "output_type": "display_data"
    },
    {
     "data": {
      "image/png": "[encoded data removed]",
      "text/plain": [
       "<Figure size 640x480 with 1 Axes>"
      ]
     },
     "metadata": {},
     "output_type": "display_data"
    }
   ],
   "source": [
    "import matplotlib.pyplot as plt\n",
    "\n",
    "# grafico fatto con il polinomio di approssimazione \n",
    "plt.plot(punti,val_punti1)\n",
    "plt.plot(x,y,'ro',punti,val_iterpol1,'b--')\n",
    "plt.show()\n",
    "\n",
    "# grafico fatto con il polinomio di approssimazione \n",
    "plt.plot(punti,val_punti2)\n",
    "plt.plot(x,yi,'ro',punti,val_iterpol2,'b--')\n",
    "plt.show()\n",
    "\n"
   ]
  },
  {
   "cell_type": "markdown",
   "id": "a77ba739-c5b7-4f04-8f37-30f1584c2e90",
   "metadata": {},
   "source": [
    "- Si fornisca una spiegazione teorica dei risultati ottenuti\n",
    "  [**Punti: 4**]"
   ]
  },
  {
   "cell_type": "code",
   "execution_count": 66,
   "id": "57708356-c328-412e-a7f8-44818ba2a553",
   "metadata": {
    "tags": []
   },
   "outputs": [
    {
     "name": "stdout",
     "output_type": "stream",
     "text": [
      "Condizionamento del problema n → 11; LEB → 892.8890033983752\n",
      "\n",
      "L'interpolazione con nodi equispaziati fornisce fitte oscillazioni agli estremi dell'intervallo\n",
      "dovute all'irregolarita della funzione (primo caso). Dall'indice di condizionamento possiamo \n",
      "notare che risulta abbastanza elevato e dunque l'amplificazione degli errori è maggiore\n"
     ]
    }
   ],
   "source": [
    "cond = lambda n: 2**(n+1) / n*np.log(n)\n",
    "print(f'Condizionamento del problema n → {len(x)}; LEB → {cond(len(x))}')\n",
    "\n",
    "print(\"\\nL'interpolazione con nodi equispaziati fornisce fitte oscillazioni agli estremi dell'intervallo\\n\" \\\n",
    "      + \"dovute all'irregolarita della funzione (primo caso). Dall'indice di condizionamento possiamo \\nnotare che \"\\\n",
    "      + \"risulta abbastanza elevato e dunque l'amplificazione degli errori è maggiore\")"
   ]
  },
  {
   "cell_type": "markdown",
   "id": "a37c8888-3dfe-4ea5-a93b-e0adab565e1b",
   "metadata": {},
   "source": [
    "                                                                        Totale 14 punti"
   ]
  },
  {
   "cell_type": "markdown",
   "id": "911860d3-45d8-45fc-99f2-bf79c64f1a80",
   "metadata": {},
   "source": [
    "## Domanda intelligenza artificiale"
   ]
  },
  {
   "cell_type": "markdown",
   "id": "31f72b3e-3533-4866-bf02-44fea1b7c825",
   "metadata": {},
   "source": [
    "- Importanza del learning rate nell'allenamento di una rete neurale \n",
    "[**Punti: 1**]\n",
    "- Illustra l'algoritmo di backpropagation per il calcolo delle derivate parziale della funzione costo rispetto ai pesi di tutti i layer, nel caso di una MLP con 1 nodo di input, 3 layer nascosti formati da un solo nodo, ed 1 nodo di output. [**Punti: 4**] \n",
    " \n",
    "- Tecniche di Ottimizzazione: metodo di discesa del gradient batch, metodo del gradiente stocastico (SGD) ,metodo del gradiente stocastico minibatch. [**Punti: 2**]\n",
    "\n",
    "\n",
    "    [**Totale: punti 7**]\n"
   ]
  },
  {
   "cell_type": "code",
   "execution_count": null,
   "id": "b1093f4a-2764-405d-8bdb-3867f47d9097",
   "metadata": {},
   "outputs": [],
   "source": []
  }
 ],
 "metadata": {
  "kernelspec": {
   "display_name": "Python 3 (ipykernel)",
   "language": "python",
   "name": "python3"
  },
  "language_info": {
   "codemirror_mode": {
    "name": "ipython",
    "version": 3
   },
   "file_extension": ".py",
   "mimetype": "text/x-python",
   "name": "python",
   "nbconvert_exporter": "python",
   "pygments_lexer": "ipython3",
   "version": "3.11.5"
  }
 },
 "nbformat": 4,
 "nbformat_minor": 5
}
