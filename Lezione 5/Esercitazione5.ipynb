{
 "cells": [
  {
   "cell_type": "markdown",
   "id": "d2903ef7-4c36-4b4f-b8dd-01fa2f35dfc5",
   "metadata": {},
   "source": [
    "## Esercitazione 5  del    19 Marzo 2024 \n"
   ]
  },
  {
   "cell_type": "markdown",
   "id": "a3f2d7cc-2f95-467a-af5e-d9cd0c4fcad2",
   "metadata": {},
   "source": [
    "## Esercizio 1 \n",
    "Si consideri l'equazione quadratica $x^2 + 2px - q = 0 $ con $p=10^5$ e $q=10^{-i}$, i=0,..,10\n",
    "\n",
    "- Si stabilisca se il problema relativo al calcolo della soluzione $x= -p+\\sqrt{p^2+q}$ risulta essere ben\n",
    "      condizionato per tutti i valori di q assegnati;\n",
    "\n",
    "- Si calcoli la soluzione x dell'equazione mediante la formula risolutiva indicata al punto precedente e si dica se l'algoritmo di calcolo risulta numericamente\n",
    "stabile  per i valori di q assegnati\n",
    "\n",
    "- si individui una forma stabile per il calcolo della soluzione e si verifichi se l'algoritmo di calcolo risulta numericamente stabile per i valori di q assegnati."
   ]
  },
  {
   "cell_type": "code",
   "execution_count": 16,
   "id": "eb70c4f2-8366-4638-b848-95ae9b9e2cac",
   "metadata": {
    "tags": []
   },
   "outputs": [
    {
     "name": "stdout",
     "output_type": "stream",
     "text": [
      "[4.99999442e-06 5.00003807e-07 5.00003807e-08 4.99130692e-09\n",
      " 4.94765118e-10 4.36557457e-11 1.45519152e-11 0.00000000e+00\n",
      " 0.00000000e+00 0.00000000e+00 0.00000000e+00]\n",
      "x1 =  [5.e-06 5.e-07 5.e-08 5.e-09 5.e-10 5.e-11 5.e-12 5.e-13 5.e-14 5.e-15\n",
      " 5.e-16]\n",
      "spacing:  1.9073486328125e-06\n",
      "q=  [1.e+00 1.e-01 1.e-02 1.e-03 1.e-04 1.e-05 1.e-06 1.e-07 1.e-08 1.e-09\n",
      " 1.e-10]\n"
     ]
    }
   ],
   "source": [
    "import numpy as np\n",
    "#q = np.arange(10**(-1), 10**(-10))\n",
    "#q = np.array([10**(-i) for i in range(11)])\n",
    "#x = np.array([-10**5 + (10**10 + i)**(1/2) for i in q])\n",
    "\n",
    "p = 10.0**5\n",
    "q = 10.0**(-np.arange(11))\n",
    "x = -p+np.sqrt(p**2 + q)\n",
    "x1 = q/(p+np.sqrt(p**2 + q))\n",
    "\n",
    "print(x)\n",
    "print(\"x1 = \", x1)\n",
    "print(\"spacing: \", np.spacing(p**2)) # il minimo che devo sommare per andare alla prossima quantità\n",
    "print(\"q= \", q) # da 1**-7, la precisione della macchina non è più in grado di captare la differenza e quindi approssima a 0 direttamente."
   ]
  },
  {
   "cell_type": "markdown",
   "id": "a4e21560-1013-4ae3-aa74-6b1f27198cf5",
   "metadata": {},
   "source": [
    "## Esercizio 2\n"
   ]
  },
  {
   "cell_type": "markdown",
   "id": "535f46cb-ded4-4f6f-a9b0-87815d033a30",
   "metadata": {},
   "source": [
    "Realizzate un codice python che implementa il seguente algoritmo. Si tratta dell'implementazione del  metodo di Archimede per l'approssimazione di pi-greco e genera una successione di valori $p_i$, i=1,n, (n scelto dall'utente) che tende a $\\pi$. Verificare se all'aumentare di n, la successione $p_i$ tende a $\\pi$.\n",
    "\n",
    "b[0]=2\n",
    "\n",
    "s[0]=1\n",
    "\n",
    "for i in range(1,n):\n",
    "\n",
    "    p[i]=b[i-1]*s[i-1]\n",
    "    b[i]=2*b[i-1]\n",
    "     s[i]=math.sqrt((1.0-math.sqrt(1-s[i-1]**2))/2.0)\n",
    "\n",
    "- Visualizzate su un grafico gli elementi della successione p[i] calcolata Calcolate e visualizzate su un grafico l'errore relativo per ogni componente di p[i], - considerando come valore esatto di pigreco il valore math.pi.\n",
    "\n",
    "- Giustificate i risultati alla luce della teoria.\n",
    "\n",
    "- Proponete una versione stabile dell'algoritmo\n",
    "\n",
    "- Calcolate e visualizzate su un grafico l'errore relativo per ogni componente di p[i] prodotta dall'algoritmo stabilizzato, considerando come valore esatto di\n",
    "pigreco il valore math.pi."
   ]
  },
  {
   "cell_type": "code",
   "execution_count": 62,
   "id": "1fad598f-1fd1-4210-96bd-0dda7684ff9a",
   "metadata": {
    "tags": []
   },
   "outputs": [
    {
     "data": {
      "image/png": "[encoded data removed]",
      "text/plain": [
       "<Figure size 640x480 with 1 Axes>"
      ]
     },
     "metadata": {},
     "output_type": "display_data"
    },
    {
     "name": "stdout",
     "output_type": "stream",
     "text": [
      "res di pi_fun:  [0.         2.         2.82842712 3.06146746 3.12144515 3.13654849\n",
      " 3.14033116 3.14127725 3.1415138  3.14157294 3.14158773 3.14159142\n",
      " 3.14159235 3.14159258 3.14159263 3.14159265 3.14159265 3.14159265\n",
      " 3.14159265 3.14159265 3.14159265 3.14159265 3.14159265 3.14159265\n",
      " 3.14159265 3.14159265 3.14159265 3.14159265 3.14159265 3.14159265]\n",
      "errore: [1.00000000e+00 3.63380228e-01 9.96836838e-02 2.55046416e-02\n",
      " 6.41314886e-03 1.60560696e-03 4.01546850e-04 1.00395784e-04\n",
      " 2.50995129e-05 6.27491367e-06 1.56873063e-06 3.92182797e-07\n",
      " 9.80457077e-08 2.45114274e-08 6.12785681e-09 1.53196420e-09\n",
      " 3.82991086e-10 9.57477008e-11 2.39368545e-11 5.98410761e-12\n",
      " 1.49585021e-12 3.73750515e-13 9.31549127e-14 2.28999937e-14\n",
      " 5.37160346e-15 9.89505901e-16 1.41357986e-16 4.24073958e-16\n",
      " 5.65431943e-16 5.65431943e-16]\n"
     ]
    }
   ],
   "source": [
    "import math\n",
    "import matplotlib.pyplot as plt\n",
    "def pi_fun(n):\n",
    "    b = np.zeros(n)\n",
    "    s = np.zeros(n)\n",
    "    p = np.zeros(n)\n",
    "    b[0] = 2\n",
    "    s[0] = 1\n",
    "    for i in range(1,n):\n",
    "        p[i]=b[i-1]*s[i-1]\n",
    "        b[i]=2*b[i-1]\n",
    "        #s[i]=math.sqrt((1.0-math.sqrt(1-s[i-1]**2))/2.0) # versione \"errata\"\n",
    "        s[i]=math.sqrt((s[i-1]**2)/(2*(1+math.sqrt(1-s[i-1]**2)))) # Versione \"revisionata\"\n",
    "        #plt.plot(np.arange(1,n),p[1:n])\n",
    "        \n",
    "    return(p)\n",
    "\n",
    "plt.plot(np.abs((math.pi-pi_fun(34))/(math.pi)), 'r-o')\n",
    "plt.grid(True)\n",
    "plt.xlabel('iterazioni')\n",
    "plt.ylabel('errore')\n",
    "plt.show()\n",
    "\n",
    "print(\"res di pi_fun: \", pi_fun(30))\n",
    "print(\"errore:\", np.abs((math.pi-pi_fun(30))/(math.pi)))"
   ]
  },
  {
   "cell_type": "markdown",
   "id": "b7609125-16d1-4652-8945-8128d7ba1ca4",
   "metadata": {},
   "source": [
    "## Esercizio 3   \n",
    "Si consideri lo sviluppo in serie dell'esponenziale $e^x=1+x+\\frac{1}{2!}x^2+\\frac{1}{3!}x^3+\\cdots =\\sum_{k=0}^\\infty \\frac{x^k}{k!} $. Si calcoli un'approssimazione dell'esponenziale troncando ad N=100 termini la serie, per valori di x che variano da -10 a 10 incluso. Si calcoli  per ogni valore di x l'errore relativo del valore approssimato rispetto al valore esatto, ottenuto mediante la funzione exp della libreria numpy. Cosa si osserva? Pensare ad un algoritmo più stabile ricordando che $e^{-x}=\\frac{1}{e^{|x|}}$.\n",
    "\n"
   ]
  },
  {
   "cell_type": "code",
   "execution_count": 1,
   "id": "4e029ee0-1aef-4812-8339-284f800c144c",
   "metadata": {
    "tags": []
   },
   "outputs": [
    {
     "name": "stdout",
     "output_type": "stream",
     "text": [
      "[4.5399929433607724e-05, 0.00012340980401177225, 0.00033546262785295135, 0.0009118819655660274, 0.0024787521766645613, 0.006737946999086907, 0.018315638888734442, 0.049787068367863986, 0.13533528323661276, 0.36787944117144245, 1.0, 2.7182818284590455, 7.389056098930649, 20.08553692318766, 54.598150033144265, 148.41315910257657, 403.4287934927351, 1096.6331584284578, 2980.957987041728, 8103.083927575384, 22026.46579480671]\n"
     ]
    }
   ],
   "source": [
    "import numpy as np\n",
    "import matplotlib.pyplot as plt\n",
    "import math\n",
    "\n",
    "# N sono i valori che vogliamo dentro l'array\n",
    "# x è il valore che varia da [-10,10]\n",
    "\n",
    "all_x = [x for x in range(-10,10+1)]\n",
    "#print(all_x)\n",
    "\n",
    "N = 100\n",
    "s = []\n",
    "tmp = 0\n",
    "# il tmp è una variabile che raccoglie le somme di ogni elemento\n",
    "# e poi si azzera\n",
    "for x in all_x:\n",
    "    # l'elemento x fa parte del range da -10 a 10\n",
    "    \n",
    "    for i in range(N):\n",
    "        tmp += (x**(i))/(math.factorial(i))\n",
    "    s.append(tmp)\n",
    "    tmp = 0\n",
    "    \n",
    "print(s)"
   ]
  },
  {
   "cell_type": "markdown",
   "id": "0205da67-2ed7-4f56-beb7-33b5e38b8216",
   "metadata": {},
   "source": [
    "## Esercizio 4\n",
    "Calcolare l'approssimazione della derivata prima di f(x) = sin(x) in x = 1\n",
    "mediante l'algoritmo del rapporto incrementale (f(x + h) - f(x))/h per valori decrescenti\n",
    "di h, confrontandolo con il valore fornito dalla funzione di libreria per f'(x)\n",
    "mediante calcolo dell'errore relativo."
   ]
  },
  {
   "cell_type": "markdown",
   "id": "abac6a8f-c24b-4b1b-9a3f-71dc3f44fca5",
   "metadata": {},
   "source": [
    "## Esercizio 5\n",
    "Valutazione di un polinomio in un vettore di punti\n",
    "-   Realizzare una function  che mediante lo schema di Horner  valuti un polinomio in un vettore di punti.\n",
    "-   Realizzare una function  che utilizzi l’algoritmo classico per valutare un polinomio in un vettore di punti.\n",
    "-   Valutare   i seguenti polinomi, con i due metodi implementati nei punti precedenti,  sul vettore di punti specificato  e  rappresentarli graficamente. Confrontarne i tempi \n",
    "\n",
    "         p(x)=x^8-16x^7+112x^6-448x^5+1120x^4-1792x^3+1792x^2-1024x+256  da valutare su vettore di  1000000 punti equidistanti in [1.8,2.2]\n",
    "         p(x)= x^11 –8 x^9 +28 x^6 –7 x^4 +12 x^3 –4 x +1   da valutare su vettore di 1000000  punti in [-5:5]\n",
    "         \n",
    "Cosa conferma questo esperimento?\n"
   ]
  },
  {
   "cell_type": "markdown",
   "id": "eb1590d6-07fb-4447-995d-cfedd5d3a613",
   "metadata": {},
   "source": [
    "## Esercizio 6\n",
    "Realizzare un codice python che calcola il valore del polinomio p(x)=(x-2)^8 utilizzando le formule\n",
    "\n",
    "    p=x^8-16x^7+112x^6-448x^5+1120x^4-1792x^3+1792x^2-1024x+256;\n",
    "    p(x)=(x-2)^8\n",
    "    e lo schema di Horner\n",
    "\n",
    "e ne realizza il grafico in un vettore di 10000 equidistanti nell’intervallo [1.8,2.2], [1.9, 2.1],  [1.92,2.08], [1.93,2.07], [1.94,2.06] Spiegare il comportamento osservato. Cosa succede al restringersi dell’intervallo intorno al valore 2, punto in cui questo polinomio si annulla?\n"
   ]
  }
 ],
 "metadata": {
  "kernelspec": {
   "display_name": "Python 3 (ipykernel)",
   "language": "python",
   "name": "python3"
  },
  "language_info": {
   "codemirror_mode": {
    "name": "ipython",
    "version": 3
   },
   "file_extension": ".py",
   "mimetype": "text/x-python",
   "name": "python",
   "nbconvert_exporter": "python",
   "pygments_lexer": "ipython3",
   "version": "3.11.3"
  }
 },
 "nbformat": 4,
 "nbformat_minor": 5
}
